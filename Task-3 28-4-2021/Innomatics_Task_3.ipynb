{
  "nbformat": 4,
  "nbformat_minor": 0,
  "metadata": {
    "colab": {
      "name": "Innomatics Task-3.ipynb",
      "provenance": []
    },
    "kernelspec": {
      "name": "python3",
      "display_name": "Python 3"
    },
    "language_info": {
      "name": "python"
    }
  },
  "cells": [
    {
      "cell_type": "markdown",
      "metadata": {
        "id": "m3dGTfA6wFyw"
      },
      "source": [
        "### **Problem - 1 : Polar Coordinates**\n",
        " You are given a complex . Your task is to convert it to polar coordinates.\n",
        "\n",
        "Input Format\n",
        "\n",
        "A single line containing the complex number . Note: complex() function can be used in python to convert the input as a complex number.\n",
        "\n",
        "Constraints\n",
        "\n",
        "Given number is a valid complex number\n",
        "\n",
        "Output Format\n",
        "\n",
        "Output two lines:\n",
        "The first line should contain the value of .\n",
        "The second line should contain the value of .\n",
        "\n",
        "Sample Input\n",
        "\n",
        "  1+2j\n",
        "Sample Output\n",
        "\n",
        " 2.23606797749979 \n",
        " 1.1071487177940904\n",
        "Note: The output should be correct up to 3 decimal places."
      ]
    },
    {
      "cell_type": "code",
      "metadata": {
        "colab": {
          "base_uri": "https://localhost:8080/"
        },
        "id": "IrBBmtuatA6T",
        "outputId": "5b26d18a-2f8e-4e6a-cbc0-3b8d9771d5a6"
      },
      "source": [
        "import cmath\n",
        "\n",
        "r = complex(input())\n",
        "\n",
        "print(cmath.polar(r)[0])\n",
        "print(cmath.polar(r)[1])\n"
      ],
      "execution_count": 4,
      "outputs": [
        {
          "output_type": "stream",
          "text": [
            "1+2j\n",
            "2.23606797749979\n",
            "1.1071487177940904\n"
          ],
          "name": "stdout"
        }
      ]
    },
    {
      "cell_type": "markdown",
      "metadata": {
        "id": "pP6bfXumzcEC"
      },
      "source": [
        "### **Problem -2 : Find Angle MBC**\n",
        "\n",
        " is a right triangle,  at .\n",
        "Therefore, .\n",
        "\n",
        "Point  is the midpoint of hypotenuse .\n",
        "\n",
        "You are given the lengths  and .\n",
        "Your task is to find  (angle , as shown in the figure) in degrees.\n",
        "\n",
        "Input Format\n",
        "\n",
        "The first line contains the length of side .\n",
        "The second line contains the length of side .\n",
        "\n",
        "Constraints\n",
        "\n",
        "\n",
        "Lengths  and  are natural numbers.\n",
        "Output Format\n",
        "\n",
        "Output  in degrees.\n",
        "\n",
        "Note: Round the angle to the nearest integer.\n",
        "\n",
        "Examples:\n",
        "If angle is 56.5000001°, then output 57°.\n",
        "If angle is 56.5000000°, then output 57°.\n",
        "If angle is 56.4999999°, then output 56°.\n",
        "\n",
        "\n",
        "Sample Input\n",
        "\n",
        "10\n",
        "10\n",
        "Sample Output\n",
        "\n",
        "45°"
      ]
    },
    {
      "cell_type": "code",
      "metadata": {
        "colab": {
          "base_uri": "https://localhost:8080/"
        },
        "id": "aMe7oUrnx6m_",
        "outputId": "bd9b1ed4-a424-4647-d1ca-c35ac0f15bed"
      },
      "source": [
        "import math\n",
        "\n",
        "side_AB = int(input())\n",
        "side_BC = int(input())\n",
        "\n",
        "hypotesis=math.hypot(side_AB,side_BC)   \n",
        "                   \n",
        "degree_hypotesis=round(math.degrees(math.acos(side_BC/hypotesis))) \n",
        "\n",
        "degree=chr(176)      \n",
        "                          \n",
        "print(degree_hypotesis,degree, sep='')\n"
      ],
      "execution_count": 6,
      "outputs": [
        {
          "output_type": "stream",
          "text": [
            "10\n",
            "10\n",
            "45°\n"
          ],
          "name": "stdout"
        }
      ]
    },
    {
      "cell_type": "markdown",
      "metadata": {
        "id": "AjGD379u49tZ"
      },
      "source": [
        "### **Problem - 3:  Triangle Quest 2**\n",
        "\n",
        "You are given a positive integer .\n",
        "Your task is to print a palindromic triangle of size .\n",
        "\n",
        "For example, a palindromic triangle of size  is:\n",
        "\n",
        "1\n",
        "121\n",
        "12321\n",
        "1234321\n",
        "123454321\n",
        "You can't take more than two lines. The first line (a for-statement) is already written for you.\n",
        "You have to complete the code using exactly one print statement.\n",
        "\n",
        "Note:\n",
        "Using anything related to strings will give a score of .\n",
        "Using more than one for-statement will give a score of .\n",
        "\n",
        "Input Format\n",
        "\n",
        "A single line of input containing the integer .\n",
        "\n",
        "Constraints\n",
        "\n",
        "Output Format\n",
        "\n",
        "Print the palindromic triangle of size  as explained above.\n",
        "\n",
        "Sample Input\n",
        "\n",
        "5\n",
        "Sample Output\n",
        "\n",
        "1\n",
        "121\n",
        "12321\n",
        "1234321\n",
        "123454321\n"
      ]
    },
    {
      "cell_type": "code",
      "metadata": {
        "colab": {
          "base_uri": "https://localhost:8080/"
        },
        "id": "o1Lz27Cw2gfq",
        "outputId": "a1720279-8c85-4f10-ef52-14d291ff31a2"
      },
      "source": [
        "for i in range(1,int(input())+1): \n",
        "  print (((10**i - 1)//9)**2)\n"
      ],
      "execution_count": 7,
      "outputs": [
        {
          "output_type": "stream",
          "text": [
            "5\n",
            "1\n",
            "121\n",
            "12321\n",
            "1234321\n",
            "123454321\n"
          ],
          "name": "stdout"
        }
      ]
    },
    {
      "cell_type": "markdown",
      "metadata": {
        "id": "11UNvrmV5pjv"
      },
      "source": [
        "### **Problem - 4: Mod Divmod**\n",
        "\n",
        "One of the built-in functions of Python is divmod, which takes two arguments  and  and returns a tuple containing the quotient of  first and then the remainder .\n",
        "\n",
        "For example:\n",
        "\n",
        ">>> print divmod(177,10)\n",
        "(17, 7)\n",
        "Here, the integer division is 177/10 => 17 and the modulo operator is 177%10 => 7.\n",
        "\n",
        "Task\n",
        "Read in two integers,  and , and print three lines.\n",
        "The first line is the integer division  (While using Python2 remember to import division from __future__).\n",
        "The second line is the result of the modulo operator: .\n",
        "The third line prints the divmod of  and .\n",
        "\n",
        "Input Format\n",
        "The first line contains the first integer, , and the second line contains the second integer, .\n",
        "\n",
        "Output Format\n",
        "Print the result as described above.\n",
        "\n",
        "Sample Input\n",
        "\n",
        "177\n",
        "10\n",
        "Sample Output\n",
        "\n",
        "17\n",
        "7\n",
        "(17, 7)"
      ]
    },
    {
      "cell_type": "code",
      "metadata": {
        "colab": {
          "base_uri": "https://localhost:8080/"
        },
        "id": "ln-JARB23XCX",
        "outputId": "452d30c4-e1fd-4d0b-c30f-7aaf6ac6d172"
      },
      "source": [
        "num1 = int(input(\"\"))\n",
        "num2 = int(input(\"\"))\n",
        "print('{}\\n{}\\n{}'.format((num1//num2),(num1%num2),divmod(num1,num2)))"
      ],
      "execution_count": 8,
      "outputs": [
        {
          "output_type": "stream",
          "text": [
            "177\n",
            "10\n",
            "17\n",
            "7\n",
            "(17, 7)\n"
          ],
          "name": "stdout"
        }
      ]
    },
    {
      "cell_type": "markdown",
      "metadata": {
        "id": "4_gYPvHN6b7x"
      },
      "source": [
        "### **Problem - 5 : Power Mod Power**\n",
        "\n",
        "So far, we have only heard of Python's powers. Now, we will witness them!\n",
        "\n",
        "Powers or exponents in Python can be calculated using the built-in power function. Call the power function  as shown below:\n",
        "\n",
        ">>> pow(a,b) \n",
        "or\n",
        "\n",
        ">>> a**b\n",
        "It's also possible to calculate .\n",
        "\n",
        ">>> pow(a,b,m)  \n",
        "This is very helpful in computations where you have to print the resultant % mod.\n",
        "\n",
        "Note: Here,  and  can be floats or negatives, but, if a third argument is present,  cannot be negative.\n",
        "\n",
        "Note: Python has a math module that has its own pow(). It takes two arguments and returns a float. It is uncommon to use math.pow().\n",
        "\n",
        "Task\n",
        "You are given three integers: , , and . Print two lines.\n",
        "On the first line, print the result of pow(a,b). On the second line, print the result of pow(a,b,m).\n",
        "\n",
        "Input Format\n",
        "The first line contains , the second line contains , and the third line contains .\n",
        "\n",
        "Constraints\n",
        "\n",
        "\n",
        "\n",
        "Sample Input\n",
        "\n",
        "3\n",
        "4\n",
        "5\n",
        "Sample Output\n",
        "\n",
        "81\n",
        "1"
      ]
    },
    {
      "cell_type": "code",
      "metadata": {
        "colab": {
          "base_uri": "https://localhost:8080/"
        },
        "id": "UtyO5P6256Wi",
        "outputId": "c9c893c3-1401-46c0-ecf1-ba54a902bd47"
      },
      "source": [
        "num1 = int(input(\"\"))\n",
        "num2 = int(input(\"\"))\n",
        "num3 = int(input(\"\"))\n",
        "print(num1**num2)\n",
        "print(num1**num2%num3)"
      ],
      "execution_count": 9,
      "outputs": [
        {
          "output_type": "stream",
          "text": [
            "3\n",
            "4\n",
            "5\n",
            "81\n",
            "1\n"
          ],
          "name": "stdout"
        }
      ]
    },
    {
      "cell_type": "markdown",
      "metadata": {
        "id": "fiUEhJ34-QLy"
      },
      "source": [
        "### **Problem - 6 : Integers Come In All Sizes**\n",
        "\n",
        "Integers in Python can be as big as the bytes in your machine's memory. There is no limit in size as there is:  (c++ int) or  (C++ long long int).\n",
        "\n",
        "As we know, the result of  grows really fast with increasing .\n",
        "\n",
        "Let's do some calculations on very large integers.\n",
        "\n",
        "Task\n",
        "Read four numbers, , , , and , and print the result of .\n",
        "\n",
        "Input Format\n",
        "Integers , , , and  are given on four separate lines, respectively.\n",
        "\n",
        "Constraints\n",
        "\n",
        "\n",
        "\n",
        "\n",
        "Output Format\n",
        "Print the result of  on one line.\n",
        "\n",
        "Sample Input\n",
        "\n",
        "9\n",
        "29\n",
        "7\n",
        "27\n",
        "Sample Output\n",
        "\n",
        "4710194409608608369201743232  \n",
        "Note: This result is bigger than . Hence, it won't fit in the long long int of C++ or a 64-bit integer."
      ]
    },
    {
      "cell_type": "code",
      "metadata": {
        "colab": {
          "base_uri": "https://localhost:8080/"
        },
        "id": "UkclkHNv8T0f",
        "outputId": "36bda229-4444-4a02-bd73-9631c7a3843b"
      },
      "source": [
        "num1 = int(input(\"\"))\n",
        "num2 = int(input(\"\"))\n",
        "num3 = int(input(\"\"))\n",
        "num4 = int(input(\"\"))\n",
        "print(num1**num2+num3**num4)"
      ],
      "execution_count": 10,
      "outputs": [
        {
          "output_type": "stream",
          "text": [
            "9\n",
            "29\n",
            "7\n",
            "27\n",
            "4710194409608608369201743232\n"
          ],
          "name": "stdout"
        }
      ]
    },
    {
      "cell_type": "markdown",
      "metadata": {
        "id": "25vIuS7R__s2"
      },
      "source": [
        "### **Problem - 7: Triangle Quest**\n",
        "\n",
        "\n",
        "\n",
        "You are given a positive integer . Print a numerical triangle of height  like the one below:\n",
        "\n",
        "1\n",
        "22\n",
        "333\n",
        "4444\n",
        "55555\n",
        "......\n",
        "Can you do it using only arithmetic operations, a single for loop and print statement?\n",
        "\n",
        "Use no more than two lines. The first line (the for statement) is already written for you. You have to complete the print statement.\n",
        "\n",
        "Note: Using anything related to strings will give a score of .\n",
        "\n",
        "Input Format\n",
        "A single line containing integer, .\n",
        "\n",
        "Constraints\n",
        "\n",
        "Output Format\n",
        "Print  lines as explained above.\n",
        "\n",
        "Sample Input\n",
        "\n",
        "5\n",
        "Sample Output\n",
        "\n",
        "1\n",
        "22\n",
        "333\n",
        "4444"
      ]
    },
    {
      "cell_type": "code",
      "metadata": {
        "colab": {
          "base_uri": "https://localhost:8080/"
        },
        "id": "yRXOoH0N9epO",
        "outputId": "a4d00aed-80c5-42bc-a6c6-4ebaa4019105"
      },
      "source": [
        "for i in range(1,int(input())):\n",
        "    print((10**(i)//9)*i)"
      ],
      "execution_count": 17,
      "outputs": [
        {
          "output_type": "stream",
          "text": [
            "8\n",
            "1\n",
            "22\n",
            "333\n",
            "4444\n",
            "55555\n",
            "666666\n",
            "7777777\n"
          ],
          "name": "stdout"
        }
      ]
    },
    {
      "cell_type": "code",
      "metadata": {
        "id": "2iBbQuQK_FoP"
      },
      "source": [
        ""
      ],
      "execution_count": null,
      "outputs": []
    }
  ]
}