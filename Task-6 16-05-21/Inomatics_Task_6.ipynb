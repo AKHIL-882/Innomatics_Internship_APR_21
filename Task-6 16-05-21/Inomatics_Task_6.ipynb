{
  "nbformat": 4,
  "nbformat_minor": 0,
  "metadata": {
    "colab": {
      "name": "Inomatics Task-6.ipynb",
      "provenance": []
    },
    "kernelspec": {
      "name": "python3",
      "display_name": "Python 3"
    },
    "language_info": {
      "name": "python"
    },
    "accelerator": "GPU"
  },
  "cells": [
    {
      "cell_type": "markdown",
      "metadata": {
        "id": "gQCPctWXWs9c"
      },
      "source": [
        "### **Problem - 1: Array**\n",
        "\n",
        "Task\n",
        "\n",
        "You are given a space separated list of numbers.\n",
        "Your task is to print a reversed NumPy array with the element type float.\n",
        "\n",
        "Input Format\n",
        "\n",
        "A single line of input containing space separated numbers.\n",
        "\n",
        "Output Format\n",
        "\n",
        "Print the reverse NumPy array with type float.\n",
        "\n",
        "Sample Input\n",
        "\n",
        "1 2 3 4 -8 -10\n",
        "Sample Output\n",
        "\n",
        "[-10.  -8.   4.   3.   2.   1.]"
      ]
    },
    {
      "cell_type": "code",
      "metadata": {
        "colab": {
          "base_uri": "https://localhost:8080/"
        },
        "id": "4SPF2cwbVI_X",
        "outputId": "9a055c47-e559-46cd-b189-6af1460dfb1a"
      },
      "source": [
        "import numpy\n",
        "\n",
        "def arrays(arr):\n",
        "    return(numpy.array(arr[::-1], float))\n",
        "\n",
        "arr = input().strip().split(' ')\n",
        "result = arrays(arr)\n",
        "print(result)"
      ],
      "execution_count": null,
      "outputs": [
        {
          "output_type": "stream",
          "text": [
            "1 2 3 4 -8 -10\n",
            "[-10.  -8.   4.   3.   2.   1.]\n"
          ],
          "name": "stdout"
        }
      ]
    },
    {
      "cell_type": "markdown",
      "metadata": {
        "id": "5AnEOOyeWmgS"
      },
      "source": [
        "### **Problem-2: Shape and Reshape**\n",
        "You are given a space separated list of nine integers. Your task is to convert this list into a X NumPy array.\n",
        "\n",
        "Input Format\n",
        "\n",
        "A single line of input containing  space separated integers.\n",
        "\n",
        "Output Format\n",
        "\n",
        "Print the X NumPy array.\n",
        "\n",
        "Sample Input\n",
        "\n"
      ]
    },
    {
      "cell_type": "code",
      "metadata": {
        "id": "ydAXZ3EznOw_",
        "colab": {
          "base_uri": "https://localhost:8080/"
        },
        "outputId": "1edc8c06-3267-4935-f3d7-43329112a460"
      },
      "source": [
        "import numpy as np\n",
        "l=[]\n",
        "for i in range(9):\n",
        "  val = int(input())\n",
        "  l.append(val)\n",
        "my_array = np.array(l)\n",
        "print(np.reshape(my_array,(3,3)))\n",
        " "
      ],
      "execution_count": null,
      "outputs": [
        {
          "output_type": "stream",
          "text": [
            "1\n",
            "2\n",
            "3\n",
            "4\n",
            "5\n",
            "6\n",
            "7\n",
            "8\n",
            "9\n",
            "[[1 2 3]\n",
            " [4 5 6]\n",
            " [7 8 9]]\n"
          ],
          "name": "stdout"
        }
      ]
    },
    {
      "cell_type": "markdown",
      "metadata": {
        "id": "7UjyXTITsKmj"
      },
      "source": [
        "### **Problem-3: Transpose and Flatten**\n",
        "\n",
        "You are given a X integer array matrix with space separated elements ( = rows and  = columns).\n",
        "Your task is to print the transpose and flatten results.\n",
        "\n",
        "Input Format\n",
        "\n",
        "The first line contains the space separated values of  and .\n",
        "The next  lines contains the space separated elements of  columns.\n",
        "\n",
        "Output Format\n",
        "\n",
        "First, print the transpose array and then print the flatten.\n",
        "\n",
        "Sample Input\n",
        "\n",
        "2 2\n",
        "1 2\n",
        "3 4\n",
        "Sample Output\n",
        "\n",
        "[[1 3]\n",
        " [2 4]]\n",
        "[1 2 3 4]"
      ]
    },
    {
      "cell_type": "code",
      "metadata": {
        "colab": {
          "base_uri": "https://localhost:8080/"
        },
        "id": "xtJCfH7rsKC7",
        "outputId": "ec9f52f8-a1b7-41f8-89ba-2e9bb5a395ab"
      },
      "source": [
        "import numpy\n",
        "row, col = map(int, input().split())\n",
        "mat = numpy.array([input().strip().split() for i in range(row)], int)\n",
        "print (mat.transpose())\n",
        "print (mat.flatten())"
      ],
      "execution_count": null,
      "outputs": [
        {
          "output_type": "stream",
          "text": [
            "2 2\n",
            "1 2\n",
            "3 4\n",
            "[[1 3]\n",
            " [2 4]]\n",
            "[1 2 3 4]\n"
          ],
          "name": "stdout"
        }
      ]
    },
    {
      "cell_type": "markdown",
      "metadata": {
        "id": "eSuNL3qVx-ES"
      },
      "source": [
        "### **Problem-4: Concatenate**\n",
        "Task\n",
        "\n",
        "You are given two integer arrays of size X and X ( &  are rows, and  is the column). Your task is to concatenate the arrays along axis .\n",
        "\n",
        "Input Format\n",
        "\n",
        "The first line contains space separated integers ,  and .\n",
        "The next  lines contains the space separated elements of the  columns.\n",
        "After that, the next  lines contains the space separated elements of the  columns.\n",
        "\n",
        "Output Format\n",
        "\n",
        "Print the concatenated array of size X.\n",
        "\n",
        "Sample Input\n",
        "\n",
        "4 3 2\n",
        "1 2\n",
        "1 2 \n",
        "1 2\n",
        "1 2\n",
        "3 4\n",
        "3 4\n",
        "3 4 \n",
        "Sample Output\n",
        "\n",
        "[[1 2]\n",
        " [1 2]\n",
        " [1 2]\n",
        " [1 2]\n",
        " [3 4]\n",
        " [3 4]\n",
        " [3 4]] \n"
      ]
    },
    {
      "cell_type": "code",
      "metadata": {
        "colab": {
          "base_uri": "https://localhost:8080/"
        },
        "id": "380ijKfux9Oz",
        "outputId": "6186aab9-5e29-4403-feff-b28d42a7908f"
      },
      "source": [
        "import numpy as np\n",
        "m, n, p = map(int,input().split())\n",
        "val1 = np.array([input().split() for i in range(m)],int)\n",
        "val2 = np.array([input().split() for i in range(n)],int)\n",
        "print(np.concatenate((val1, val2), axis = 0))"
      ],
      "execution_count": null,
      "outputs": [
        {
          "output_type": "stream",
          "text": [
            "4 3 2\n",
            "1 2\n",
            "1 2\n",
            "1 2\n",
            "1 2\n",
            "3 4\n",
            "3 4\n",
            "3 4\n",
            "[[1 2]\n",
            " [1 2]\n",
            " [1 2]\n",
            " [1 2]\n",
            " [3 4]\n",
            " [3 4]\n",
            " [3 4]]\n"
          ],
          "name": "stdout"
        }
      ]
    },
    {
      "cell_type": "markdown",
      "metadata": {
        "id": "UwJYhGVn01sN"
      },
      "source": [
        "### **Problem-5: Zeros and Ones**\n",
        "Task\n",
        "\n",
        "You are given the shape of the array in the form of space-separated integers, each integer representing the size of different dimensions, your task is to print an array of the given shape and integer type using the tools numpy.zeros and numpy.ones.\n",
        "\n",
        "Input Format\n",
        "\n",
        "A single line containing the space-separated integers.\n",
        "\n",
        "Constraints\n",
        "\n",
        "\n",
        "Output Format\n",
        "\n",
        "First, print the array using the numpy.zeros tool and then print the array with the numpy.ones tool.\n",
        "\n",
        "Sample Input 0\n",
        "\n",
        "3 3 3\n",
        "Sample Output 0\n",
        "\n",
        "[[[0 0 0]\n",
        "  [0 0 0]\n",
        "  [0 0 0]]\n",
        "\n",
        " [[0 0 0]\n",
        "  [0 0 0]\n",
        "  [0 0 0]]\n",
        "\n",
        " [[0 0 0]\n",
        "  [0 0 0]\n",
        "  [0 0 0]]]\n",
        "[[[1 1 1]\n",
        "  [1 1 1]\n",
        "  [1 1 1]]\n",
        "\n",
        " [[1 1 1]\n",
        "  [1 1 1]\n",
        "  [1 1 1]]\n",
        "\n",
        " [[1 1 1]\n",
        "  [1 1 1]\n",
        "  [1 1 1]]]\n",
        "Explanation 0\n",
        "\n",
        "Print the array built using numpy.zeros and numpy.ones tools and you get the result as shown.\n"
      ]
    },
    {
      "cell_type": "code",
      "metadata": {
        "colab": {
          "base_uri": "https://localhost:8080/"
        },
        "id": "liwI-K4MoPq9",
        "outputId": "a20947f4-56e1-4a62-dc43-7c29b108fc9f"
      },
      "source": [
        "import numpy as np\n",
        "n = tuple(map(int, input().split()))\n",
        "print (np.zeros(n, dtype = np.int))\n",
        "print (np.ones(n, dtype = np.int))"
      ],
      "execution_count": null,
      "outputs": [
        {
          "output_type": "stream",
          "text": [
            "3 3 3\n",
            "[[[0 0 0]\n",
            "  [0 0 0]\n",
            "  [0 0 0]]\n",
            "\n",
            " [[0 0 0]\n",
            "  [0 0 0]\n",
            "  [0 0 0]]\n",
            "\n",
            " [[0 0 0]\n",
            "  [0 0 0]\n",
            "  [0 0 0]]]\n",
            "[[[1 1 1]\n",
            "  [1 1 1]\n",
            "  [1 1 1]]\n",
            "\n",
            " [[1 1 1]\n",
            "  [1 1 1]\n",
            "  [1 1 1]]\n",
            "\n",
            " [[1 1 1]\n",
            "  [1 1 1]\n",
            "  [1 1 1]]]\n"
          ],
          "name": "stdout"
        }
      ]
    },
    {
      "cell_type": "markdown",
      "metadata": {
        "id": "5a5jAD6X2uwl"
      },
      "source": [
        "### **Problem - 6: Eye and Identity**\n",
        "\n",
        "Task\n",
        "\n",
        "Your task is to print an array of size X with its main diagonal elements as 's and 's everywhere else.\n",
        "\n",
        "Note\n",
        "\n",
        "In order to get alignment correct, please insert the line  below the numpy import.\n",
        "\n",
        "Input Format\n",
        "\n",
        "A single line containing the space separated values of  and .\n",
        " denotes the rows.\n",
        " denotes the columns.\n",
        "\n",
        "Output Format\n",
        "\n",
        "Print the desired X array.\n",
        "\n",
        "Sample Input\n",
        "\n",
        "3 3\n",
        "Sample Output\n",
        "\n",
        "[[ 1.  0.  0.]\n",
        " [ 0.  1.  0.]\n",
        " [ 0.  0.  1.]]\n"
      ]
    },
    {
      "cell_type": "code",
      "metadata": {
        "colab": {
          "base_uri": "https://localhost:8080/"
        },
        "id": "Q1v41SxI2T7l",
        "outputId": "ebf643f1-00fc-465e-d503-e9745b66a987"
      },
      "source": [
        "import numpy as np\n",
        "n, m = map(int, input().split())\n",
        "print(np.eye(n, m))"
      ],
      "execution_count": null,
      "outputs": [
        {
          "output_type": "stream",
          "text": [
            "3 3\n",
            "[[1. 0. 0.]\n",
            " [0. 1. 0.]\n",
            " [0. 0. 1.]]\n"
          ],
          "name": "stdout"
        }
      ]
    },
    {
      "cell_type": "markdown",
      "metadata": {
        "id": "0kZAGHw-7DP9"
      },
      "source": [
        "### **Problem-7: Array Mathematics**\n",
        "\n",
        "Task\n",
        "\n",
        "You are given two integer arrays,  and  of dimensions X.\n",
        "Your task is to perform the following operations:\n",
        "\n",
        "Add ( + )\n",
        "Subtract ( - )\n",
        "Multiply ( * )\n",
        "Integer Division ( / )\n",
        "Mod ( % )\n",
        "Power ( ** )\n",
        "Note\n",
        "There is a method numpy.floor_divide() that works like numpy.divide() except it performs a floor division.\n",
        "\n",
        "Input Format\n",
        "\n",
        "The first line contains two space separated integers,  and .\n",
        "The next  lines contains  space separated integers of array .\n",
        "The following  lines contains  space separated integers of array .\n",
        "\n",
        "Output Format\n",
        "\n",
        "Print the result of each operation in the given order under Task.\n",
        "\n",
        "Sample Input\n",
        "\n",
        "1 4\n",
        "1 2 3 4\n",
        "5 6 7 8\n",
        "Sample Output\n",
        "\n",
        "[[ 6  8 10 12]]\n",
        "[[-4 -4 -4 -4]]\n",
        "[[ 5 12 21 32]]\n",
        "[[0 0 0 0]]\n",
        "[[1 2 3 4]]\n",
        "[[    1    64  2187 65536]] \n",
        "Use // for division in Python 3.\n"
      ]
    },
    {
      "cell_type": "code",
      "metadata": {
        "colab": {
          "base_uri": "https://localhost:8080/"
        },
        "id": "RW-g4VWR3pJ4",
        "outputId": "4a0ce08c-4d84-40b3-ba9f-d8aa98e9d604"
      },
      "source": [
        "import numpy as np\n",
        "num1, num2 = map(int, input().split())\n",
        "arr1, arr2 = (np.array([input().split() for i in range(num1)], dtype=int) for i in range(2))\n",
        "print(arr1 + arr2, arr1 - arr2, arr1*arr2, arr1//arr2, arr1%arr2, arr1**arr2, sep='\\n')"
      ],
      "execution_count": null,
      "outputs": [
        {
          "output_type": "stream",
          "text": [
            "1 4\n",
            "1 2 3 4\n",
            "5 6 7 8\n",
            "[[ 6  8 10 12]]\n",
            "[[-4 -4 -4 -4]]\n",
            "[[ 5 12 21 32]]\n",
            "[[0 0 0 0]]\n",
            "[[1 2 3 4]]\n",
            "[[    1    64  2187 65536]]\n"
          ],
          "name": "stdout"
        }
      ]
    },
    {
      "cell_type": "markdown",
      "metadata": {
        "id": "jF77dzLQCVr-"
      },
      "source": [
        "### **Problem - 8: Floor, Ceil and Rint**\n",
        "A single line of input containing the space separated elements of array .\n",
        "\n",
        "Output Format\n",
        "\n",
        "On the first line, print the  of A.\n",
        "On the second line, print the  of A.\n",
        "On the third line, print the  of A.\n",
        "\n",
        "Sample Input\n",
        "\n",
        "1.1 2.2 3.3 4.4 5.5 6.6 7.7 8.8 9.9\n",
        "Sample Output\n",
        "\n",
        "[ 1.  2.  3.  4.  5.  6.  7.  8.  9.]\n",
        "[  2.   3.   4.   5.   6.   7.   8.   9.  10.]\n",
        "[  1.   2.   3.   4.   6.   7.   8.   9.  10.]\n"
      ]
    },
    {
      "cell_type": "code",
      "metadata": {
        "colab": {
          "base_uri": "https://localhost:8080/"
        },
        "id": "-536eQCU9kDt",
        "outputId": "22fb5efd-b144-4cbe-eed2-ef5e91323f78"
      },
      "source": [
        "import numpy\n",
        "\n",
        "a = numpy.array(input().split(),float)\n",
        "\n",
        "print(numpy.floor(a))\n",
        "print(numpy.ceil(a))\n",
        "print(numpy.rint(a))"
      ],
      "execution_count": null,
      "outputs": [
        {
          "output_type": "stream",
          "text": [
            "1.1 2.2 3.3 4.4 5.5 6.6 7.7 8.8 9.9\n",
            "[1. 2. 3. 4. 5. 6. 7. 8. 9.]\n",
            "[ 2.  3.  4.  5.  6.  7.  8.  9. 10.]\n",
            "[ 1.  2.  3.  4.  6.  7.  8.  9. 10.]\n"
          ],
          "name": "stdout"
        }
      ]
    },
    {
      "cell_type": "markdown",
      "metadata": {
        "id": "dcTJXW-AEs5c"
      },
      "source": [
        "### **Problem-9: Sum and Prod**\n",
        "Task\n",
        "\n",
        "You are given a 2-D array with dimensions X.\n",
        "Your task is to perform the  tool over axis  and then find the  of that result.\n",
        "\n",
        "Input Format\n",
        "\n",
        "The first line of input contains space separated values of  and .\n",
        "The next  lines contains  space separated integers.\n",
        "\n",
        "Output Format\n",
        "\n",
        "Compute the sum along axis . Then, print the product of that sum.\n",
        "\n",
        "Sample Input\n",
        "\n",
        "2 2\n",
        "1 2\n",
        "3 4\n",
        "Sample Output\n",
        "\n",
        "24\n",
        "Explanation\n",
        "\n",
        "The sum along axis  = [ ]\n",
        "The product of this sum = \n"
      ]
    },
    {
      "cell_type": "code",
      "metadata": {
        "colab": {
          "base_uri": "https://localhost:8080/"
        },
        "id": "899_83c_EsdW",
        "outputId": "865308a7-aad8-4993-fc7c-1522816c1419"
      },
      "source": [
        "import numpy as np\n",
        "\n",
        "num1, num2 = map(int, input().split())\n",
        "arr1 = np.array([input().split() for i in range(num1)],int)\n",
        "print(np.prod(np.sum(arr1, axis=0), axis=0))"
      ],
      "execution_count": null,
      "outputs": [
        {
          "output_type": "stream",
          "text": [
            "2 2\n",
            "1 2\n",
            "3 4\n",
            "24\n"
          ],
          "name": "stdout"
        }
      ]
    },
    {
      "cell_type": "markdown",
      "metadata": {
        "id": "HS75YlM5HmeV"
      },
      "source": [
        "### **Problem -10: Min and Max**\n",
        "Task\n",
        "\n",
        "You are given a 2-D array with dimensions X.\n",
        "Your task is to perform the min function over axis  and then find the max of that.\n",
        "\n",
        "Input Format\n",
        "\n",
        "The first line of input contains the space separated values of  and .\n",
        "The next  lines contains  space separated integers.\n",
        "\n",
        "Output Format\n",
        "\n",
        "Compute the min along axis  and then print the max of that result.\n",
        "\n",
        "Sample Input\n",
        "\n",
        "4 2\n",
        "2 5\n",
        "3 7\n",
        "1 3\n",
        "4 0\n",
        "Sample Output\n",
        "\n",
        "3\n",
        "Explanation\n",
        "\n",
        "The min along axis  = \n",
        "The max of  = "
      ]
    },
    {
      "cell_type": "code",
      "metadata": {
        "colab": {
          "base_uri": "https://localhost:8080/"
        },
        "id": "Z2MmhNFwD6LS",
        "outputId": "caa09ac6-c2a7-44dd-aa9f-13e8ec54aa80"
      },
      "source": [
        "import numpy as np\n",
        "\n",
        "num1, num2 =map(int,input().split())\n",
        "\n",
        "arr1=[list(map(int,input().split())) for i in range(num1)]\n",
        "\n",
        "arr2=np.array(arr1)\n",
        "\n",
        "print(max(np.min(arr2,axis=1)))"
      ],
      "execution_count": null,
      "outputs": [
        {
          "output_type": "stream",
          "text": [
            "4 2\n",
            "2 5\n",
            "3 7\n",
            "1 3\n",
            "4 0\n",
            "3\n"
          ],
          "name": "stdout"
        }
      ]
    },
    {
      "cell_type": "markdown",
      "metadata": {
        "id": "7i9E000JL-ln"
      },
      "source": [
        "### **Problem -11 : Mean, Var and Std**\n",
        "Task\n",
        "\n",
        "You are given a 2-D array of size X.\n",
        "Your task is to find:\n",
        "\n",
        "The mean along axis \n",
        "The var along axis \n",
        "The std along axis \n",
        "Input Format\n",
        "\n",
        "The first line contains the space separated values of  and .\n",
        "The next  lines contains  space separated integers.\n",
        "\n",
        "Output Format\n",
        "\n",
        "First, print the mean.\n",
        "Second, print the var.\n",
        "Third, print the std.\n",
        "\n",
        "Sample Input\n",
        "\n",
        "2 2\n",
        "1 2\n",
        "3 4\n",
        "Sample Output\n",
        "\n",
        "[ 1.5  3.5]\n",
        "[ 1.  1.]\n",
        "1.11803398875"
      ]
    },
    {
      "cell_type": "code",
      "metadata": {
        "colab": {
          "base_uri": "https://localhost:8080/"
        },
        "id": "bZogx05JIJkO",
        "outputId": "a65c64ee-d618-40fc-8883-04f34fb03339"
      },
      "source": [
        "import numpy as np\n",
        "num1 ,num2 = map(int,input().split())\n",
        "arr1 = np.array([input().split() for i in range(num1)], int)\n",
        "print(arr1.mean(axis=1))\n",
        "print(arr1.var(axis=0))\n",
        "print(arr1.std())\n"
      ],
      "execution_count": 1,
      "outputs": [
        {
          "output_type": "stream",
          "text": [
            "2 2\n",
            "1 2\n",
            "3 4\n",
            "[ 1.5  3.5]\n",
            "[ 1.  1.]\n",
            "1.11803398875\n"
          ],
          "name": "stdout"
        }
      ]
    },
    {
      "cell_type": "markdown",
      "metadata": {
        "id": "z8c9LxfgCqVU"
      },
      "source": [
        "### **Problem -12: Dot and Cross**\n",
        "Task\n",
        "\n",
        "You are given two arrays  and . Both have dimensions of X.\n",
        "Your task is to compute their matrix product.\n",
        "\n",
        "Input Format\n",
        "\n",
        "The first line contains the integer .\n",
        "The next  lines contains  space separated integers of array .\n",
        "The following  lines contains  space separated integers of array .\n",
        "\n",
        "Output Format\n",
        "\n",
        "Print the matrix multiplication of  and .\n",
        "\n",
        "Sample Input\n",
        "\n",
        "2\n",
        "1 2\n",
        "3 4\n",
        "1 2\n",
        "3 4\n",
        "Sample Output\n",
        "\n",
        "[[ 7 10]\n",
        " [15 22]]\n",
        "\n"
      ]
    },
    {
      "cell_type": "code",
      "metadata": {
        "id": "zLwLTcj0NoZT",
        "colab": {
          "base_uri": "https://localhost:8080/"
        },
        "outputId": "ff674779-714a-4c30-aae5-733af30e902d"
      },
      "source": [
        "import numpy as np\n",
        "\n",
        "num=int(input())\n",
        "\n",
        "arr1=np.array([list(map(int,input().split())) for i in range(num)])\n",
        "\n",
        "arr2=np.array([list(map(int,input().split())) for i in range(num)])\n",
        "\n",
        "print(np.dot(arr1,arr2))\n"
      ],
      "execution_count": 3,
      "outputs": [
        {
          "output_type": "stream",
          "text": [
            "2\n",
            "1 2\n",
            "3 4\n",
            "1 2\n",
            "3 4\n",
            "[[ 7 10]\n",
            " [15 22]]\n"
          ],
          "name": "stdout"
        }
      ]
    },
    {
      "cell_type": "markdown",
      "metadata": {
        "id": "BA0QLylFDd_r"
      },
      "source": [
        "### **Problem-13: Linear Algebra**\n",
        "You are given a square matrix  with dimensions X. Your task is to find the determinant. Note: Round the answer to 2 places after the decimal.\n",
        "\n",
        "Input Format\n",
        "\n",
        "The first line contains the integer .\n",
        "The next  lines contains the  space separated elements of array .\n",
        "\n",
        "Output Format\n",
        "\n",
        "Print the determinant of .\n",
        "\n",
        "Sample Input\n",
        "\n",
        "2\n",
        "1.1 1.1\n",
        "1.1 1.1\n",
        "Sample Output\n",
        "\n",
        "0.0\n"
      ]
    },
    {
      "cell_type": "code",
      "metadata": {
        "colab": {
          "base_uri": "https://localhost:8080/"
        },
        "id": "Cov8Kpg5DPPx",
        "outputId": "6760944e-ebc0-4831-c3d7-92e70557c5c5"
      },
      "source": [
        "import numpy as np\n",
        "\n",
        "num =int(input())\n",
        "arr = np.array([input().split() for i in range(num)],float)\n",
        "np.set_printoptions(legacy='1.13') #important\n",
        "print(np.linalg.det(arr))"
      ],
      "execution_count": 4,
      "outputs": [
        {
          "output_type": "stream",
          "text": [
            "2\n",
            "1.1 1.1 \n",
            "1.1 1.1\n",
            "0.0\n"
          ],
          "name": "stdout"
        }
      ]
    },
    {
      "cell_type": "markdown",
      "metadata": {
        "id": "PBSRitQNEpSh"
      },
      "source": [
        "### **Problem-14: Polynomials**\n",
        "Task\n",
        "\n",
        "You are given the coefficients of a polynomial .\n",
        "Your task is to find the value of  at point .\n",
        "\n",
        "Input Format\n",
        "\n",
        "The first line contains the space separated value of the coefficients in .\n",
        "The second line contains the value of .\n",
        "\n",
        "Output Format\n",
        "\n",
        "Print the desired value.\n",
        "\n",
        "Sample Input\n",
        "\n",
        "1.1 2 3\n",
        "0\n",
        "Sample Output\n",
        "\n",
        "3.0"
      ]
    },
    {
      "cell_type": "code",
      "metadata": {
        "colab": {
          "base_uri": "https://localhost:8080/"
        },
        "id": "0fAI3SQlEgGt",
        "outputId": "e28fcf97-fab6-4ad6-81c3-9b6f043f3231"
      },
      "source": [
        "import numpy\n",
        "arr = list(map(float, input().split()))\n",
        "print(numpy.polyval(arr, float(input())))"
      ],
      "execution_count": 7,
      "outputs": [
        {
          "output_type": "stream",
          "text": [
            "1.1 2 3\n",
            "0\n",
            "3.0\n"
          ],
          "name": "stdout"
        }
      ]
    },
    {
      "cell_type": "markdown",
      "metadata": {
        "id": "wErY7dZhKUGF"
      },
      "source": [
        "### **Problem - 15: Inner and Outer**\n",
        "\n",
        "You are given two arrays:  and .\n",
        "Your task is to compute their inner and outer product.\n",
        "\n",
        "Input Format\n",
        "\n",
        "The first line contains the space separated elements of array .\n",
        "The second line contains the space separated elements of array .\n",
        "\n",
        "Output Format\n",
        "\n",
        "First, print the inner product.\n",
        "Second, print the outer product.\n",
        "\n",
        "Sample Input\n",
        "\n",
        "0 1\n",
        "2 3\n",
        "Sample Output\n",
        "\n",
        "3\n",
        "[[0 0]\n",
        " [2 3]]"
      ]
    },
    {
      "cell_type": "code",
      "metadata": {
        "colab": {
          "base_uri": "https://localhost:8080/"
        },
        "id": "BtWvvOtSFQ9H",
        "outputId": "203c7c76-6775-491c-8021-947610e11194"
      },
      "source": [
        "import numpy as np\n",
        "arr1 = np.array(input().split(), int)\n",
        "arr2 = np.array(input().split(), int)\n",
        "print(np.inner(arr1,arr2), np.outer(arr1,arr2), sep='\\n')"
      ],
      "execution_count": 9,
      "outputs": [
        {
          "output_type": "stream",
          "text": [
            "0 1\n",
            "2 3\n",
            "3\n",
            "[[0 0]\n",
            " [2 3]]\n"
          ],
          "name": "stdout"
        }
      ]
    },
    {
      "cell_type": "code",
      "metadata": {
        "id": "1iflgYniK1J3"
      },
      "source": [
        ""
      ],
      "execution_count": null,
      "outputs": []
    }
  ]
}