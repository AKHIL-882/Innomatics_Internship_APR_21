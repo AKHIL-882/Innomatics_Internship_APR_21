{
  "nbformat": 4,
  "nbformat_minor": 0,
  "metadata": {
    "colab": {
      "name": "Hypothesis Testing.ipynb",
      "provenance": []
    },
    "kernelspec": {
      "name": "python3",
      "display_name": "Python 3"
    },
    "language_info": {
      "name": "python"
    }
  },
  "cells": [
    {
      "cell_type": "markdown",
      "metadata": {
        "id": "c5ywhdB-LyLm"
      },
      "source": [
        "### **1.1 Importing the libraries**"
      ]
    },
    {
      "cell_type": "code",
      "metadata": {
        "id": "tR1NSY8ZLhun"
      },
      "source": [
        "import numpy as np\n",
        "import pandas as pd\n",
        "import matplotlib.pyplot as plt\n",
        "%matplotlib inline\n",
        "import seaborn as sns\n",
        "from scipy.stats import norm, t\n",
        "from math import sqrt"
      ],
      "execution_count": 1,
      "outputs": []
    },
    {
      "cell_type": "markdown",
      "metadata": {
        "id": "W1SW2xHXMxue"
      },
      "source": [
        "### **1.2 Calulating the t-score**"
      ]
    },
    {
      "cell_type": "code",
      "metadata": {
        "id": "s9dH1uWALxTF"
      },
      "source": [
        "def t_score(sample_size, sample_mean, pop_mean, pop_std):\n",
        "    numerator = sample_mean - pop_mean\n",
        "    denomenator = pop_std / sample_size**0.5\n",
        "    return numerator / denomenator"
      ],
      "execution_count": 2,
      "outputs": []
    },
    {
      "cell_type": "markdown",
      "metadata": {
        "id": "gN6AgHgURrQ8"
      },
      "source": [
        "## **Q-1: Pista House selling Hyderabadi Chicken Dum biryani claims that each parcel packet has 500 grams of biryani (also mentioned on the label of packet). You are sceptic of their claims and believe that on average each packet does not contain 500 grams of biryani. How do you prove your claim**"
      ]
    },
    {
      "cell_type": "markdown",
      "metadata": {
        "id": "xJ7NLcR7RwoI"
      },
      "source": [
        "Step - 1:\n",
        "Alternate Hypothesis (Bold claim):$$ H_1: \\ ? $$Null Hypothesis (Status Quo):$$ H_0: \\ ? $$\n",
        "\n",
        "Step - 2:\n",
        "\n",
        "Collect a sample of size n = 10$$ [490, 490, 470, 500, 495, 496, 496, 498, 510, 480] $$\n",
        "Compute sample mean$$ \\bar{x} \\ = \\ ? $$\n",
        "Step - 3: Compute Test Statistic:$$ t = \\frac{\\bar{x} - \\mu}{s/\\sqrt[2]{n}} $$\n",
        "\n",
        "Step - 4: Decide $ \\alpha $ or significance level\n",
        "\n",
        "Step - 5.1: ? tailed t-test:$$ reject \\ H_0 \\ if \\ ? $$\n",
        "\n",
        "Step - 5.2: Compute p-value"
      ]
    },
    {
      "cell_type": "markdown",
      "metadata": {
        "id": "QPCistCgR8-2"
      },
      "source": [
        "### **1.1 Calculating the Mean**"
      ]
    },
    {
      "cell_type": "code",
      "metadata": {
        "colab": {
          "base_uri": "https://localhost:8080/"
        },
        "id": "WTM60JJSM4z9",
        "outputId": "b4e42a99-e0b7-4ed5-a6e2-525d9662dc2c"
      },
      "source": [
        "sample = [490,490,470,500,495,496,496,498,510,480]\n",
        "sum(sample)/len(sample)"
      ],
      "execution_count": 3,
      "outputs": [
        {
          "output_type": "execute_result",
          "data": {
            "text/plain": [
              "492.5"
            ]
          },
          "metadata": {
            "tags": []
          },
          "execution_count": 3
        }
      ]
    },
    {
      "cell_type": "markdown",
      "metadata": {
        "id": "zoi7OlGYSfkE"
      },
      "source": [
        "### **1.2 Calculating T-Critical value**"
      ]
    },
    {
      "cell_type": "code",
      "metadata": {
        "colab": {
          "base_uri": "https://localhost:8080/"
        },
        "id": "-5xdtbUHSTX6",
        "outputId": "cecf647d-d525-4ab5-e8cc-0b226909467a"
      },
      "source": [
        "alpha_val = 1 - 0.95\n",
        "\n",
        "t_critical_value = t.ppf(1-alpha_val/2, df = 9)\n",
        "\n",
        "print(t_critical_value)\n"
      ],
      "execution_count": 4,
      "outputs": [
        {
          "output_type": "stream",
          "text": [
            "2.2621571627409915\n"
          ],
          "name": "stdout"
        }
      ]
    },
    {
      "cell_type": "markdown",
      "metadata": {
        "id": "kQyZXSwxTAZg"
      },
      "source": [
        "### **1.3 Calculating the Standard Deviation**"
      ]
    },
    {
      "cell_type": "code",
      "metadata": {
        "colab": {
          "base_uri": "https://localhost:8080/"
        },
        "id": "fgmX6TxSSurF",
        "outputId": "3ed6a455-77a6-4be8-f386-b284e78222c0"
      },
      "source": [
        "standard_deviation = np.std(sample)\n",
        "standard_deviation"
      ],
      "execution_count": 5,
      "outputs": [
        {
          "output_type": "execute_result",
          "data": {
            "text/plain": [
              "10.480935072788114"
            ]
          },
          "metadata": {
            "tags": []
          },
          "execution_count": 5
        }
      ]
    },
    {
      "cell_type": "markdown",
      "metadata": {
        "id": "uvIYSpYcTbLQ"
      },
      "source": [
        "### **1.4 Parameters**"
      ]
    },
    {
      "cell_type": "code",
      "metadata": {
        "id": "wy3fuG1dTjI2"
      },
      "source": [
        "size = 10\n",
        "sample = 492.5\n",
        "mean = 500\n",
        "standard_deviation = 10.48"
      ],
      "execution_count": 6,
      "outputs": []
    },
    {
      "cell_type": "markdown",
      "metadata": {
        "id": "92zZ9GqTTwnZ"
      },
      "source": [
        "### **1.5 Calculating the T-Score**"
      ]
    },
    {
      "cell_type": "code",
      "metadata": {
        "colab": {
          "base_uri": "https://localhost:8080/"
        },
        "id": "Gz_rNfbjTWUI",
        "outputId": "9cc7c6de-8239-4e5b-fd7a-a0a85e078004"
      },
      "source": [
        "T_Score_val = t_score(size, sample ,mean , standard_deviation)\n",
        "print(T_Score_val)"
      ],
      "execution_count": 7,
      "outputs": [
        {
          "output_type": "stream",
          "text": [
            "-2.2630803865708824\n"
          ],
          "name": "stdout"
        }
      ]
    },
    {
      "cell_type": "markdown",
      "metadata": {
        "id": "REga5MFSUUUn"
      },
      "source": [
        "### **1.6 Visualizing**"
      ]
    },
    {
      "cell_type": "code",
      "metadata": {
        "colab": {
          "base_uri": "https://localhost:8080/",
          "height": 0
        },
        "id": "DeG9hMrLUA7J",
        "outputId": "da956d62-bce5-4e3f-8f59-fd6cac052030"
      },
      "source": [
        "# Defining the x minimum and x maximum\n",
        "x_min = 400\n",
        "x_max = 600\n",
        "\n",
        "# Defining the sampling distribution mean and sampling distribution std\n",
        "mean = mean\n",
        "std = standard_deviation / sqrt(size)\n",
        "\n",
        "# Ploting the graph and setting the x limits\n",
        "x = np.linspace(x_min, x_max, 100)\n",
        "y = norm.pdf(x, mean, std)\n",
        "plt.xlim(x_min, x_max)\n",
        "plt.plot(x, y)\n",
        "\n",
        "# Computing the left and right critical values (Two tailed Test)\n",
        "t_critical_left = mean + (-t_critical_value * std)\n",
        "t_critical_right = mean + (t_critical_value * std)\n",
        "\n",
        "# Shading the left rejection region\n",
        "x1 = np.linspace(x_min, t_critical_left, 100)\n",
        "y1 = norm.pdf(x1, mean, std)\n",
        "plt.fill_between(x1, y1, color='red')\n",
        "\n",
        "# Shading the right rejection region\n",
        "x2 = np.linspace(t_critical_right, x_max, 100)\n",
        "y2 = norm.pdf(x2, mean, std)\n",
        "plt.fill_between(x2, y2, color='green')\n",
        "\n",
        "# Ploting the sample mean and concluding the results \n",
        "plt.scatter(mean, 0)\n",
        "plt.annotate(\"x_bar\", (mean, 0.0007))"
      ],
      "execution_count": 8,
      "outputs": [
        {
          "output_type": "execute_result",
          "data": {
            "text/plain": [
              "Text(500, 0.0007, 'x_bar')"
            ]
          },
          "metadata": {
            "tags": []
          },
          "execution_count": 8
        },
        {
          "output_type": "display_data",
          "data": {
            "image/png": "[encoded data removed]",
            "text/plain": [
              "<Figure size 432x288 with 1 Axes>"
            ]
          },
          "metadata": {
            "tags": [],
            "needs_background": "light"
          }
        }
      ]
    },
    {
      "cell_type": "markdown",
      "metadata": {
        "id": "2BgludF00DPv"
      },
      "source": [
        "### **1.7 Conclusion using T-Test**"
      ]
    },
    {
      "cell_type": "code",
      "metadata": {
        "id": "0Q0aSqmtUYTp",
        "colab": {
          "base_uri": "https://localhost:8080/"
        },
        "outputId": "d1cb56d2-368d-4683-f473-11db311cf54b"
      },
      "source": [
        "if(np.abs(T_Score_val) > t_critical_value):\n",
        "    print(\"Reject Null Hypothesis\")\n",
        "else:\n",
        "    print(\"Fail to reject Null Hypothesis\")"
      ],
      "execution_count": 9,
      "outputs": [
        {
          "output_type": "stream",
          "text": [
            "Reject Null Hypothesis\n"
          ],
          "name": "stdout"
        }
      ]
    },
    {
      "cell_type": "markdown",
      "metadata": {
        "id": "Xr0aVVQn0l-J"
      },
      "source": [
        "### **1.8 Conclusion using P-Value**"
      ]
    },
    {
      "cell_type": "code",
      "metadata": {
        "colab": {
          "base_uri": "https://localhost:8080/"
        },
        "id": "A0p8MLhe0NG4",
        "outputId": "bded531a-27d7-40c4-d0ed-52d07d43a7f0"
      },
      "source": [
        "p_value = 2 * (1.0 - norm.cdf(np.abs(T_Score_val)))\n",
        "\n",
        "print(\"p_value = \", p_value)\n",
        "\n",
        "if(p_value < alpha_val):\n",
        "    print(\"Reject Null Hypothesis\")\n",
        "else:\n",
        "    print(\"Fail to reject Null Hypothesis\")"
      ],
      "execution_count": 11,
      "outputs": [
        {
          "output_type": "stream",
          "text": [
            "p_value =  0.023630734370564177\n",
            "Reject Null Hypothesis\n"
          ],
          "name": "stdout"
        }
      ]
    },
    {
      "cell_type": "markdown",
      "metadata": {
        "id": "ycfPTeSf6qNR"
      },
      "source": [
        "## **Q-2: You have developed a new Natural Language Processing Algorithms and done a user study. You claim that the average rating given by the users is greater than 4 on a scale of 1 to 5. How do you prove this to your client?**"
      ]
    },
    {
      "cell_type": "markdown",
      "metadata": {
        "id": "eE88HcVb7997"
      },
      "source": [
        "Step - 1:\n",
        "Alternate Hypothesis (Bold Claim):$$ H_1: \\ ? $$Null Hypothesis (Status Quo):$$ H_0: \\ ? $$\n",
        "\n",
        "Step - 2:\n",
        "\n",
        "Collect a sample of size n = 20$$ [4, 3, 5, 4, 5, 3, 5, 5, 4, 2, 4, 5, 5, 4, 4, 5, 4, 5, 4, 5] $$\n",
        "Compute sample mean$$ \\bar{x} \\ = \\ ? $$\n",
        "Step - 3: Compute Test Statistic:$$ t = \\frac{\\bar{x} - \\mu}{s/\\sqrt[2]{n}} $$\n",
        "\n",
        "Step - 4: Decide $ \\alpha $\n",
        "\n",
        "Step - 5.1: ? tailed t-test:$$ reject \\ H_0 \\ if ? $$\n",
        "\n",
        "Step - 5.2: Compute p-value"
      ]
    },
    {
      "cell_type": "code",
      "metadata": {
        "id": "vFGprHL-0-Ly"
      },
      "source": [
        ""
      ],
      "execution_count": null,
      "outputs": []
    },
    {
      "cell_type": "markdown",
      "metadata": {
        "id": "sQosVoTP8Rky"
      },
      "source": [
        "### **1.1 Calculating the Mean**"
      ]
    },
    {
      "cell_type": "code",
      "metadata": {
        "colab": {
          "base_uri": "https://localhost:8080/"
        },
        "id": "z_NakjqY8Rk7",
        "outputId": "9080fc96-efd4-4ebf-a0e0-2a5e1ad7508b"
      },
      "source": [
        "sample = [4,3,5,4,5,3,5,5,4,2,4,5,5,4,4,5,4,5,4,5]\n",
        "sum(sample)/len(sample)"
      ],
      "execution_count": 12,
      "outputs": [
        {
          "output_type": "execute_result",
          "data": {
            "text/plain": [
              "4.25"
            ]
          },
          "metadata": {
            "tags": []
          },
          "execution_count": 12
        }
      ]
    },
    {
      "cell_type": "markdown",
      "metadata": {
        "id": "uJ_gJxsf8Rk9"
      },
      "source": [
        "### **1.2 Calculating T-Critical value**"
      ]
    },
    {
      "cell_type": "code",
      "metadata": {
        "colab": {
          "base_uri": "https://localhost:8080/"
        },
        "id": "5uWRLtAN8Rk-",
        "outputId": "4e8734e1-00ab-4e9b-f0fc-8474380f0605"
      },
      "source": [
        "alpha_val = 1 - 0.95\n",
        "\n",
        "t_critical_value = t.ppf(1-alpha_val/2, df = 19)\n",
        "\n",
        "print(t_critical_value)\n"
      ],
      "execution_count": 15,
      "outputs": [
        {
          "output_type": "stream",
          "text": [
            "2.093024054408263\n"
          ],
          "name": "stdout"
        }
      ]
    },
    {
      "cell_type": "markdown",
      "metadata": {
        "id": "Z1EAD-MZ8Rk-"
      },
      "source": [
        "### **1.3 Calculating the Standard Deviation**"
      ]
    },
    {
      "cell_type": "code",
      "metadata": {
        "colab": {
          "base_uri": "https://localhost:8080/"
        },
        "id": "HJeZtqhY8RlA",
        "outputId": "e09a56d3-99c6-4c3e-9611-86748c4f0443"
      },
      "source": [
        "standard_deviation = np.std(sample)\n",
        "standard_deviation"
      ],
      "execution_count": 16,
      "outputs": [
        {
          "output_type": "execute_result",
          "data": {
            "text/plain": [
              "0.82915619758885"
            ]
          },
          "metadata": {
            "tags": []
          },
          "execution_count": 16
        }
      ]
    },
    {
      "cell_type": "markdown",
      "metadata": {
        "id": "0a49ZO0-8RlB"
      },
      "source": [
        "### **1.4 Parameters**"
      ]
    },
    {
      "cell_type": "code",
      "metadata": {
        "id": "Rs_i_4608RlB"
      },
      "source": [
        "size = 20\n",
        "sample = 4.25\n",
        "mean = 4\n",
        "standard_deviation = 0.82"
      ],
      "execution_count": 17,
      "outputs": []
    },
    {
      "cell_type": "markdown",
      "metadata": {
        "id": "_RFMehiy8RlC"
      },
      "source": [
        "### **1.5 Calculating the T-Score**"
      ]
    },
    {
      "cell_type": "code",
      "metadata": {
        "colab": {
          "base_uri": "https://localhost:8080/"
        },
        "id": "_BhZf7eP8RlD",
        "outputId": "62d8f929-0514-4b4c-8e4d-805f808a0f8a"
      },
      "source": [
        "T_Score_val = t_score(size, sample ,mean , standard_deviation)\n",
        "print(T_Score_val)"
      ],
      "execution_count": 18,
      "outputs": [
        {
          "output_type": "stream",
          "text": [
            "1.3634560838413352\n"
          ],
          "name": "stdout"
        }
      ]
    },
    {
      "cell_type": "markdown",
      "metadata": {
        "id": "x7kfrb_U8RlE"
      },
      "source": [
        "### **1.6 Visualizing**"
      ]
    },
    {
      "cell_type": "code",
      "metadata": {
        "colab": {
          "base_uri": "https://localhost:8080/",
          "height": 282
        },
        "id": "mRiwjp4_8RlE",
        "outputId": "d3ac31d1-a0f6-4da5-b4be-37f8d79b01b0"
      },
      "source": [
        "# Defining the x minimum and x maximum\n",
        "x_min = 3.5\n",
        "x_max = 4.5\n",
        "\n",
        "# Defining the sampling distribution mean and sampling distribution std\n",
        "mean = mean\n",
        "std = standard_deviation / sqrt(size)\n",
        "\n",
        "# Ploting the graph and setting the x limits\n",
        "x = np.linspace(x_min, x_max, 100)\n",
        "y = norm.pdf(x, mean, std)\n",
        "plt.xlim(x_min, x_max)\n",
        "plt.plot(x, y)\n",
        "\n",
        "# Computing the left and right critical values (Two tailed Test)\n",
        "t_critical_left = mean + (-t_critical_value * std)\n",
        "t_critical_right = mean + (t_critical_value * std)\n",
        "\n",
        "# Shading the left rejection region\n",
        "x1 = np.linspace(x_min, t_critical_left, 100)\n",
        "y1 = norm.pdf(x1, mean, std)\n",
        "plt.fill_between(x1, y1, color='red')\n",
        "\n",
        "# Shading the right rejection region\n",
        "x2 = np.linspace(t_critical_right, x_max, 100)\n",
        "y2 = norm.pdf(x2, mean, std)\n",
        "plt.fill_between(x2, y2, color='green')\n",
        "\n",
        "# Ploting the sample mean and concluding the results \n",
        "plt.scatter(mean, 0)\n",
        "plt.annotate(\"x_bar\", (mean, 0.0007))"
      ],
      "execution_count": 20,
      "outputs": [
        {
          "output_type": "execute_result",
          "data": {
            "text/plain": [
              "Text(4, 0.0007, 'x_bar')"
            ]
          },
          "metadata": {
            "tags": []
          },
          "execution_count": 20
        },
        {
          "output_type": "display_data",
          "data": {
            "image/png": "[encoded data removed]",
            "text/plain": [
              "<Figure size 432x288 with 1 Axes>"
            ]
          },
          "metadata": {
            "tags": [],
            "needs_background": "light"
          }
        }
      ]
    },
    {
      "cell_type": "markdown",
      "metadata": {
        "id": "L2y0zlA48RlF"
      },
      "source": [
        "### **1.7 Conclusion using T-Test**"
      ]
    },
    {
      "cell_type": "code",
      "metadata": {
        "colab": {
          "base_uri": "https://localhost:8080/"
        },
        "id": "fIoAtwq58RlG",
        "outputId": "c8f5c5d5-9be9-481b-81f5-ac8e05e53a37"
      },
      "source": [
        "if(np.abs(T_Score_val) > t_critical_value):\n",
        "    print(\"Reject Null Hypothesis\")\n",
        "else:\n",
        "    print(\"Fail to reject Null Hypothesis\")"
      ],
      "execution_count": 21,
      "outputs": [
        {
          "output_type": "stream",
          "text": [
            "Fail to reject Null Hypothesis\n"
          ],
          "name": "stdout"
        }
      ]
    },
    {
      "cell_type": "markdown",
      "metadata": {
        "id": "XqyKswc68RlG"
      },
      "source": [
        "### **1.8 Conclusion using P-Value**"
      ]
    },
    {
      "cell_type": "code",
      "metadata": {
        "colab": {
          "base_uri": "https://localhost:8080/"
        },
        "id": "KhSCR3fT8RlH",
        "outputId": "9e2c913e-4b97-413f-ac07-e564e130edd0"
      },
      "source": [
        "p_value = 2 * (1.0 - norm.cdf(np.abs(T_Score_val)))\n",
        "\n",
        "print(\"p_value = \", p_value)\n",
        "\n",
        "if(p_value < alpha_val):\n",
        "    print(\"Reject Null Hypothesis\")\n",
        "else:\n",
        "    print(\"Fail to reject Null Hypothesis\")"
      ],
      "execution_count": 22,
      "outputs": [
        {
          "output_type": "stream",
          "text": [
            "p_value =  0.17273881604796637\n",
            "Fail to reject Null Hypothesis\n"
          ],
          "name": "stdout"
        }
      ]
    },
    {
      "cell_type": "markdown",
      "metadata": {
        "id": "gaoGV0ze9oSD"
      },
      "source": [
        "## **Q-3: TATA has developed a better fuel management system for the SUV segment. They claim that with this system, on average the SUV's mileage is at least 15 km/litre?**"
      ]
    },
    {
      "cell_type": "markdown",
      "metadata": {
        "id": "-mgEf5-N9uhC"
      },
      "source": [
        "Step - 1:\n",
        "Alternate Hypothesis (Bold Claim):$$ H_1: \\ ? $$Null Hypothesis (Status Quo):$$ H_0: \\ ? $$\n",
        "\n",
        "Step - 2:\n",
        "\n",
        "Collect a sample of size n = 20$$ [14.08, 14.13, 15.65, 13.78, 16.26, 14.97, 15.36, 15.81, 14.53, 16.79, 15.78, 16.98, 13.23, 15.43, 15.46, 13.88, 14.31, 14.41, 15.76, 15.38] $$\n",
        "Compute sample mean$$ \\bar{x} \\ = \\ ? $$\n",
        "Step - 3: Compute Test Statistic:$$ t = \\frac{\\bar{x} - \\mu}{s/\\sqrt[2]{n}} $$\n",
        "\n",
        "Step - 4: Decide $ \\alpha $\n",
        "\n",
        "Step - 5.1: ? tailed t-test:$$ reject \\ H_0 \\ if \\ ? $$\n",
        "\n",
        "Step - 5.2: Compute p-value"
      ]
    },
    {
      "cell_type": "markdown",
      "metadata": {
        "id": "9Mo9BEIv97qZ"
      },
      "source": [
        "### **1.1 Calculating the Mean**"
      ]
    },
    {
      "cell_type": "code",
      "metadata": {
        "colab": {
          "base_uri": "https://localhost:8080/"
        },
        "id": "hnrSPoGq97qa",
        "outputId": "5a57dced-f474-460a-bf5f-7180ae08da1e"
      },
      "source": [
        "sample = [14.08,14.13,15.65,13.78,16.26,14.97,15.36,15.81,14.53,16.79,15.78,16.98,13.23,15.43,15.46,13.88,14.31,14.41,15.76,15.38]\n",
        "sum(sample)/len(sample)"
      ],
      "execution_count": 25,
      "outputs": [
        {
          "output_type": "execute_result",
          "data": {
            "text/plain": [
              "15.098999999999998"
            ]
          },
          "metadata": {
            "tags": []
          },
          "execution_count": 25
        }
      ]
    },
    {
      "cell_type": "markdown",
      "metadata": {
        "id": "feKJTUgb97qc"
      },
      "source": [
        "### **1.2 Calculating T-Critical value**"
      ]
    },
    {
      "cell_type": "code",
      "metadata": {
        "colab": {
          "base_uri": "https://localhost:8080/"
        },
        "id": "CrAok5hf97qc",
        "outputId": "0d6c3b48-33f4-4b9c-bba1-78891e63d6c5"
      },
      "source": [
        "alpha_val = 1 - 0.95\n",
        "\n",
        "t_critical_value = t.ppf(1-alpha_val/2, df = 9)\n",
        "\n",
        "print(t_critical_value)\n"
      ],
      "execution_count": 26,
      "outputs": [
        {
          "output_type": "stream",
          "text": [
            "2.2621571627409915\n"
          ],
          "name": "stdout"
        }
      ]
    },
    {
      "cell_type": "markdown",
      "metadata": {
        "id": "18ZXllyJ97qd"
      },
      "source": [
        "### **1.3 Calculating the Standard Deviation**"
      ]
    },
    {
      "cell_type": "code",
      "metadata": {
        "colab": {
          "base_uri": "https://localhost:8080/"
        },
        "id": "vuvAdgZU97qe",
        "outputId": "d391e89f-3f70-429d-e5c2-89e42fb7de29"
      },
      "source": [
        "standard_deviation = np.std(sample)\n",
        "standard_deviation"
      ],
      "execution_count": 27,
      "outputs": [
        {
          "output_type": "execute_result",
          "data": {
            "text/plain": [
              "0.9994043225842081"
            ]
          },
          "metadata": {
            "tags": []
          },
          "execution_count": 27
        }
      ]
    },
    {
      "cell_type": "markdown",
      "metadata": {
        "id": "-CrJSNY097qe"
      },
      "source": [
        "### **1.4 Parameters**"
      ]
    },
    {
      "cell_type": "code",
      "metadata": {
        "id": "BbnIcbLe97qe"
      },
      "source": [
        "size = 20\n",
        "sample = 15.1\n",
        "mean = 15\n",
        "standard_deviation = 0.99"
      ],
      "execution_count": 29,
      "outputs": []
    },
    {
      "cell_type": "markdown",
      "metadata": {
        "id": "JzlU1by797qf"
      },
      "source": [
        "### **1.5 Calculating the T-Score**"
      ]
    },
    {
      "cell_type": "code",
      "metadata": {
        "colab": {
          "base_uri": "https://localhost:8080/"
        },
        "id": "LJBmEqkj97qf",
        "outputId": "bd03c61b-6f0b-4020-d165-c96afc0382d4"
      },
      "source": [
        "T_Score_val = t_score(size, sample ,mean , standard_deviation)\n",
        "print(T_Score_val)"
      ],
      "execution_count": 30,
      "outputs": [
        {
          "output_type": "stream",
          "text": [
            "0.4517309045454104\n"
          ],
          "name": "stdout"
        }
      ]
    },
    {
      "cell_type": "markdown",
      "metadata": {
        "id": "eYL2q-cd97qg"
      },
      "source": [
        "### **1.6 Visualizing**"
      ]
    },
    {
      "cell_type": "code",
      "metadata": {
        "colab": {
          "base_uri": "https://localhost:8080/",
          "height": 282
        },
        "id": "HpTtoEAM97qg",
        "outputId": "192468bb-6f05-4f96-bdef-99cfb3431092"
      },
      "source": [
        "# Defining the x minimum and x maximum\n",
        "x_min = 13\n",
        "x_max = 17\n",
        "\n",
        "# Defining the sampling distribution mean and sampling distribution std\n",
        "mean = mean\n",
        "std = standard_deviation / sqrt(size)\n",
        "\n",
        "# Ploting the graph and setting the x limits\n",
        "x = np.linspace(x_min, x_max, 100)\n",
        "y = norm.pdf(x, mean, std)\n",
        "plt.xlim(x_min, x_max)\n",
        "plt.plot(x, y)\n",
        "\n",
        "# Computing the left and right critical values (Two tailed Test)\n",
        "t_critical_left = mean + (-t_critical_value * std)\n",
        "t_critical_right = mean + (t_critical_value * std)\n",
        "\n",
        "# Shading the left rejection region\n",
        "x1 = np.linspace(x_min, t_critical_left, 100)\n",
        "y1 = norm.pdf(x1, mean, std)\n",
        "plt.fill_between(x1, y1, color='red')\n",
        "\n",
        "# Shading the right rejection region\n",
        "x2 = np.linspace(t_critical_right, x_max, 100)\n",
        "y2 = norm.pdf(x2, mean, std)\n",
        "plt.fill_between(x2, y2, color='green')\n",
        "\n",
        "# Ploting the sample mean and concluding the results \n",
        "plt.scatter(mean, 0)\n",
        "plt.annotate(\"x_bar\", (mean, 0.0007))"
      ],
      "execution_count": 31,
      "outputs": [
        {
          "output_type": "execute_result",
          "data": {
            "text/plain": [
              "Text(15, 0.0007, 'x_bar')"
            ]
          },
          "metadata": {
            "tags": []
          },
          "execution_count": 31
        },
        {
          "output_type": "display_data",
          "data": {
            "image/png": "[encoded data removed]",
            "text/plain": [
              "<Figure size 432x288 with 1 Axes>"
            ]
          },
          "metadata": {
            "tags": [],
            "needs_background": "light"
          }
        }
      ]
    },
    {
      "cell_type": "markdown",
      "metadata": {
        "id": "P7kbMtfo97qi"
      },
      "source": [
        "### **1.7 Conclusion using T-Test**"
      ]
    },
    {
      "cell_type": "code",
      "metadata": {
        "colab": {
          "base_uri": "https://localhost:8080/"
        },
        "id": "KxKKutKO97qi",
        "outputId": "cae3e055-77b2-4f7f-b404-f7ca6f3ed8dc"
      },
      "source": [
        "if(np.abs(T_Score_val) > t_critical_value):\n",
        "    print(\"Reject Null Hypothesis\")\n",
        "else:\n",
        "    print(\"Fail to reject Null Hypothesis\")"
      ],
      "execution_count": 32,
      "outputs": [
        {
          "output_type": "stream",
          "text": [
            "Fail to reject Null Hypothesis\n"
          ],
          "name": "stdout"
        }
      ]
    },
    {
      "cell_type": "markdown",
      "metadata": {
        "id": "s-8s2x4s97qj"
      },
      "source": [
        "### **1.8 Conclusion using P-Value**"
      ]
    },
    {
      "cell_type": "code",
      "metadata": {
        "colab": {
          "base_uri": "https://localhost:8080/"
        },
        "id": "VENe0f7l97qk",
        "outputId": "8cf0a739-916b-4dc3-b0aa-8462cac212ae"
      },
      "source": [
        "p_value =1.0 - norm.cdf(np.abs(T_Score_val))\n",
        "\n",
        "print(\"p_value = \", p_value)\n",
        "\n",
        "if(p_value < alpha_val):\n",
        "    print(\"Reject Null Hypothesis\")\n",
        "else:\n",
        "    print(\"Fail to reject Null Hypothesis\")"
      ],
      "execution_count": 34,
      "outputs": [
        {
          "output_type": "stream",
          "text": [
            "p_value =  0.3257314258118913\n",
            "Fail to reject Null Hypothesis\n"
          ],
          "name": "stdout"
        }
      ]
    },
    {
      "cell_type": "markdown",
      "metadata": {
        "id": "XSuyiBf2-49N"
      },
      "source": [
        "## **Q-4: You have developed a new Machine Learning Application and claim that on average it takes less than 100 ms to predict for any future datapoint. How do you convince your client about this claim?**"
      ]
    },
    {
      "cell_type": "markdown",
      "metadata": {
        "id": "_hF_h8v6_EsM"
      },
      "source": [
        "Step - 1:\n",
        "Alternate Hypothesis (Bold Claim):$$ H_1: \\ ? $$Null Hypothesis (Status Quo):$$ H_0: \\ ? $$\n",
        "\n",
        "Step - 2:\n",
        "\n",
        "Collect a sample of size n = 100\n",
        "Compute sample mean$$ \\bar{x} \\ = \\ 97.5 $$\n",
        "Step - 3: Compute Test Statistic:$$ t = \\frac{\\bar{x} - \\mu}{s/\\sqrt[2]{n}} $$\n",
        "\n",
        "Step - 4: Decide $ \\alpha $\n",
        "\n",
        "Step - 5.1: ? tailed t-test:$$ reject \\ H_0 \\ if \\ ? $$\n",
        "\n",
        "Step - 5.2: Compute p-value"
      ]
    },
    {
      "cell_type": "markdown",
      "metadata": {
        "id": "JW67gNK7_MAx"
      },
      "source": [
        "### **1.1 One-Tail Test**"
      ]
    },
    {
      "cell_type": "code",
      "metadata": {
        "colab": {
          "base_uri": "https://localhost:8080/"
        },
        "id": "ShdeCD0X_EY1",
        "outputId": "bde02c3e-b9d3-4fb6-fd6c-8763e3a36afd"
      },
      "source": [
        "alpha = 1 - 0.99\n",
        "\n",
        "t_critical = t.ppf(1 - alpha, df=19)\n",
        "\n",
        "print(t_critical)"
      ],
      "execution_count": 35,
      "outputs": [
        {
          "output_type": "stream",
          "text": [
            "2.539483190622288\n"
          ],
          "name": "stdout"
        }
      ]
    },
    {
      "cell_type": "markdown",
      "metadata": {
        "id": "eG8uT90a_TAY"
      },
      "source": [
        "### **1.2 Defining the values**"
      ]
    },
    {
      "cell_type": "code",
      "metadata": {
        "id": "Cet7f3pc--8C"
      },
      "source": [
        "size = 100\n",
        "sample = 97.5\n",
        "mean = 100\n",
        "standard_deviation = 8"
      ],
      "execution_count": 39,
      "outputs": []
    },
    {
      "cell_type": "markdown",
      "metadata": {
        "id": "9fRMw1jQFrvD"
      },
      "source": [
        "### **1.3 T Score**"
      ]
    },
    {
      "cell_type": "code",
      "metadata": {
        "colab": {
          "base_uri": "https://localhost:8080/"
        },
        "id": "XvrGliBM_ei4",
        "outputId": "81c5366c-3d25-46af-df8d-3bf3c6096f38"
      },
      "source": [
        "t_score_val = t_score(sample_size, sample_mean, pop_mean, sample_std)\n",
        "\n",
        "print(t_score_val)"
      ],
      "execution_count": 41,
      "outputs": [
        {
          "output_type": "stream",
          "text": [
            "-3.125\n"
          ],
          "name": "stdout"
        }
      ]
    },
    {
      "cell_type": "markdown",
      "metadata": {
        "id": "ArBpaNoTGL0C"
      },
      "source": [
        "### **1.4 Visualization**"
      ]
    },
    {
      "cell_type": "code",
      "metadata": {
        "colab": {
          "base_uri": "https://localhost:8080/",
          "height": 282
        },
        "id": "vuGcolz7_fJh",
        "outputId": "38743000-b729-425f-d193-5375c1ea2320"
      },
      "source": [
        "x_min = 95\n",
        "x_max = 105\n",
        "\n",
        "mean = pop_mean\n",
        "std = sample_std / sqrt(sample_size)\n",
        "\n",
        "x = np.linspace(x_min, x_max, 100)\n",
        "y = norm.pdf(x, mean, std)\n",
        "\n",
        "plt.xlim(x_min, x_max)\n",
        "# plt.ylim(0, 0.03)\n",
        "\n",
        "plt.plot(x, y)\n",
        "\n",
        "t_critical_left = pop_mean + (-t_critical * std)\n",
        "\n",
        "x1 = np.linspace(x_min, t_critical_left, 100)\n",
        "y1 = norm.pdf(x1, mean, std)\n",
        "plt.fill_between(x1, y1, color='green')\n",
        "\n",
        "plt.scatter(sample_mean, 0)\n",
        "plt.annotate(\"x_bar\", (sample_mean, 0.02))"
      ],
      "execution_count": 42,
      "outputs": [
        {
          "output_type": "execute_result",
          "data": {
            "text/plain": [
              "Text(97.5, 0.02, 'x_bar')"
            ]
          },
          "metadata": {
            "tags": []
          },
          "execution_count": 42
        },
        {
          "output_type": "display_data",
          "data": {
            "image/png": "[encoded data removed]",
            "text/plain": [
              "<Figure size 432x288 with 1 Axes>"
            ]
          },
          "metadata": {
            "tags": [],
            "needs_background": "light"
          }
        }
      ]
    },
    {
      "cell_type": "markdown",
      "metadata": {
        "id": "A_JKhyZlGWfR"
      },
      "source": [
        "### **1.5 T Test**"
      ]
    },
    {
      "cell_type": "code",
      "metadata": {
        "colab": {
          "base_uri": "https://localhost:8080/"
        },
        "id": "4PlSxXZM_evD",
        "outputId": "8b7eed84-6075-4ce9-e0b2-76f55194a18f"
      },
      "source": [
        "if(t_score_val < -t_critical):\n",
        "    print(\"Reject Null Hypothesis\")\n",
        "else:\n",
        "    print(\"Fail to reject Null Hypothesis\")"
      ],
      "execution_count": 43,
      "outputs": [
        {
          "output_type": "stream",
          "text": [
            "Reject Null Hypothesis\n"
          ],
          "name": "stdout"
        }
      ]
    },
    {
      "cell_type": "markdown",
      "metadata": {
        "id": "kIq581wAGihj"
      },
      "source": [
        "### **1.6 P-value**"
      ]
    },
    {
      "cell_type": "code",
      "metadata": {
        "colab": {
          "base_uri": "https://localhost:8080/"
        },
        "id": "pbpbG_X8_erV",
        "outputId": "b051576e-dea0-46b3-a811-d0aa7021adbe"
      },
      "source": [
        "p_value = 1.0 - norm.cdf(np.abs(t_score_val))\n",
        "\n",
        "print(\"p_value = \", p_value)\n",
        "\n",
        "if(p_value < 0.01):\n",
        "    print(\"Reject Null Hypothesis\")\n",
        "else:\n",
        "    print(\"Fail to reject Null Hypothesis\")"
      ],
      "execution_count": 45,
      "outputs": [
        {
          "output_type": "stream",
          "text": [
            "p_value =  0.0008890252991083925\n",
            "Reject Null Hypothesis\n"
          ],
          "name": "stdout"
        }
      ]
    },
    {
      "cell_type": "code",
      "metadata": {
        "id": "j9C7_cny_eoG"
      },
      "source": [
        ""
      ],
      "execution_count": null,
      "outputs": []
    }
  ]
}