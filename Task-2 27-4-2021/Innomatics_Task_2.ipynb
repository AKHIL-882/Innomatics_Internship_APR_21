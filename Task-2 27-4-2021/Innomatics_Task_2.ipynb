{
  "nbformat": 4,
  "nbformat_minor": 0,
  "metadata": {
    "colab": {
      "name": "Innomatics Task-2.ipynb",
      "provenance": []
    },
    "kernelspec": {
      "name": "python3",
      "display_name": "Python 3"
    },
    "language_info": {
      "name": "python"
    }
  },
  "cells": [
    {
      "cell_type": "markdown",
      "metadata": {
        "id": "HARRDw1Uk6fT"
      },
      "source": [
        "###**Problem - 1 : List Comprehensions**\n",
        "\n",
        "\n",
        "Let's learn about list comprehensions! You are given three integers  and  representing the dimensions of a cuboid along with an integer . Print a list of all possible coordinates given by  on a 3D grid where the sum of  is not equal to . Here, . Please use list comprehensions rather than multiple loops, as a learning exercise.\n",
        "\n",
        "Example\n",
        "\n",
        "\n",
        "\n",
        "\n",
        "All permutations of  are:\n",
        ".\n",
        "\n",
        "Print an array of the elements that do not sum to .\n",
        "\n",
        "\n",
        "Input Format\n",
        "\n",
        "Four integers  and , each on a separate line.\n",
        "\n",
        "Constraints\n",
        "\n",
        "Print the list in lexicographic increasing order.\n",
        "\n",
        "Sample Input 0\n",
        "\n",
        "1\n",
        "1\n",
        "1\n",
        "2\n",
        "Sample Output 0\n",
        "\n",
        "[[0, 0, 0], [0, 0, 1], [0, 1, 0], [1, 0, 0], [1, 1, 1]]\n",
        "Explanation 0\n",
        "\n",
        "Each variable  and  will have values of  or . All permutations of lists in the form .\n",
        "Remove all arrays that sum to  to leave only the valid permutations.\n",
        "\n",
        "Sample Input 1\n",
        "\n",
        "2\n",
        "2\n",
        "2\n",
        "2\n",
        "Sample Output 1\n",
        "\n",
        "[[0, 0, 0], [0, 0, 1], [0, 1, 0], [0, 1, \n"
      ]
    },
    {
      "cell_type": "code",
      "metadata": {
        "colab": {
          "base_uri": "https://localhost:8080/"
        },
        "id": "k5vwsXPlkx5C",
        "outputId": "5749953f-49af-4886-b554-9eff83a5bbd7"
      },
      "source": [
        "x = int(input())\n",
        "y = int(input())\n",
        "z = int(input())\n",
        "n = int(input())\n",
        "print(list([i,j,k] for i in range(x+1) for j in range(y+1) for k in range(z+1)  if i+j+k !=n))\n"
      ],
      "execution_count": null,
      "outputs": [
        {
          "output_type": "stream",
          "text": [
            "1\n",
            "1\n",
            "2\n",
            "3\n",
            "[[0, 0, 0], [0, 0, 1], [0, 0, 2], [0, 1, 0], [0, 1, 1], [1, 0, 0], [1, 0, 1], [1, 1, 0], [1, 1, 2]]\n"
          ],
          "name": "stdout"
        }
      ]
    },
    {
      "cell_type": "markdown",
      "metadata": {
        "id": "MVl7bALZbR11"
      },
      "source": [
        "### **Problem - 2: Nested Lists**\n",
        "  \n",
        "\n",
        "Given the names and grades for each student in a class of  students, store them in a nested list and print the name(s) of any student(s) having the second lowest grade.\n",
        "\n",
        "Note: If there are multiple students with the second lowest grade, order their names alphabetically and print each name on a new line.\n",
        "\n",
        "Example\n",
        "\n",
        "The ordered list of scores is , so the second lowest score is . There are two students with that score: . Ordered alphabetically, the names are printed as:\n",
        "\n",
        "alpha\n",
        "beta\n",
        "Input Format\n",
        "\n",
        "The first line contains an integer, , the number of students.\n",
        "The  subsequent lines describe each student over  lines.\n",
        "- The first line contains a student's name.\n",
        "- The second line contains their grade.\n",
        "\n",
        "Constraints\n",
        "\n",
        "There will always be one or more students having the second lowest grade.\n",
        "Output Format\n",
        "\n",
        "Print the name(s) of any student(s) having the second lowest grade in. If there are multiple students, order their names alphabetically and print each one on a new line.\n",
        "\n",
        "Sample Input 0\n",
        "\n",
        "5\n",
        "Harry\n",
        "37.21\n",
        "Berry\n",
        "37.21\n",
        "Tina\n",
        "37.2\n",
        "Akriti\n",
        "41\n",
        "Harsh\n",
        "39\n",
        "Sample Output 0\n",
        "\n",
        "Berry\n",
        "Harry\n",
        "Explanation 0\n",
        "\n",
        "There are  students in this class whose names and grades are assembled to build the following list:\n",
        "\n",
        "python students = [['Harry', 37.21], ['Berry', 37.21], ['Tina', 37.2], ['Akriti', 41], ['Harsh', 39]]\n",
        "\n",
        "The lowest grade of  belongs to Tina. The second lowest grade of  belongs to both Harry and Berry, so we order their names alphabetically and print each name on a new line."
      ]
    },
    {
      "cell_type": "code",
      "metadata": {
        "id": "-6jtZ31hec5O",
        "colab": {
          "base_uri": "https://localhost:8080/"
        },
        "outputId": "9f263787-83a3-4ac8-e932-79f8d32c0604"
      },
      "source": [
        "lst_marks_names = []\n",
        "second_lowest_names = []\n",
        "scores = set()\n",
        "\n",
        "size = int(input())\n",
        "\n",
        "for _ in range(size):\n",
        "    name = input()\n",
        "    score = float(input())\n",
        "    lst_marks_names.append([name, score])\n",
        "    scores.add(score)\n",
        "        \n",
        "second_lowest = sorted(scores)[1]\n",
        "\n",
        "for name, score in lst_marks_names:\n",
        "    if score == second_lowest:\n",
        "        second_lowest_names.append(name)\n",
        "\n",
        "for name in sorted(second_lowest_names):\n",
        "    print(name, end='\\n')"
      ],
      "execution_count": null,
      "outputs": [
        {
          "output_type": "stream",
          "text": [
            "5\n",
            "Harry\n",
            "37.21\n",
            "Berry\n",
            "37.21\n",
            "Tina\n",
            "37.2\n",
            "Akriti\n",
            "41\n",
            "Harsh\n",
            "39\n",
            "Berry\n",
            "Harry\n"
          ],
          "name": "stdout"
        }
      ]
    },
    {
      "cell_type": "markdown",
      "metadata": {
        "id": "ppcs2-To8-Bz"
      },
      "source": [
        "### **Problem - 3: Find the Runner-Up Score!**\n",
        "\n",
        "\n",
        "Given the participants' score sheet for your University Sports Day, you are required to find the runner-up score. You are given  scores. Store them in a list and find the score of the runner-up.\n",
        "\n",
        "Input Format\n",
        "\n",
        "The first line contains . The second line contains an array   of  integers each separated by a space.\n",
        "\n",
        "Constraints\n",
        "\n",
        "Output Format\n",
        "\n",
        "Print the runner-up score.\n",
        "\n",
        "Sample Input 0\n",
        "\n",
        "5\n",
        "2 3 6 6 5\n",
        "Sample Output 0\n",
        "\n",
        "5\n",
        "Explanation 0\n",
        "\n",
        "Given list is . The maximum score is , second maximum is . Hence, we print  as the runner-up score.\n"
      ]
    },
    {
      "cell_type": "code",
      "metadata": {
        "colab": {
          "base_uri": "https://localhost:8080/"
        },
        "id": "AQtES8b74LEA",
        "outputId": "70dd4b53-59e0-497f-af99-55df15af41f2"
      },
      "source": [
        "list_score = []\n",
        "size = int(input())\n",
        "for i in range(size):\n",
        "  val = int(input())\n",
        "  list_score.append(val)\n",
        "\n",
        "\n",
        "max = max1 = list_score[0]\n",
        "for i in range(size):\n",
        "  if(list_score[i]>max):\n",
        "    max1 = max\n",
        "    max = list_score[i]\n",
        "  elif(list_score[i]>max1 and list_score[i]<max):\n",
        "    max1 = list_score[i]\n",
        "  else:\n",
        "    pass\n",
        "print(max1)\n",
        "  \n",
        "\n",
        "\n",
        "\n",
        "# list_score_new = set(list_score)\n",
        "\n",
        "# list_score_new.remove(max(list_score))\n",
        " \n",
        "# print(max(list_score_new))\n",
        "\n"
      ],
      "execution_count": null,
      "outputs": [
        {
          "output_type": "stream",
          "text": [
            "5\n",
            "1\n",
            "2\n",
            "3\n",
            "4\n",
            "5\n",
            "4\n"
          ],
          "name": "stdout"
        }
      ]
    },
    {
      "cell_type": "markdown",
      "metadata": {
        "id": "q7l-Q_4gYRlU"
      },
      "source": [
        "### **Problem - 4 : Finding the percentage**\n",
        "\n",
        "The provided code stub will read in a dictionary containing key/value pairs of name:[marks] for a list of students. Print the average of the marks array for the student name provided, showing 2 places after the decimal.\n",
        "\n",
        "Example\n",
        "\n",
        "\n",
        "\n",
        "\n",
        "The query_name is 'beta'. beta's average score is .\n",
        "\n",
        "Input Format\n",
        "\n",
        "The first line contains the integer , the number of students' records. The next  lines contain the names and marks obtained by a student, each value separated by a space. The final line contains query_name, the name of a student to query.\n",
        "\n",
        "Constraints\n",
        "\n",
        "Output Format\n",
        "\n",
        "Print one line: The average of the marks obtained by the particular student correct to 2 decimal places.\n",
        "\n",
        "Sample Input 0\n",
        "\n",
        "3\n",
        "Krishna 67 68 69\n",
        "Arjun 70 98 63\n",
        "Malika 52 56 60\n",
        "Malika\n",
        "Sample Output 0\n",
        "\n",
        "56.00\n",
        "Explanation 0\n",
        "\n",
        "Marks for Malika are  whose average is \n",
        "\n",
        "Sample Input 1\n",
        "\n",
        "2\n",
        "Harsh 25 26.5 28\n",
        "\n",
        "Anurag 26 28 30\n",
        "\n",
        "Harsh\n",
        "\n",
        "Sample Output 1\n",
        "\n",
        "26.50\n",
        "\n"
      ]
    },
    {
      "cell_type": "code",
      "metadata": {
        "id": "TT5S23bos0on"
      },
      "source": [
        "if __name__ == '__main__':\n",
        "    n = int(input())\n",
        "    student_marks = {}\n",
        "    for _ in range(n):\n",
        "        name, *line = input().split()\n",
        "        scores = list(map(float, line))\n",
        "        student_marks[name] = scores\n",
        "    query_name = input()\n",
        "    for i in student_marks:\n",
        "        j = student_marks.get(i)\n",
        "        if i==query_name:\n",
        "            result = 0\n",
        "            for k in j:\n",
        "                result+= float(k)\n",
        "            print(\"{:.2f}\".format((result/len(j))))\n",
        "            break\n",
        "        else:\n",
        "            continue"
      ],
      "execution_count": null,
      "outputs": []
    },
    {
      "cell_type": "markdown",
      "metadata": {
        "id": "eqI_Gect68_q"
      },
      "source": [
        "### **Problem - 5 : Lists**\n",
        "\n",
        "Consider a list (list = []). You can perform the following commands:\n",
        "\n",
        "insert i e: Insert integer  at position .\n",
        "print: Print the list.\n",
        "remove e: Delete the first occurrence of integer .\n",
        "append e: Insert integer  at the end of the list.\n",
        "sort: Sort the list.\n",
        "pop: Pop the last element from the list.\n",
        "reverse: Reverse the list.\n",
        "Initialize your list and read in the value of  followed by  lines of commands where each command will be of the  types listed above. Iterate through each command in order and perform the corresponding operation on your list.\n",
        "\n",
        "Example\n",
        "\n",
        "\n",
        "\n",
        "\n",
        "\n",
        ": Append  to the list, .\n",
        ": Append  to the list, .\n",
        ": Insert  at index , .\n",
        ": Print the array.\n",
        "Output:\n",
        "[1, 3, 2]\n",
        "Input Format\n",
        "\n",
        "The first line contains an integer, , denoting the number of commands.\n",
        "Each line  of the  subsequent lines contains one of the commands described above.\n",
        "\n",
        "Constraints\n",
        "\n",
        "The elements added to the list must be integers.\n",
        "Output Format\n",
        "\n",
        "For each command of type print, print the list on a new line.\n",
        "\n",
        "Sample Input 0\n",
        "\n",
        "12\n",
        "insert 0 5\n",
        "insert 1 10\n",
        "insert 0 6\n",
        "print\n",
        "remove 6\n",
        "append 9\n",
        "append 1\n",
        "sort\n",
        "print\n",
        "pop\n",
        "reverse\n",
        "print"
      ]
    },
    {
      "cell_type": "code",
      "metadata": {
        "id": "ZS4hVlEk7OE3"
      },
      "source": [
        "arr = []\n",
        "N = int(input())\n",
        "for i in range(N):\n",
        "  val= list(input(\"\").split(\" \"))      \n",
        "  if val[0]==\"insert\":\n",
        "    a ,b = map(int , (val[1],val[2]))\n",
        "    arr.insert(a,b)\n",
        "            \n",
        "  elif val[0]==\"print\":\n",
        "     print(lst)\n",
        "            \n",
        "  elif val[0]==\"remove\":\n",
        "    arr.remove(int(val[1]))\n",
        "\n",
        "  elif val[0]==\"append\":\n",
        "    arr.append(int(val[1]))\n",
        "            \n",
        "  elif val[0]==\"sort\":\n",
        "    arr.sort()\n",
        "        \n",
        "  elif val[0]==\"pop\":  \n",
        "    arr.pop()\n",
        "\n",
        "  elif val[0]==\"reverse\":\n",
        "    arr.reverse()"
      ],
      "execution_count": null,
      "outputs": []
    },
    {
      "cell_type": "markdown",
      "metadata": {
        "id": "xWL1f7DjSITW"
      },
      "source": [
        "### **Problem - 6 : Introduction to Sets**\n",
        "\n",
        "Now, let's use our knowledge of sets and help Mickey.\n",
        "\n",
        "Ms. Gabriel Williams is a botany professor at District College. One day, she asked her student Mickey to compute the average of all the plants with distinct heights in her greenhouse.\n",
        "\n",
        "Formula used:\n",
        "\n",
        "Function Description\n",
        "\n",
        "Complete the average function in the editor below.\n",
        "\n",
        "average has the following parameters:\n",
        "\n",
        "int arr: an array of integers\n",
        "Returns\n",
        "\n",
        "float: the resulting float value rounded to 3 places after the decimal\n",
        "Input Format\n",
        "\n",
        "The first line contains the integer, , the size of .\n",
        "The second line contains the  space-separated integers, .\n",
        "\n",
        "Constraints\n",
        "\n",
        "\n",
        "Sample Input\n",
        "\n",
        "STDIN                                       Function\n",
        "-----                                       --------\n",
        "10                                          arr[] size N = 10\n",
        "161 182 161 154 176 170 167 171 170 174     arr = [161, 181, ..., 174]\n",
        "Sample Output\n",
        "\n",
        "169.375\n",
        "Explanation\n",
        "\n",
        "Here, set is the set containing the distinct heights. Using the sum() and len() functions, we can compute the average"
      ]
    },
    {
      "cell_type": "code",
      "metadata": {
        "id": "M9htPz5kB1cg",
        "colab": {
          "base_uri": "https://localhost:8080/"
        },
        "outputId": "df03337b-63a6-44aa-9369-1609837e498b"
      },
      "source": [
        "size = int(input())\n",
        "arr = []\n",
        "for i in range(size):\n",
        "  arr.append(int(input()))\n",
        "\n",
        "arr_sum = sum(arr)\n",
        "print(arr_sum/len(arr))"
      ],
      "execution_count": null,
      "outputs": [
        {
          "output_type": "stream",
          "text": [
            "8\n",
            "154\n",
            "161\n",
            "167\n",
            "170\n",
            "171\n",
            "174\n",
            "176\n",
            "182\n",
            "169.375\n"
          ],
          "name": "stdout"
        }
      ]
    },
    {
      "cell_type": "markdown",
      "metadata": {
        "id": "5ysjAspGXB0t"
      },
      "source": [
        "### **Problem - 7: No Idea**\n",
        "\n",
        "There is an array of  integers. There are also  disjoint sets,  and , each containing  integers. You like all the integers in set  and dislike all the integers in set . Your initial happiness is . For each  integer in the array, if , you add  to your happiness. If , you add  to your happiness. Otherwise, your happiness does not change. Output your final happiness at the end.\n",
        "\n",
        "Note: Since  and  are sets, they have no repeated elements. However, the array might contain duplicate elements.\n",
        "\n",
        "Constraints\n",
        "\n",
        "\n",
        "\n",
        "Input Format\n",
        "\n",
        "The first line contains integers  and  separated by a space.\n",
        "The second line contains  integers, the elements of the array.\n",
        "The third and fourth lines contain  integers,  and , respectively.\n",
        "\n",
        "Output Format\n",
        "\n",
        "Output a single integer, your total happiness.\n",
        "\n",
        "Sample Input\n",
        "\n",
        "3 2\n",
        "1 5 3\n",
        "3 1\n",
        "5 7\n",
        "Sample Output\n",
        "\n",
        "1\n",
        "Explanation\n",
        "\n",
        "You gain  unit of happiness for elements  and  in set . You lose  unit for  in set . The element  in set  does not exist in the array so it is not included in the calculation.\n",
        "\n",
        "Hence, the total happiness is ."
      ]
    },
    {
      "cell_type": "code",
      "metadata": {
        "colab": {
          "base_uri": "https://localhost:8080/"
        },
        "id": "L2CqorQvQwwS",
        "outputId": "07957a0d-488d-45eb-b619-a604d0b352e7"
      },
      "source": [
        "m = int(input())\n",
        "n = int(input())\n",
        "arr = []\n",
        "arr_A = []\n",
        "arr_B = []\n",
        "for i in range(m):\n",
        "  arr.append(int(input()))\n",
        "\n",
        "\n",
        "for i in range(n):\n",
        "  arr_A.append(int(input()))\n",
        "\n",
        "for i in range(n):\n",
        "  arr_B.append(int(input()))\n",
        "\n",
        "count = 0\n",
        "# for i in range(m):\n",
        "#   for j in range(n):\n",
        "#     if(arr[i] == arr_A[j]):\n",
        "#       count+=1\n",
        "#     if(arr[i] == arr_B[j]):\n",
        "#       count-=1\n",
        "\n",
        "for i in arr:\n",
        "  if i in arr_A:\n",
        "    count+=1\n",
        "  elif i in arr_B:\n",
        "    count-=1\n",
        "  elif i not in arr_A and i not in arr_B:\n",
        "    pass\n",
        "  \n",
        "print(count)"
      ],
      "execution_count": null,
      "outputs": [
        {
          "output_type": "stream",
          "text": [
            "3\n",
            "2\n",
            "1\n",
            "5\n",
            "3\n",
            "3\n",
            "1\n",
            "5\n",
            "7\n",
            "1\n"
          ],
          "name": "stdout"
        }
      ]
    },
    {
      "cell_type": "markdown",
      "metadata": {
        "id": "YSlTdBCEMjib"
      },
      "source": [
        "### **Problem - 8:Symmetric Difference**\n",
        "\n",
        "Given  sets of integers,  and , print their symmetric difference in ascending order. The term symmetric difference indicates those values that exist in either  or  but do not exist in both.\n",
        "\n",
        "Input Format\n",
        "\n",
        "The first line of input contains an integer, .\n",
        "The second line contains  space-separated integers.\n",
        "The third line contains an integer, .\n",
        "The fourth line contains  space-separated integers.\n",
        "\n",
        "Output Format\n",
        "\n",
        "Output the symmetric difference integers in ascending order, one per line.\n",
        "\n",
        "Sample Input\n",
        "\n",
        "STDIN       Function\n",
        "-----       --------\n",
        "4           set a size M = 4\n",
        "2 4 5 9     a = {2, 4, 5, 9}\n",
        "4           set b size N = 4\n",
        "2 4 11 12   b = {2, 4, 11, 12}\n",
        "Sample Output\n",
        "\n",
        "5\n",
        "9\n",
        "11\n",
        "12\n"
      ]
    },
    {
      "cell_type": "code",
      "metadata": {
        "colab": {
          "base_uri": "https://localhost:8080/"
        },
        "id": "2PRwyDiaUY3k",
        "outputId": "8c38843e-5320-44c9-9f30-460df3926f3a"
      },
      "source": [
        "m,setA=(int(input()),input().split())\n",
        "n,setB=(int(input()),input().split())\n",
        "set_A=set(setA)\n",
        "set_B=set(setB)\n",
        "diff_setBA=set_B.difference(set_A)\n",
        "diff_setAB=set_A.difference(set_B)\n",
        "unionAB=diff_setBA.union(diff_setAB)\n",
        "print ('\\n'.join(sorted(unionAB, key=int)))"
      ],
      "execution_count": null,
      "outputs": [
        {
          "output_type": "stream",
          "text": [
            "1\n",
            "2\n",
            "1\n",
            "2\n",
            "\n"
          ],
          "name": "stdout"
        }
      ]
    },
    {
      "cell_type": "markdown",
      "metadata": {
        "id": "uXLl-16oNcWh"
      },
      "source": [
        "### **Problem - 9 : Set.add()**\n",
        "Apply your knowledge of the .add() operation to help your friend Rupal.\n",
        "\n",
        "Rupal has a huge collection of country stamps. She decided to count the total number of distinct country stamps in her collection. She asked for your help. You pick the stamps one by one from a stack of  country stamps.\n",
        "\n",
        "Find the total number of distinct country stamps.\n",
        "\n",
        "Input Format\n",
        "\n",
        "The first line contains an integer , the total number of country stamps.\n",
        "The next  lines contains the name of the country where the stamp is from.\n",
        "Constraints\n",
        "\n",
        "\n",
        "Output Format\n",
        "\n",
        "Output the total number of distinct country stamps on a single line.\n",
        "\n",
        "Sample Input\n",
        "\n",
        "7\n",
        "UK\n",
        "China\n",
        "USA\n",
        "France\n",
        "New Zealand\n",
        "UK\n",
        "France \n",
        "Sample Output\n",
        "\n",
        "5\n",
        "Explanation\n",
        "\n",
        "UK and France repeat twice. Hence, the total number of distinct country stamps is  (five)"
      ]
    },
    {
      "cell_type": "code",
      "metadata": {
        "id": "jdwhrujJYLhD",
        "colab": {
          "base_uri": "https://localhost:8080/"
        },
        "outputId": "8eca8e6a-ab03-47eb-91d5-a4913f76d8ae"
      },
      "source": [
        "\n",
        "\n",
        "size = int(input())\n",
        "setA = set()\n",
        "\n",
        "for i in range(size):\n",
        "  setA.addf(input())\n",
        "\n",
        "\n",
        "print(len(setA))\n",
        "#print(np.unique(setA))\n",
        "\n"
      ],
      "execution_count": null,
      "outputs": [
        {
          "output_type": "stream",
          "text": [
            "7\n",
            "uk\n",
            "china\n",
            "usa\n",
            "france\n",
            "new zealand\n",
            "uk\n",
            "france\n",
            "5\n",
            "[{'uk', 'usa', 'france', 'new zealand', 'china'}]\n"
          ],
          "name": "stdout"
        }
      ]
    },
    {
      "cell_type": "markdown",
      "metadata": {
        "id": "U3hQZxmGqx23"
      },
      "source": [
        "### **Problem - 10: Set .discard(), .remove() & .pop()**\n",
        "\n",
        "Task\n",
        "You have a non-empty set , and you have to execute  commands given in  lines.\n",
        "\n",
        "The commands will be pop, remove and discard.\n",
        "\n",
        "Input Format\n",
        "\n",
        "The first line contains integer , the number of elements in the set .\n",
        "The second line contains  space separated elements of set . All of the elements are non-negative integers, less than or equal to 9.\n",
        "The third line contains integer , the number of commands.\n",
        "The next  lines contains either pop, remove and/or discard commands followed by their associated value.\n",
        "\n",
        "Constraints\n",
        "\n",
        "\n",
        "\n",
        "Output Format\n",
        "\n",
        "Print the sum of the elements of set  on a single line.\n",
        "\n",
        "Sample Input\n",
        "\n",
        "9\n",
        "1 2 3 4 5 6 7 8 9\n",
        "10\n",
        "pop\n",
        "remove 9\n",
        "discard 9\n",
        "discard 8\n",
        "remove 7\n",
        "pop \n",
        "discard 6\n",
        "remove 5\n",
        "pop \n",
        "discard 5\n",
        "Sample Output\n",
        "\n",
        "4\n",
        "Explanation\n",
        "\n",
        "After completing these  operations on the set, we get set. Hence, the sum is .\n",
        "\n",
        "Note: Convert the elements of set s to integers while you are assigning them. To ensure the proper input of the set, we have added the first two lines of code to the editor.\n"
      ]
    },
    {
      "cell_type": "code",
      "metadata": {
        "id": "4qY4lSZnNbvR",
        "colab": {
          "base_uri": "https://localhost:8080/"
        },
        "outputId": "15578ecb-fd0e-435a-ad8b-939dc4e3ad03"
      },
      "source": [
        "size = int(input())\n",
        "setA = set(map(int, input().split(\" \")))\n",
        "comd = int(input())\n",
        "for i in range(0,comd):\n",
        "  listA = list(input().split(\" \"))\n",
        "  if(listA[0] == \"pop\"):\n",
        "    setA.pop()\n",
        "  elif(listA[0] == \"remove\"):\n",
        "    int_conv = int(listA[1])\n",
        "    setA.remove(int_conv)\n",
        "  elif(listA[0] == \"discard\"):\n",
        "    int_conv = int(listA[1])\n",
        "    setA.discard(int_conv)\n",
        "print(sum(setA))\n",
        "\n"
      ],
      "execution_count": null,
      "outputs": [
        {
          "output_type": "stream",
          "text": [
            "9\n",
            "1 2 3 4 5 6 7 8 9\n",
            "10\n",
            "pop\n",
            "remove 9\n",
            "discard 9\n",
            "discard 8\n",
            "remove 7\n",
            "pop\n",
            "discard 6\n",
            "remove 5\n",
            "pop\n",
            "discard 5\n",
            "4\n"
          ],
          "name": "stdout"
        }
      ]
    },
    {
      "cell_type": "markdown",
      "metadata": {
        "id": "kT0sdsJkv7u7"
      },
      "source": [
        "### **Problem - 11 : Set .union() Operation**\n",
        "\n",
        "\n",
        "\n",
        "The students of District College have subscriptions to English and French newspapers. Some students have subscribed only to English, some have subscribed to only French and some have subscribed to both newspapers.\n",
        "\n",
        "You are given two sets of student roll numbers. One set has subscribed to the English newspaper, and the other set is subscribed to the French newspaper. The same student could be in both sets. Your task is to find the total number of students who have subscribed to at least one newspaper.\n",
        "\n",
        "Input Format\n",
        "\n",
        "The first line contains an integer, , the number of students who have subscribed to the English newspaper.\n",
        "The second line contains  space separated roll numbers of those students.\n",
        "The third line contains , the number of students who have subscribed to the French newspaper.\n",
        "The fourth line contains  space separated roll numbers of those students.\n",
        "\n",
        "Constraints\n",
        "\n",
        "\n",
        "Output Format\n",
        "\n",
        "Output the total number of students who have at least one subscription.\n",
        "\n",
        "Sample Input\n",
        "\n",
        "9\n",
        "1 2 3 4 5 6 7 8 9\n",
        "9\n",
        "10 1 2 3 11 21 55 6 8\n",
        "Sample Output\n",
        "\n",
        "13\n",
        "Explanation\n",
        "\n",
        "Roll numbers of students who have at least one subscription:\n",
        " and . Roll numbers:  and  are in both sets so they are only counted once.\n",
        "Hence, the total is  students."
      ]
    },
    {
      "cell_type": "code",
      "metadata": {
        "id": "YDiIr5C5r6Wk",
        "colab": {
          "base_uri": "https://localhost:8080/"
        },
        "outputId": "a55347c1-7543-4655-d989-891c1056bae2"
      },
      "source": [
        "sizeA = int(input(\"\"))\n",
        "listA = set(map(int, input(\"\").split(\" \")))\n",
        "\n",
        "sizeB = int(input(\"\"))\n",
        "listB = set(map(int, input(\"\").split(\" \")))\n",
        "\n",
        "unionsetAB = set(listA.difference(listB))\n",
        "\n",
        "print(len(unionsetAB))\n",
        "\n",
        "\n"
      ],
      "execution_count": 5,
      "outputs": [
        {
          "output_type": "stream",
          "text": [
            "9\n",
            "1 2 3 4 5 6 7 8 9\n",
            "9\n",
            "10 1 2 3 11 21 55 6 8\n",
            "4\n"
          ],
          "name": "stdout"
        }
      ]
    },
    {
      "cell_type": "markdown",
      "metadata": {
        "id": "XnnLewASRpVC"
      },
      "source": [
        "### **Problem - 12: Set Mutations**\n",
        "\n",
        "\n",
        "\n",
        "You are given a set  and  number of other sets. These  number of sets have to perform some specific mutation operations on set .\n",
        "\n",
        "Your task is to execute those operations and print the sum of elements from set .\n",
        "\n",
        "Input Format\n",
        "\n",
        "The first line contains the number of elements in set .\n",
        "The second line contains the space separated list of elements in set .\n",
        "The third line contains integer , the number of other sets.\n",
        "The next  lines are divided into  parts containing two lines each.\n",
        "The first line of each part contains the space separated entries of the operation name and the length of the other set.\n",
        "The second line of each part contains space separated list of elements in the other set.\n",
        "\n",
        " len(set(A)) \n",
        " len(otherSets) \n",
        "\n",
        "Output Format\n",
        "\n",
        "Output the sum of elements in set .\n",
        "\n",
        "Sample Input\n",
        "\n",
        " 16\n",
        " 1 2 3 4 5 6 7 8 9 10 11 12 13 14 24 52\n",
        " 4\n",
        " intersection_update 10\n",
        " 2 3 5 6 8 9 1 4 7 11\n",
        " update 2\n",
        " 55 66\n",
        " symmetric_difference_update 5\n",
        " 22 7 35 62 58\n",
        " difference_update 7\n",
        " 11 22 35 55 58 62 66\n",
        "Sample Output\n",
        "\n",
        "38\n",
        "Explanation\n",
        "\n",
        "After the first operation, (intersection_update operation), we get:\n",
        "set \n",
        "\n",
        "After the second operation, (update operation), we get:\n",
        "set \n",
        "\n",
        "After the third operation, (symmetric_difference_update operation), we get:\n",
        "set \n",
        "\n",
        "After the fourth operation, ( difference_update operation), we get:\n",
        "set \n",
        "\n",
        "The sum of elements in set  after these operations is .\n"
      ]
    },
    {
      "cell_type": "code",
      "metadata": {
        "colab": {
          "base_uri": "https://localhost:8080/"
        },
        "id": "4hqCv4GBQO6V",
        "outputId": "cac83f08-a766-43c1-ceb9-6b113883a5b7"
      },
      "source": [
        "size = int(input(\"\"))\n",
        "listA = set(map(int, input(\"\").split(\" \")))\n",
        "sizeother = int(input(\"\"))\n",
        "\n",
        "for i in range(sizeother):\n",
        "  listnew = list(input().split())\n",
        "  if(listnew[0] == \"intersection_update\"):\n",
        "    insertval = set(int(x) for x in input('').split(\" \"))\n",
        "    listA.intersection_update(insertval)\n",
        "\n",
        "  elif(listnew[0] == \"symmetric_difference_update\"):\n",
        "    insertval = set(int(x) for x in input('').split(\" \"))\n",
        "    listA.symmetric_difference_update(insertval)\n",
        "\n",
        "  elif(listnew[0] == \"update\"):\n",
        "    insertval = set(int(x) for x in input('').split(\" \"))\n",
        "    listA.update(insertval)\n",
        "\n",
        "  elif(listnew[0] == \"difference_update\"):\n",
        "    insertval = set(int(x) for x in input('').split(\" \"))\n",
        "    listA.difference_update(insertval)\n",
        "\n",
        "print(sum(listA))"
      ],
      "execution_count": 11,
      "outputs": [
        {
          "output_type": "stream",
          "text": [
            "16\n",
            "1 2 3 4 5 6 7 8 9 10 11 12 13 14 24 52\n",
            "4\n",
            "intersection_update 10\n",
            "2 3 5 6 8 9 1 4 7 11\n",
            "update 2\n",
            "55 66\n",
            "symmetric_difference_update 5\n",
            "22 7 35 62 58\n",
            "difference_update 7\n",
            "11 22 35 55 58 62 66\n",
            "38\n"
          ],
          "name": "stdout"
        }
      ]
    },
    {
      "cell_type": "markdown",
      "metadata": {
        "id": "ynjHAG7MX99h"
      },
      "source": [
        "### **Problem - 13 : The Captain's Room**\n",
        "\n",
        "\n",
        "Mr. Anant Asankhya is the manager at the INFINITE hotel. The hotel has an infinite amount of rooms.\n",
        "\n",
        "One fine day, a finite number of tourists come to stay at the hotel.\n",
        "The tourists consist of:\n",
        "→ A Captain.\n",
        "→ An unknown group of families consisting of  members per group where  ≠ .\n",
        "\n",
        "The Captain was given a separate room, and the rest were given one room per group.\n",
        "\n",
        "Mr. Anant has an unordered list of randomly arranged room entries. The list consists of the room numbers for all of the tourists. The room numbers will appear  times per group except for the Captain's room.\n",
        "\n",
        "Mr. Anant needs you to help him find the Captain's room number.\n",
        "The total number of tourists or the total number of groups of families is not known to you.\n",
        "You only know the value of  and the room number list.\n",
        "\n",
        "Input Format\n",
        "\n",
        "The first line consists of an integer, , the size of each group.\n",
        "The second line contains the unordered elements of the room number list.\n",
        "\n",
        "\n",
        "Constraints\n",
        "\n",
        "\n",
        "Output Format\n",
        "\n",
        "Output the Captain's room number.\n",
        "\n",
        "Sample Input\n",
        "\n",
        "5\n",
        "1 2 3 6 5 4 4 2 5 3 6 1 6 5 3 2 4 1 2 5 1 4 3 6 8 4 3 1 5 6 2 \n",
        "Sample Output\n",
        "\n",
        "8\n",
        "Explanation\n",
        "\n",
        "The list of room numbers contains  elements. Since  is , there must be  groups of families. In the given list, all of the numbers repeat  times except for room number .\n",
        "Hence,  is the Captain's room number."
      ]
    },
    {
      "cell_type": "code",
      "metadata": {
        "colab": {
          "base_uri": "https://localhost:8080/"
        },
        "id": "Bk779aFyUQEJ",
        "outputId": "beaed7b1-7823-48db-f385-37080fd74ffe"
      },
      "source": [
        "size,listA = int(input()),list(map(int, input().split()))\n",
        "\n",
        "setlistA = set(listA)\n",
        "\n",
        "print(((sum(setlistA)*size)-(sum(listA)))//(size-1))"
      ],
      "execution_count": 28,
      "outputs": [
        {
          "output_type": "stream",
          "text": [
            "5\n",
            "1 2 3 6 5 4 4 2 5 3 6 1 6 5 3 2 4 1 2 5 1 4 3 6 8 4 3 1 5 6 2\n",
            "8\n"
          ],
          "name": "stdout"
        }
      ]
    },
    {
      "cell_type": "markdown",
      "metadata": {
        "id": "IyL2uaEpms_4"
      },
      "source": [
        "\n",
        "### **Problem -14 Check Subset** \n",
        "You are given two sets,  and .\n",
        "Your job is to find whether set  is a subset of set .\n",
        "\n",
        "If set  is subset of set , print True.\n",
        "If set  is not a subset of set , print False.\n",
        "\n",
        "Input Format\n",
        "\n",
        "The first line will contain the number of test cases, .\n",
        "The first line of each test case contains the number of elements in set .\n",
        "The second line of each test case contains the space separated elements of set .\n",
        "The third line of each test case contains the number of elements in set .\n",
        "The fourth line of each test case contains the space separated elements of set .\n",
        "\n",
        "Constraints\n",
        "\n",
        "Output Format\n",
        "\n",
        "Output True or False for each test case on separate lines.\n",
        "\n",
        "Sample Input\n",
        "\n",
        "3\n",
        "5\n",
        "1 2 3 5 6\n",
        "9\n",
        "9 8 5 6 3 2 1 4 7\n",
        "1\n",
        "2\n",
        "5\n",
        "3 6 5 4 1\n",
        "7\n",
        "1 2 3 5 6 8 9\n",
        "3\n",
        "9 8 2\n",
        "Sample Output\n",
        "\n",
        "True \n",
        "False\n",
        "False\n",
        "Explanation\n",
        "\n",
        "Test Case 01 Explanation\n",
        "\n",
        "Set  = {1 2 3 5 6}\n",
        "Set  = {9 8 5 6 3 2 1 4 7}\n",
        "All the elements of set  are elements of set .\n",
        "Hence, set  is a subset of set .\n",
        "\n"
      ]
    },
    {
      "cell_type": "code",
      "metadata": {
        "colab": {
          "base_uri": "https://localhost:8080/"
        },
        "id": "PzXbV4eraOoR",
        "outputId": "fc898b39-1cc4-4267-94ae-16b67de4bf31"
      },
      "source": [
        "def CheckSubset(ElementsA,ElementsB):\n",
        "    result = 0\n",
        "    for i in ElementsA:\n",
        "        if i in ElementsB:\n",
        "            result = 1\n",
        "        else:\n",
        "            result = 0\n",
        "            break\n",
        "    return True if result == 1 else False\n",
        "\n",
        "test_case = int(input(\"\"))\n",
        "for i in range(test_case):\n",
        "    ElementsA= int(input(\"\"))\n",
        "    SetA = set(int(x) for x in input().split(\" \"))\n",
        "    ElementsB =int(input(\"\"))\n",
        "    SetB = set(int(x) for x in input().split(\" \"))\n",
        "    print(CheckSubset(SetA , SetB))"
      ],
      "execution_count": 32,
      "outputs": [
        {
          "output_type": "stream",
          "text": [
            "3\n",
            "5\n",
            "1 2 3 5 6\n",
            "9\n",
            "9 8 5 6 3 2 1 4 7\n",
            "True\n",
            "1\n",
            "2\n",
            "5\n",
            "3 6 5 4 1\n",
            "False\n",
            "7\n",
            "1 2 3 5 6 8 9\n",
            "3\n",
            "9 8 2\n",
            "False\n"
          ],
          "name": "stdout"
        }
      ]
    },
    {
      "cell_type": "markdown",
      "metadata": {
        "id": "Trd7OY7PqIOO"
      },
      "source": [
        "### **Problem - 15 : Check Strict Superset**\n",
        "\n",
        "\n",
        "You are given a set  and  other sets.\n",
        "Your job is to find whether set  is a strict superset of each of the  sets.\n",
        "\n",
        "Print True, if  is a strict superset of each of the  sets. Otherwise, print False.\n",
        "\n",
        "A strict superset has at least one element that does not exist in its subset.\n",
        "\n",
        "Example\n",
        "Set is a strict superset of set.\n",
        "Set is not a strict superset of set.\n",
        "Set is not a strict superset of set.\n",
        "\n",
        "Input Format\n",
        "\n",
        "The first line contains the space separated elements of set .\n",
        "The second line contains integer , the number of other sets.\n",
        "The next  lines contains the space separated elements of the other sets.\n",
        "\n",
        "Constraints\n",
        "\n",
        "Output Format\n",
        "\n",
        "Print True if set  is a strict superset of all other  sets. Otherwise, print False.\n",
        "\n",
        "Sample Input 0\n",
        "\n",
        "1 2 3 4 5 6 7 8 9 10 11 12 23 45 84 78\n",
        "2\n",
        "1 2 3 4 5\n",
        "100 11 12\n",
        "Sample Output 0\n",
        "\n",
        "False\n",
        "Explanation 0\n",
        "\n",
        "Set  is the strict superset of the set but not of the set because  is not in set .\n",
        "Hence, the output is False.\n"
      ]
    },
    {
      "cell_type": "code",
      "metadata": {
        "colab": {
          "base_uri": "https://localhost:8080/"
        },
        "id": "gCHoWry4qGjN",
        "outputId": "b23a1484-ab47-4ca1-8659-e0671ea48a40"
      },
      "source": [
        "a = set(input().split())\n",
        "print(all(a > set(input().split()) for i in range(int(input()))))"
      ],
      "execution_count": 33,
      "outputs": [
        {
          "output_type": "stream",
          "text": [
            "1 2 3 4 5 6 7 8 9 10 11 12 23 45 84 78\n",
            "2\n",
            "1 2 3 4 5\n",
            "100 11 12\n",
            "False\n"
          ],
          "name": "stdout"
        }
      ]
    },
    {
      "cell_type": "markdown",
      "metadata": {
        "id": "3CQIPf75EIQ9"
      },
      "source": [
        "### **Problem - 16: Tuples**\n",
        "\n",
        "Task\n",
        "Given an integer, , and  space-separated integers as input, create a tuple, , of those  integers. Then compute and print the result of .\n",
        "\n",
        "Note: hash() is one of the functions in the __builtins__ module, so it need not be imported.\n",
        "\n",
        "Input Format\n",
        "\n",
        "The first line contains an integer, , denoting the number of elements in the tuple.\n",
        "The second line contains  space-separated integers describing the elements in tuple .\n",
        "\n",
        "Output Format\n",
        "\n",
        "Print the result of .\n",
        "\n",
        "Sample Input 0\n",
        "\n",
        "2\n",
        "1 2\n",
        "Sample Output 0\n",
        "\n",
        "3713081631934410656"
      ]
    },
    {
      "cell_type": "code",
      "metadata": {
        "colab": {
          "base_uri": "https://localhost:8080/"
        },
        "id": "MJLurMY9BNY2",
        "outputId": "4e284139-be64-4d25-c328-c0765567231e"
      },
      "source": [
        "if __name__ == '__main__':\n",
        "    n = int(input())\n",
        "    integer_list = tuple(map(int, input().split()))\n",
        "    print(hash(integer_list))"
      ],
      "execution_count": null,
      "outputs": [
        {
          "output_type": "stream",
          "text": [
            "2\n",
            "1\n",
            "3430019387558\n"
          ],
          "name": "stdout"
        }
      ]
    },
    {
      "cell_type": "markdown",
      "metadata": {
        "id": "oYDX2MKMuP4f"
      },
      "source": [
        "### **Problem - 17 : Set .intersection() Operation**\n",
        "\n",
        "Task\n",
        "The students of District College have subscriptions to English and French newspapers. Some students have subscribed only to English, some have subscribed only to French, and some have subscribed to both newspapers.\n",
        "\n",
        "You are given two sets of student roll numbers. One set has subscribed to the English newspaper, one set has subscribed to the French newspaper. Your task is to find the total number of students who have subscribed to both newspapers.\n",
        "\n",
        "Input Format\n",
        "\n",
        "The first line contains , the number of students who have subscribed to the English newspaper.\n",
        "The second line contains  space separated roll numbers of those students.\n",
        "The third line contains , the number of students who have subscribed to the French newspaper.\n",
        "The fourth line contains  space separated roll numbers of those students.\n",
        "\n",
        "Constraints\n",
        "\n",
        "\n",
        "Output Format\n",
        "\n",
        "Output the total number of students who have subscriptions to both English and French newspapers.\n",
        "\n",
        "Sample Input\n",
        "\n",
        "9\n",
        "1 2 3 4 5 6 7 8 9\n",
        "9\n",
        "10 1 2 3 11 21 55 6 8\n",
        "Sample Output\n",
        "\n",
        "5\n",
        "Explanation\n",
        "\n",
        "The roll numbers of students who have both subscriptions:\n",
        " and .\n",
        "Hence, the total is  students.\n"
      ]
    },
    {
      "cell_type": "code",
      "metadata": {
        "colab": {
          "base_uri": "https://localhost:8080/"
        },
        "id": "rjP7KINauPpe",
        "outputId": "ce2550b2-9a46-4f63-a774-8077bc989321"
      },
      "source": [
        "sizeA = int(input(\"\"))\n",
        "listA=set(map(int , input(\"\").split(\" \")))\n",
        "sizeB = int(input(\"\"))\n",
        "listB=set(map(int , input(\"\").split(\" \")))\n",
        "inter_set = set(listA.intersection(listB))\n",
        "print(len(inter_set))"
      ],
      "execution_count": 35,
      "outputs": [
        {
          "output_type": "stream",
          "text": [
            "9\n",
            "1 2 3 4 5 6 7 8 9\n",
            "9\n",
            "10 1 2 3 11 21 55 6 8\n",
            "5\n"
          ],
          "name": "stdout"
        }
      ]
    },
    {
      "cell_type": "markdown",
      "metadata": {
        "id": "PLouxctcvNgS"
      },
      "source": [
        "### **Problem - 18 :Set .difference() Operation**\n",
        "\n",
        "Students of District College have a subscription to English and French newspapers. Some students have subscribed to only the English newspaper, some have subscribed to only the French newspaper, and some have subscribed to both newspapers.\n",
        "\n",
        "You are given two sets of student roll numbers. One set has subscribed to the English newspaper, and one set has subscribed to the French newspaper. Your task is to find the total number of students who have subscribed to only English newspapers.\n",
        "\n",
        "Input Format\n",
        "\n",
        "The first line contains the number of students who have subscribed to the English newspaper.\n",
        "The second line contains the space separated list of student roll numbers who have subscribed to the English newspaper.\n",
        "The third line contains the number of students who have subscribed to the French newspaper.\n",
        "The fourth line contains the space separated list of student roll numbers who have subscribed to the French newspaper.\n",
        "\n",
        "Constraints\n",
        "\n",
        "\n",
        "Output Format\n",
        "\n",
        "Output the total number of students who are subscribed to the English newspaper only.\n",
        "\n",
        "Sample Input\n",
        "\n",
        "9\n",
        "1 2 3 4 5 6 7 8 9\n",
        "9\n",
        "10 1 2 3 11 21 55 6 8\n",
        "Sample Output\n",
        "\n",
        "4\n",
        "Explanation\n",
        "\n",
        "The roll numbers of students who only have English newspaper subscriptions are:\n",
        " and .\n",
        "Hence, the total is  students."
      ]
    },
    {
      "cell_type": "code",
      "metadata": {
        "colab": {
          "base_uri": "https://localhost:8080/"
        },
        "id": "qPB7PVRmuu5t",
        "outputId": "bf820b5a-5da7-430b-8de0-b9e236cd8f99"
      },
      "source": [
        "sizeA = int(input(\"\"))\n",
        "listA = set(map(int , input(\"\").split(\" \")))\n",
        "sizeB = int(input(\"\"))\n",
        "listB = set(map(int , input(\"\").split(\" \")))\n",
        "diff_set = listA.difference(listB)\n",
        "print(len(diff_set))\n"
      ],
      "execution_count": 36,
      "outputs": [
        {
          "output_type": "stream",
          "text": [
            "9\n",
            "1 2 3 4 5 6 7 8 9\n",
            "9\n",
            "10 1 2 3 11 21 55 6 8\n",
            "4\n"
          ],
          "name": "stdout"
        }
      ]
    },
    {
      "cell_type": "markdown",
      "metadata": {
        "id": "aLPdtAL2v35L"
      },
      "source": [
        "### **Problem - 19: Set .symmetric_difference() Operation**\n",
        "\n",
        "\n",
        "Students of District College have subscriptions to English and French newspapers. Some students have subscribed to English only, some have subscribed to French only, and some have subscribed to both newspapers.\n",
        "\n",
        "You are given two sets of student roll numbers. One set has subscribed to the English newspaper, and one set has subscribed to the French newspaper. Your task is to find the total number of students who have subscribed to either the English or the French newspaper but not both.\n",
        "\n",
        "Input Format\n",
        "\n",
        "The first line contains the number of students who have subscribed to the English newspaper.\n",
        "The second line contains the space separated list of student roll numbers who have subscribed to the English newspaper.\n",
        "The third line contains the number of students who have subscribed to the French newspaper.\n",
        "The fourth line contains the space separated list of student roll numbers who have subscribed to the French newspaper.\n",
        "\n",
        "Constraints\n",
        "\n",
        "\n",
        "Output Format\n",
        "\n",
        "Output total number of students who have subscriptions to the English or the French newspaper but not both.\n",
        "\n",
        "Sample Input\n",
        "\n",
        "9\n",
        "1 2 3 4 5 6 7 8 9\n",
        "9\n",
        "10 1 2 3 11 21 55 6 8\n",
        "Sample Output\n",
        "\n",
        "8\n",
        "Explanation\n",
        "\n",
        "The roll numbers of students who have subscriptions to English or French newspapers but not both are:\n",
        " and .\n",
        "Hence, the total is  students.\n",
        "\n"
      ]
    },
    {
      "cell_type": "code",
      "metadata": {
        "colab": {
          "base_uri": "https://localhost:8080/"
        },
        "id": "iWsuvPinvkaT",
        "outputId": "45575381-9a51-4749-dbbe-9d571aea1de1"
      },
      "source": [
        "sizeA = int(input(\"\"))\n",
        "listA = set(map(int , input(\"\").split(\" \")))\n",
        "sizeB = int(input(\"\"))\n",
        "listB = set(map(int , input(\"\").split(\" \")))\n",
        "diff_set = listA.symmetric_difference(listB)\n",
        "print(len(diff_set))"
      ],
      "execution_count": 37,
      "outputs": [
        {
          "output_type": "stream",
          "text": [
            "9\n",
            "1 2 3 4 5 6 7 8 9\n",
            "9\n",
            "10 1 2 3 11 21 55 6 8\n",
            "8\n"
          ],
          "name": "stdout"
        }
      ]
    },
    {
      "cell_type": "code",
      "metadata": {
        "id": "hqM50wJTwW9L"
      },
      "source": [
        ""
      ],
      "execution_count": null,
      "outputs": []
    }
  ]
}