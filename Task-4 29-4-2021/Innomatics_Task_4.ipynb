{
  "nbformat": 4,
  "nbformat_minor": 0,
  "metadata": {
    "colab": {
      "name": "Innomatics Task-4.ipynb",
      "provenance": [],
      "collapsed_sections": []
    },
    "kernelspec": {
      "name": "python3",
      "display_name": "Python 3"
    },
    "language_info": {
      "name": "python"
    }
  },
  "cells": [
    {
      "cell_type": "markdown",
      "metadata": {
        "id": "fUriWtgGjWkh"
      },
      "source": [
        "### **Problem -1: Swap Case**\n",
        "You are given a string and your task is to swap cases. In other words, convert all lowercase letters to uppercase letters and vice versa.\n",
        "\n",
        "For Example:\n",
        "\n",
        "Www.HackerRank.com → wWW.hACKERrANK.COM\n",
        "Pythonist 2 → pYTHONIST 2  \n",
        "Function Description\n",
        "\n",
        "Complete the swap_case function in the editor below.\n",
        "\n",
        "swap_case has the following parameters:\n",
        "\n",
        "string s: the string to modify\n",
        "Returns\n",
        "\n",
        "string: the modified string\n",
        "Input Format\n",
        "\n",
        "A single line containing a string .\n",
        "\n",
        "Constraints\n",
        "\n",
        "\n",
        "Sample Input 0\n",
        "\n",
        "HackerRank.com presents \"Pythonist 2\".\n",
        "Sample Output 0\n",
        "\n",
        "hACKERrANK.COM PRESENTS \"pYTHONIST 2\"."
      ]
    },
    {
      "cell_type": "code",
      "metadata": {
        "colab": {
          "base_uri": "https://localhost:8080/"
        },
        "id": "0FVaXjjIjMqy",
        "outputId": "9387fc76-c579-4aac-9426-5d08abe17645"
      },
      "source": [
        "def swap_case(s):\n",
        "    return s.swapcase()\n",
        "\n",
        "if __name__ == '__main__':\n",
        "    s = input()\n",
        "    result = swap_case(s)\n",
        "    print(result)"
      ],
      "execution_count": 1,
      "outputs": [
        {
          "output_type": "stream",
          "text": [
            "HackerRank.com presents \"Pythonist 2\".\n",
            "hACKERrANK.COM PRESENTS \"pYTHONIST 2\".\n"
          ],
          "name": "stdout"
        }
      ]
    },
    {
      "cell_type": "markdown",
      "metadata": {
        "id": "jqZuA9sMj9uK"
      },
      "source": [
        "### **Problem -2: String Split and Join**\n",
        "\n",
        "Task\n",
        "You are given a string. Split the string on a \" \" (space) delimiter and join using a - hyphen.\n",
        "\n",
        "Function Description\n",
        "\n",
        "Complete the split_and_join function in the editor below.\n",
        "\n",
        "split_and_join has the following parameters:\n",
        "\n",
        "string line: a string of space-separated words\n",
        "Returns\n",
        "\n",
        "string: the resulting string\n",
        "Input Format\n",
        "The one line contains a string consisting of space separated words.\n",
        "\n",
        "Sample Input\n",
        "\n",
        "this is a string   \n",
        "Sample Output\n",
        "\n",
        "this-is-a-string"
      ]
    },
    {
      "cell_type": "code",
      "metadata": {
        "colab": {
          "base_uri": "https://localhost:8080/"
        },
        "id": "OZ-DZwEGjiSM",
        "outputId": "a9ca5cd6-33ae-442f-ea8b-ccb8882def96"
      },
      "source": [
        "def split_and_join(line):\n",
        "    return line.replace(' ','-')\n",
        "    # write your code here\n",
        "\n",
        "if __name__ == '__main__':\n",
        "    line = input()\n",
        "    result = split_and_join(line)\n",
        "    print(result)"
      ],
      "execution_count": 2,
      "outputs": [
        {
          "output_type": "stream",
          "text": [
            "this is a string  \n",
            "this-is-a-string--\n"
          ],
          "name": "stdout"
        }
      ]
    },
    {
      "cell_type": "markdown",
      "metadata": {
        "id": "hnhiBK1LkaX9"
      },
      "source": [
        "### **Problem -3: Whats's your Name?**\n",
        "\n",
        "You are given the firstname and lastname of a person on two different lines. Your task is to read them and print the following:\n",
        "\n",
        "Hello firstname lastname! You just delved into python.\n",
        "\n",
        "Function Description\n",
        "\n",
        "Complete the print_full_name function in the editor below.\n",
        "\n",
        "print_full_name has the following parameters:\n",
        "\n",
        "string first: the first name\n",
        "string last: the last name\n",
        "Prints\n",
        "\n",
        "string: 'Hello  ! You just delved into python' where  and  are replaced with  and .\n",
        "Input Format\n",
        "\n",
        "The first line contains the first name, and the second line contains the last name.\n",
        "\n",
        "Constraints\n",
        "\n",
        "The length of the first and last names are each ≤ .\n",
        "\n",
        "Sample Input 0\n",
        "\n",
        "Ross\n",
        "Taylor\n",
        "Sample Output 0\n",
        "\n",
        "Hello Ross Taylor! You just delved into python.\n",
        "Explanation 0\n",
        "\n",
        "The input read by the program is stored as a string data type. A string is a collection of characters.\n",
        "\n"
      ]
    },
    {
      "cell_type": "code",
      "metadata": {
        "colab": {
          "base_uri": "https://localhost:8080/"
        },
        "id": "d8fvZXpmkIPW",
        "outputId": "5282fe0f-63d9-4155-f502-96750ef71a33"
      },
      "source": [
        "\n",
        "def print_full_name(first, last):\n",
        "    print(\"Hello {} {}! You just delved into python.\".format(first ,last))\n",
        "\n",
        "if __name__ == '__main__':\n",
        "    first_name = input()\n",
        "    last_name = input()\n",
        "    print_full_name(first_name, last_name)"
      ],
      "execution_count": 4,
      "outputs": [
        {
          "output_type": "stream",
          "text": [
            "asdf\n",
            "asdf\n",
            "Hello asdf asdf! You just delved into python.\n"
          ],
          "name": "stdout"
        }
      ]
    },
    {
      "cell_type": "markdown",
      "metadata": {
        "id": "GNPLPld-mSOs"
      },
      "source": [
        "### **Problem - 4: Mutations**\n",
        "\n",
        "ask\n",
        "Read a given string, change the character at a given index and then print the modified string.\n",
        "Function Description\n",
        "\n",
        "Complete the mutate_string function in the editor below.\n",
        "\n",
        "mutate_string has the following parameters:\n",
        "\n",
        "string string: the string to change\n",
        "int position: the index to insert the character at\n",
        "string character: the character to insert\n",
        "Returns\n",
        "\n",
        "string: the altered string\n",
        "Input Format\n",
        "\n",
        "The first line contains a string, .\n",
        "The next line contains an integer , the index location and a string , separated by a space.\n",
        "\n",
        "Sample Input\n",
        "\n",
        "STDIN           Function\n",
        "-----           --------\n",
        "abracadabra     s = 'abracadabra'\n",
        "5 k             position = 5, character = 'k'\n",
        "Sample Output\n",
        "\n",
        "abrackdabra"
      ]
    },
    {
      "cell_type": "code",
      "metadata": {
        "colab": {
          "base_uri": "https://localhost:8080/"
        },
        "id": "JgK4B38JkoxQ",
        "outputId": "dae56826-67e3-4a5f-9ef8-231362d35034"
      },
      "source": [
        "def mutate_string(string, position, character):\n",
        "    return string[:position]+character + string[(position+1):]\n",
        "\n",
        "if __name__ == '__main__':\n",
        "    s = input()\n",
        "    i, c = input().split()\n",
        "    s_new = mutate_string(s, int(i), c)\n",
        "    print(s_new)"
      ],
      "execution_count": 5,
      "outputs": [
        {
          "output_type": "stream",
          "text": [
            "abracadabra\n",
            "5 k\n",
            "abrackdabra\n"
          ],
          "name": "stdout"
        }
      ]
    },
    {
      "cell_type": "markdown",
      "metadata": {
        "id": "S-vqg14im2rl"
      },
      "source": [
        "### **Problem - 5: Find a string**\n",
        "In this challenge, the user enters a string and a substring. You have to print the number of times that the substring occurs in the given string. String traversal will take place from left to right, not from right to left.\n",
        "\n",
        "NOTE: String letters are case-sensitive.\n",
        "\n",
        "Input Format\n",
        "\n",
        "The first line of input contains the original string. The next line contains the substring.\n",
        "\n",
        "Constraints\n",
        "\n",
        "\n",
        "Each character in the string is an ascii character.\n",
        "\n",
        "Output Format\n",
        "\n",
        "Output the integer number indicating the total number of occurrences of the substring in the original string.\n",
        "\n",
        "Sample Input\n",
        "\n",
        "ABCDCDC\n",
        "CDC\n",
        "Sample Output\n",
        "\n",
        "2\n",
        "Concept\n",
        "\n",
        "Some string processing examples, such as these, might be useful.\n",
        "There are a couple of new concepts:\n",
        "In Python, the length of a string is found by the function len(s), where  is the string.\n",
        "To traverse through the length of a string, use a for loop:\n",
        "\n",
        "for i in range(0, len(s)):\n",
        "    print (s[i])\n",
        "A range function is used to loop over some length:\n",
        "\n",
        "range (0, 5)\n",
        "Here, the range loops over  to .  is excluded.\n"
      ]
    },
    {
      "cell_type": "code",
      "metadata": {
        "colab": {
          "base_uri": "https://localhost:8080/"
        },
        "id": "q1e9Cmptm_i5",
        "outputId": "64929452-837e-4921-b1b8-63e4e48dc8c1"
      },
      "source": [
        "def count_substring(string, sub_string):\n",
        "    substring_len= len(sub_string)\n",
        "    result = 0\n",
        "    for i in range(len(string)+1-substring_len):\n",
        "        if(string[i:i+substring_len]==sub_string):\n",
        "            result+=1\n",
        "        else:\n",
        "            continue\n",
        "    \n",
        "    return result\n",
        "\n",
        "if __name__ == '__main__':\n",
        "    string = input().strip()\n",
        "    sub_string = input().strip()\n",
        "    \n",
        "    count = count_substring(string, sub_string)\n",
        "    print(count)"
      ],
      "execution_count": 9,
      "outputs": [
        {
          "output_type": "stream",
          "text": [
            "abcdcdc\n",
            "cdc\n",
            "2\n"
          ],
          "name": "stdout"
        }
      ]
    },
    {
      "cell_type": "markdown",
      "metadata": {
        "id": "ha-A5CUJpJOG"
      },
      "source": [
        "### **Problem - 6: Find a string**\n",
        "\n",
        "In this challenge, the user enters a string and a substring. You have to print the number of times that the substring occurs in the given string. String traversal will take place from left to right, not from right to left.\n",
        "\n",
        "NOTE: String letters are case-sensitive.\n",
        "\n",
        "Input Format\n",
        "\n",
        "The first line of input contains the original string. The next line contains the substring.\n",
        "\n",
        "Constraints\n",
        "\n",
        "\n",
        "Each character in the string is an ascii character.\n",
        "\n",
        "Output Format\n",
        "\n",
        "Output the integer number indicating the total number of occurrences of the substring in the original string.\n",
        "\n",
        "Sample Input\n",
        "\n",
        "ABCDCDC\n",
        "CDC\n",
        "Sample Output\n",
        "\n",
        "2\n",
        "Concept\n",
        "\n",
        "Some string processing examples, such as these, might be useful.\n",
        "There are a couple of new concepts:\n",
        "In Python, the length of a string is found by the function len(s), where  is the string.\n",
        "To traverse through the length of a string, use a for loop:\n",
        "\n",
        "for i in range(0, len(s)):\n",
        "    print (s[i])\n",
        "A range function is used to loop over some length:\n",
        "\n",
        "range (0, 5)\n",
        "Here, the range loops over  to .  is excluded.\n"
      ]
    },
    {
      "cell_type": "code",
      "metadata": {
        "colab": {
          "base_uri": "https://localhost:8080/"
        },
        "id": "vDFFIap0nMeC",
        "outputId": "b0ed83b6-398f-4622-a5c7-0da6eab92f42"
      },
      "source": [
        "def count_substring(string, sub_string):\n",
        "    substring_len= len(sub_string)\n",
        "    result = 0\n",
        "    for i in range(len(string)+1-substring_len):\n",
        "        if(string[i:i+substring_len]==sub_string):\n",
        "            result+=1\n",
        "        else:\n",
        "            continue\n",
        "    \n",
        "    return result\n",
        "\n",
        "if __name__ == '__main__':\n",
        "    string = input().strip()\n",
        "    sub_string = input().strip()\n",
        "    \n",
        "    count = count_substring(string, sub_string)\n",
        "    print(count)"
      ],
      "execution_count": 10,
      "outputs": [
        {
          "output_type": "stream",
          "text": [
            "abcdcdc\n",
            "cdc\n",
            "2\n"
          ],
          "name": "stdout"
        }
      ]
    },
    {
      "cell_type": "markdown",
      "metadata": {
        "id": "pKxMDzHDqT0q"
      },
      "source": [
        "### **Problem - 7: String Validators**\n",
        "\n",
        "Task\n",
        "\n",
        "You are given a string .\n",
        "Your task is to find out if the string  contains: alphanumeric characters, alphabetical characters, digits, lowercase and uppercase characters.\n",
        "\n",
        "Input Format\n",
        "\n",
        "A single line containing a string .\n",
        "\n",
        "Constraints\n",
        "\n",
        "\n",
        "Output Format\n",
        "\n",
        "In the first line, print True if  has any alphanumeric characters. Otherwise, print False.\n",
        "In the second line, print True if  has any alphabetical characters. Otherwise, print False.\n",
        "In the third line, print True if  has any digits. Otherwise, print False.\n",
        "In the fourth line, print True if  has any lowercase characters. Otherwise, print False.\n",
        "In the fifth line, print True if  has any uppercase characters. Otherwise, print False.\n",
        "\n",
        "Sample Input\n",
        "\n",
        "qA2\n",
        "Sample Output\n",
        "\n",
        "True\n",
        "True\n",
        "True\n",
        "True\n",
        "True\n",
        "\n"
      ]
    },
    {
      "cell_type": "code",
      "metadata": {
        "colab": {
          "base_uri": "https://localhost:8080/"
        },
        "id": "KY4Yh6SapzVk",
        "outputId": "c82e16e2-1524-491f-8e58-0c440b6009ac"
      },
      "source": [
        "if __name__ == '__main__':\n",
        "    s = input()\n",
        "    print(any(c.isalnum()  for c in s))\n",
        "    print(any(c.isalpha() for c in s))\n",
        "    print(any(c.isdigit() for c in s))\n",
        "    print(any(c.islower() for c in s))\n",
        "    print(any(c.isupper() for c in s))"
      ],
      "execution_count": 12,
      "outputs": [
        {
          "output_type": "stream",
          "text": [
            "qA2\n",
            "True\n",
            "True\n",
            "True\n",
            "True\n",
            "True\n"
          ],
          "name": "stdout"
        }
      ]
    },
    {
      "cell_type": "markdown",
      "metadata": {
        "id": "UTCYCwzmuV-a"
      },
      "source": [
        "### **Problem -8: Text Alignment**\n",
        "\n",
        "\n",
        "Task\n",
        "\n",
        "You are given a partial code that is used for generating the HackerRank Logo of variable thickness.\n",
        "Your task is to replace the blank (______) with rjust, ljust or center.\n",
        "\n",
        "Input Format\n",
        "\n",
        "A single line containing the thickness value for the logo.\n",
        "\n",
        "Constraints\n",
        "\n",
        "The thickness must be an odd number.\n",
        "\n",
        "Output Format\n",
        "\n",
        "Output the desired logo.\n",
        "\n",
        "Sample Input\n",
        "\n",
        "5\n",
        "Sample Output\n",
        "\n",
        "    H    \n",
        "   HHH   \n",
        "  HHHHH  \n",
        " HHHHHHH \n",
        "HHHHHHHHH\n",
        "  HHHHH               HHHHH             \n",
        "  HHHHH               HHHHH             \n",
        "  HHHHH               HHHHH             \n",
        "  HHHHH               HHHHH             \n",
        "  HHHHH               HHHHH             \n",
        "  HHHHH               HHHHH             \n",
        "  HHHHHHHHHHHHHHHHHHHHHHHHH   \n",
        "  HHHHHHHHHHHHHHHHHHHHHHHHH   \n",
        "  HHHHHHHHHHHHHHHHHHHHHHHHH   \n",
        "  HHHHH               HHHHH             \n",
        "  HHHHH               HHHHH             \n",
        "  HHHHH               HHHHH             \n",
        "  HHHHH               HHHHH             \n",
        "  HHHHH               HHHHH             \n",
        "  HHHHH               HHHHH             \n",
        "                    HHHHHHHHH \n",
        "                     HHHHHHH  \n",
        "                      HHHHH   \n",
        "                       HHH    \n",
        "                        H "
      ]
    },
    {
      "cell_type": "code",
      "metadata": {
        "colab": {
          "base_uri": "https://localhost:8080/"
        },
        "id": "cZONdPcFqlbR",
        "outputId": "fdc553e0-eb4c-45ef-e24d-da6439be3256"
      },
      "source": [
        "thickness = int(input()) #This must be an odd number\n",
        "c = 'H'\n",
        "\n",
        "#Top Cone\n",
        "for i in range(thickness):\n",
        "    print((c*i).rjust(thickness-1)+c+(c*i).ljust(thickness-1))\n",
        "\n",
        "#Top Pillars\n",
        "for i in range(thickness+1):\n",
        "    print((c*thickness).center(thickness*2)+(c*thickness).center(thickness*6))\n",
        "\n",
        "#Middle Belt\n",
        "for i in range((thickness+1)//2):\n",
        "    print((c*thickness*5).center(thickness*6))    \n",
        "\n",
        "#Bottom Pillars\n",
        "for i in range(thickness+1):\n",
        "    print((c*thickness).center(thickness*2)+(c*thickness).center(thickness*6))    \n",
        "\n",
        "#Bottom Cone\n",
        "for i in range(thickness):\n",
        "    print(((c*(thickness-i-1)).rjust(thickness)+c+(c*(thickness-i-1)).ljust(thickness)).rjust(thickness*6))"
      ],
      "execution_count": 21,
      "outputs": [
        {
          "output_type": "stream",
          "text": [
            "5\n",
            "    H    \n",
            "   HHH   \n",
            "  HHHHH  \n",
            " HHHHHHH \n",
            "HHHHHHHHH\n",
            "  HHHHH               HHHHH             \n",
            "  HHHHH               HHHHH             \n",
            "  HHHHH               HHHHH             \n",
            "  HHHHH               HHHHH             \n",
            "  HHHHH               HHHHH             \n",
            "  HHHHH               HHHHH             \n",
            "  HHHHHHHHHHHHHHHHHHHHHHHHH   \n",
            "  HHHHHHHHHHHHHHHHHHHHHHHHH   \n",
            "  HHHHHHHHHHHHHHHHHHHHHHHHH   \n",
            "  HHHHH               HHHHH             \n",
            "  HHHHH               HHHHH             \n",
            "  HHHHH               HHHHH             \n",
            "  HHHHH               HHHHH             \n",
            "  HHHHH               HHHHH             \n",
            "  HHHHH               HHHHH             \n",
            "                    HHHHHHHHH \n",
            "                     HHHHHHH  \n",
            "                      HHHHH   \n",
            "                       HHH    \n",
            "                        H     \n"
          ],
          "name": "stdout"
        }
      ]
    },
    {
      "cell_type": "markdown",
      "metadata": {
        "id": "MtxsSKPvugdI"
      },
      "source": [
        "### **Problem -9 : Text Wrap**\n",
        "\n",
        "You are given a string  and width .\n",
        "Your task is to wrap the string into a paragraph of width .\n",
        "\n",
        "Function Description\n",
        "\n",
        "Complete the wrap function in the editor below.\n",
        "\n",
        "wrap has the following parameters:\n",
        "\n",
        "string string: a long string\n",
        "int max_width: the width to wrap to\n",
        "Returns\n",
        "\n",
        "string: a single string with newline characters ('\\n') where the breaks should be\n",
        "Input Format\n",
        "\n",
        "The first line contains a string, .\n",
        "The second line contains the width, .\n",
        "\n",
        "Constraints\n",
        "\n",
        "Sample Input 0\n",
        "\n",
        "ABCDEFGHIJKLIMNOQRSTUVWXYZ\n",
        "4\n",
        "Sample Output 0\n",
        "\n",
        "ABCD\n",
        "EFGH\n",
        "IJKL\n",
        "IMNO\n",
        "QRST\n",
        "UVWX\n",
        "YZ\n"
      ]
    },
    {
      "cell_type": "code",
      "metadata": {
        "colab": {
          "base_uri": "https://localhost:8080/"
        },
        "id": "SLH7yvLisKGV",
        "outputId": "525006dd-ab3b-46d0-a913-0ff7af474b36"
      },
      "source": [
        "import textwrap\n",
        "\n",
        "def wrap(string, max_width):\n",
        "    in_string= ''\n",
        "    for i in range(0,len(string),max_width):\n",
        "        in_string=in_string + string[i:i+max_width]+\"\\n\"\n",
        "    return in_string\n",
        "    \n",
        "\n",
        "if __name__ == '__main__':\n",
        "    string, max_width = input(), int(input())\n",
        "    result = wrap(string, max_width)\n",
        "    print(result)"
      ],
      "execution_count": 23,
      "outputs": [
        {
          "output_type": "stream",
          "text": [
            "ABCDEFGHIJKLIMNOQRSTUVWXYZ\n",
            "4\n",
            "ABCD\n",
            "EFGH\n",
            "IJKL\n",
            "IMNO\n",
            "QRST\n",
            "UVWX\n",
            "YZ\n",
            "\n"
          ],
          "name": "stdout"
        }
      ]
    },
    {
      "cell_type": "markdown",
      "metadata": {
        "id": "X9h6kkbywUrW"
      },
      "source": [
        "### **Problem - 10: Designer Door Mat**\n",
        "\n",
        "Mr. Vincent works in a door mat manufacturing company. One day, he designed a new door mat with the following specifications:\n",
        "\n",
        "Mat size must be X. ( is an odd natural number, and  is  times .)\n",
        "The design should have 'WELCOME' written in the center.\n",
        "The design pattern should only use |, . and - characters.\n",
        "Sample Designs\n",
        "\n",
        "    Size: 7 x 21 \n",
        "    ---------.|.---------\n",
        "    ------.|..|..|.------\n",
        "    ---.|..|..|..|..|.---\n",
        "    -------WELCOME-------\n",
        "    ---.|..|..|..|..|.---\n",
        "    ------.|..|..|.------\n",
        "    ---------.|.---------\n",
        "    \n",
        "    Size: 11 x 33\n",
        "    ---------------.|.---------------\n",
        "    ------------.|..|..|.------------\n",
        "    ---------.|..|..|..|..|.---------\n",
        "    ------.|..|..|..|..|..|..|.------\n",
        "    ---.|..|..|..|..|..|..|..|..|.---\n",
        "    -------------WELCOME-------------\n",
        "    ---.|..|..|..|..|..|..|..|..|.---\n",
        "    ------.|..|..|..|..|..|..|.------\n",
        "    ---------.|..|..|..|..|.---------\n",
        "    ------------.|..|..|.------------\n",
        "    ---------------.|.---------------\n",
        "Input Format\n",
        "\n",
        "A single line containing the space separated values of  and .\n",
        "\n",
        "Constraints\n",
        "\n",
        "Output Format\n",
        "\n",
        "Output the design pattern.\n",
        "\n",
        "Sample Input\n",
        "\n",
        "9 27\n",
        "Sample Output\n",
        "\n",
        "------------.|.------------\n",
        "---------.|..|..|.---------\n",
        "------.|..|..|..|..|.------\n",
        "---.|..|..|..|..|..|..|.---\n",
        "----------WELCOME----------\n",
        "---.|..|..|..|..|..|..|.---\n",
        "------.|..|..|..|..|.------\n",
        "---------.|..|..|.---------\n",
        "------------.|.------------\n"
      ]
    },
    {
      "cell_type": "code",
      "metadata": {
        "colab": {
          "base_uri": "https://localhost:8080/"
        },
        "id": "bcey8KxqvXdY",
        "outputId": "340ce517-c99c-4cbf-92bf-f530b21b1023"
      },
      "source": [
        "n, k = map(int , input(\"\").split(\" \"))\n",
        "st ='.|.'\n",
        "st1='-'\n",
        "avg = int((n+1)/2)\n",
        "for i in range(1,1+n):\n",
        "    if avg==i:\n",
        "        print(\"WELCOME\".center(k,st1))\n",
        "    elif i<avg:\n",
        "        print((st*(2*i-1)).center(k,st1))\n",
        "    elif avg<i:\n",
        "        print((st*(2*(n-i)+1)).center(k,st1))"
      ],
      "execution_count": 25,
      "outputs": [
        {
          "output_type": "stream",
          "text": [
            "9 27\n",
            "------------.|.------------\n",
            "---------.|..|..|.---------\n",
            "------.|..|..|..|..|.------\n",
            "---.|..|..|..|..|..|..|.---\n",
            "----------WELCOME----------\n",
            "---.|..|..|..|..|..|..|.---\n",
            "------.|..|..|..|..|.------\n",
            "---------.|..|..|.---------\n",
            "------------.|.------------\n"
          ],
          "name": "stdout"
        }
      ]
    },
    {
      "cell_type": "markdown",
      "metadata": {
        "id": "cKNClg290-le"
      },
      "source": [
        "### **Problem - 11 : String Formatting**\n",
        "\n",
        "\n",
        "Given an integer, , print the following values for each integer  from  to :\n",
        "\n",
        "Decimal\n",
        "Octal\n",
        "Hexadecimal (capitalized)\n",
        "Binary\n",
        "Function Description\n",
        "\n",
        "Complete the print_formatted function in the editor below.\n",
        "\n",
        "print_formatted has the following parameters:\n",
        "\n",
        "int number: the maximum value to print\n",
        "Prints\n",
        "\n",
        "The four values must be printed on a single line in the order specified above for each  from  to . Each value should be space-padded to match the width of the binary value of  and the values should be separated by a single space.\n",
        "\n",
        "Input Format\n",
        "\n",
        "A single integer denoting .\n",
        "\n",
        "Constraints\n",
        "\n",
        "Sample Input\n",
        "\n",
        "17\n",
        "Sample Output\n",
        "\n",
        "    1     1     1     1\n",
        "    2     2     2    10\n",
        "    3     3     3    11\n",
        "    4     4     4   100\n",
        "    5     5     5   101\n",
        "    6     6     6   110\n",
        "    7     7     7   111\n",
        "    8    10     8  1000\n",
        "    9    11     9  1001\n",
        "   10    12     A  1010\n",
        "   11    13     B  1011\n",
        "   12    14     C  1100\n",
        "   13    15     D  1101\n",
        "   14    16     E  1110\n",
        "   15    17     F  1111\n",
        "   16    20    10 10000\n",
        "   17    21    11 10001"
      ]
    },
    {
      "cell_type": "code",
      "metadata": {
        "colab": {
          "base_uri": "https://localhost:8080/"
        },
        "id": "j5jG8hROxcWd",
        "outputId": "e395a4da-0e9f-42e5-a5b9-875ddf14c35c"
      },
      "source": [
        "def print_formatted(n):\n",
        "    l = len(bin(n)) - 2\n",
        "    for i in range(1, n + 1):\n",
        "        characters = \"\"\n",
        "        for cha in \"doXb\":\n",
        "            if characters:\n",
        "                characters += \" \"\n",
        "            characters += \"{:>\" + str(l) + cha + \"}\"\n",
        "        print(characters.format(i, i, i, i))\n",
        "\n",
        "    \n",
        "    \n",
        "if __name__ == '__main__':\n",
        "    n = int(input())\n",
        "    print_formatted(n)"
      ],
      "execution_count": 29,
      "outputs": [
        {
          "output_type": "stream",
          "text": [
            "17\n",
            "    1     1     1     1\n",
            "    2     2     2    10\n",
            "    3     3     3    11\n",
            "    4     4     4   100\n",
            "    5     5     5   101\n",
            "    6     6     6   110\n",
            "    7     7     7   111\n",
            "    8    10     8  1000\n",
            "    9    11     9  1001\n",
            "   10    12     A  1010\n",
            "   11    13     B  1011\n",
            "   12    14     C  1100\n",
            "   13    15     D  1101\n",
            "   14    16     E  1110\n",
            "   15    17     F  1111\n",
            "   16    20    10 10000\n",
            "   17    21    11 10001\n"
          ],
          "name": "stdout"
        }
      ]
    },
    {
      "cell_type": "markdown",
      "metadata": {
        "id": "rOIX5-eU_L0H"
      },
      "source": [
        "### **Problem - 12: Alphabet Rangoli**\n",
        "\n",
        "The center of the rangoli has the first alphabet letter a, and the boundary has the  alphabet letter (in alphabetical order).\n",
        "\n",
        "Function Description\n",
        "\n",
        "Complete the rangoli function in the editor below.\n",
        "\n",
        "rangoli has the following parameters:\n",
        "\n",
        "int size: the size of the rangoli\n",
        "Returns\n",
        "\n",
        "string: a single string made up of each of the lines of the rangoli separated by a newline character (\\n)\n",
        "Input Format\n",
        "\n",
        "Only one line of input containing , the size of the rangoli.\n",
        "\n",
        "Constraints\n",
        "\n",
        "\n",
        "Sample Input\n",
        "\n",
        "5\n",
        "Sample Output\n",
        "\n",
        "--------e--------\n",
        "------e-d-e------\n",
        "----e-d-c-d-e----\n",
        "--e-d-c-b-c-d-e--\n",
        "e-d-c-b-a-b-c-d-e\n",
        "--e-d-c-b-c-d-e--\n",
        "----e-d-c-d-e----\n",
        "------e-d-e------\n",
        "--------e--------"
      ]
    },
    {
      "cell_type": "code",
      "metadata": {
        "colab": {
          "base_uri": "https://localhost:8080/"
        },
        "id": "ZF9VctMv2w9w",
        "outputId": "50129a7c-c014-4aa8-ea97-723e6315c970"
      },
      "source": [
        "import string\n",
        "alphalist = string.ascii_lowercase\n",
        "\n",
        "num = int(input())\n",
        "L = []\n",
        "for i in range(num):\n",
        "    seperator = \"-\".join(alphalist[i:num])\n",
        "    L.append((seperator[::-1]+seperator[1:]).center(4*n-3, \"-\"))\n",
        "print('\\n'.join(L[:0:-1]+L))"
      ],
      "execution_count": 32,
      "outputs": [
        {
          "output_type": "stream",
          "text": [
            "5\n",
            "--------e--------\n",
            "------e-d-e------\n",
            "----e-d-c-d-e----\n",
            "--e-d-c-b-c-d-e--\n",
            "e-d-c-b-a-b-c-d-e\n",
            "--e-d-c-b-c-d-e--\n",
            "----e-d-c-d-e----\n",
            "------e-d-e------\n",
            "--------e--------\n"
          ],
          "name": "stdout"
        }
      ]
    },
    {
      "cell_type": "markdown",
      "metadata": {
        "id": "bgy82iuC_k8O"
      },
      "source": [
        "### **Problme - 13: Capitalize**\n",
        "You are asked to ensure that the first and last names of people begin with a capital letter in their passports. For example, alison heck should be capitalised correctly as Alison Heck.\n",
        "\n",
        "\n",
        "Given a full name, your task is to capitalize the name appropriately.\n",
        "\n",
        "Input Format\n",
        "\n",
        "A single line of input containing the full name, .\n",
        "\n",
        "Constraints\n",
        "\n",
        "The string consists of alphanumeric characters and spaces.\n",
        "Note: in a word only the first character is capitalized. Example 12abc when capitalized remains 12abc.\n",
        "\n",
        "Output Format\n",
        "\n",
        "Print the capitalized string, .\n",
        "\n",
        "Sample Input\n",
        "\n",
        "chris alan\n",
        "Sample Output\n",
        "\n",
        "Chris Alan\n"
      ]
    },
    {
      "cell_type": "code",
      "metadata": {
        "colab": {
          "base_uri": "https://localhost:8080/",
          "height": 52
        },
        "id": "2_rxu_Lx8MVW",
        "outputId": "b36c4c73-75b3-4882-b615-a79ebcf15cbc"
      },
      "source": [
        "#!/bin/python3\n",
        "\n",
        "import math\n",
        "import os\n",
        "import random\n",
        "import re\n",
        "import sys\n",
        "\n",
        "# Complete the solve function below.\n",
        "\n",
        "def solve(s):\n",
        "    for x in s[:].split():\n",
        "        s = s.replace(x, x.capitalize())\n",
        "    return s\n",
        "\n",
        "s = input()\n",
        "solve(s)\n"
      ],
      "execution_count": 38,
      "outputs": [
        {
          "output_type": "stream",
          "text": [
            "akhil duggi\n"
          ],
          "name": "stdout"
        },
        {
          "output_type": "execute_result",
          "data": {
            "application/vnd.google.colaboratory.intrinsic+json": {
              "type": "string"
            },
            "text/plain": [
              "'Akhil Duggi'"
            ]
          },
          "metadata": {
            "tags": []
          },
          "execution_count": 38
        }
      ]
    },
    {
      "cell_type": "markdown",
      "metadata": {
        "id": "MtoKSNCEEplH"
      },
      "source": [
        "### **Project - 14: The Minion Game**\n",
        "\n",
        "Function Description\n",
        "\n",
        "Complete the minion_game in the editor below.\n",
        "\n",
        "minion_game has the following parameters:\n",
        "\n",
        "string string: the string to analyze\n",
        "Prints\n",
        "\n",
        "string: the winner's name and score, separated by a space on one line, or Draw if there is no winner\n",
        "Input Format\n",
        "\n",
        "A single line of input containing the string .\n",
        "Note: The string  will contain only uppercase letters: .\n",
        "\n",
        "Constraints\n",
        "\n",
        "\n",
        "\n",
        "Sample Input\n",
        "\n",
        "BANANA\n",
        "Sample Output\n",
        "\n",
        "Stuart 12\n",
        "Note :\n",
        "Vowels are only defined as . In this problem,  is not considered a vowel."
      ]
    },
    {
      "cell_type": "code",
      "metadata": {
        "colab": {
          "base_uri": "https://localhost:8080/"
        },
        "id": "m3R6f26RBwna",
        "outputId": "e5185d60-9a7b-4f99-a7b4-7938ae6351a2"
      },
      "source": [
        "def minion_game(string):\n",
        "    # your code goes here\n",
        "\n",
        "        vowels = 'AEIOU'\n",
        "\n",
        "        kscore = 0\n",
        "        sscore = 0\n",
        "        for i in range(len(s)):\n",
        "            if s[i] in vowels:\n",
        "                kscore += (len(s)-i)\n",
        "            else:\n",
        "                sscore += (len(s)-i)\n",
        "\n",
        "        if(kscore > sscore):\n",
        "            print(\"Kevin\", kscore)\n",
        "        elif(kscore < sscore):\n",
        "            print(\"Stuart\", sscore)\n",
        "        else:\n",
        "            print(\"Draw\")\n",
        "\n",
        "if __name__ == '__main__':\n",
        "    s = input()\n",
        "    minion_game(s)"
      ],
      "execution_count": 40,
      "outputs": [
        {
          "output_type": "stream",
          "text": [
            "BANANA\n",
            "Stuart 12\n"
          ],
          "name": "stdout"
        }
      ]
    },
    {
      "cell_type": "markdown",
      "metadata": {
        "id": "aj1dirrOJ3Lk"
      },
      "source": [
        "### **Problem - 14: Merge the Tools**\n",
        "\n",
        "Function Description\n",
        "\n",
        "Complete the merge_the_tools function in the editor below.\n",
        "\n",
        "merge_the_tools has the following parameters:\n",
        "\n",
        "string s: the string to analyze\n",
        "int k: the size of substrings to analyze\n",
        "Prints\n",
        "\n",
        "Print each subsequence on a new line. There will be  of them. No return value is expected.\n",
        "\n",
        "Input Format\n",
        "\n",
        "The first line contains a single string, .\n",
        "The second line contains an integer, , the length of each substring.\n",
        "\n",
        "Constraints\n",
        "\n",
        ", where  is the length of \n",
        "It is guaranteed that  is a multiple of .\n",
        "Sample Input\n",
        "\n",
        "STDIN       Function\n",
        "-----       --------\n",
        "AABCAAADA   s = 'AABCAAADA'\n",
        "3           k = 3\n",
        "Sample Output\n",
        "\n",
        "AB\n",
        "CA\n",
        "AD\n",
        "Explanation\n",
        "\n",
        "Split  into  equal parts of length . Convert each  to  by removing any subsequent occurrences of non-distinct characters in :\n",
        "\n",
        "Print each  on a new line."
      ]
    },
    {
      "cell_type": "code",
      "metadata": {
        "colab": {
          "base_uri": "https://localhost:8080/"
        },
        "id": "bLlbLY5QHR-M",
        "outputId": "503629e3-7ba0-4a6a-aa02-a2df1ff4f86a"
      },
      "source": [
        "def merge_the_tools(string, k):\n",
        "    for i in zip(*[iter(string)] * k):\n",
        "        dic = dict()\n",
        "        print(''.join([ dic.setdefault(c, c) for c in i if c not in dic ]))\n",
        "    \n",
        "if __name__ == '__main__':\n",
        "    string, k = input(), int(input())\n",
        "    merge_the_tools(string, k)"
      ],
      "execution_count": 43,
      "outputs": [
        {
          "output_type": "stream",
          "text": [
            "AABCAAADA\n",
            "3\n",
            "AB\n",
            "CA\n",
            "AD\n"
          ],
          "name": "stdout"
        }
      ]
    },
    {
      "cell_type": "code",
      "metadata": {
        "id": "MG0BDMiLJpDJ"
      },
      "source": [
        ""
      ],
      "execution_count": null,
      "outputs": []
    }
  ]
}