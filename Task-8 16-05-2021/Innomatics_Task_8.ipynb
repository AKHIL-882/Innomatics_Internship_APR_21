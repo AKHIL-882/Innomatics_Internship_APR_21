{
  "nbformat": 4,
  "nbformat_minor": 0,
  "metadata": {
    "colab": {
      "name": "Innomatics Task-8.ipynb",
      "provenance": [],
      "collapsed_sections": []
    },
    "kernelspec": {
      "name": "python3",
      "display_name": "Python 3"
    },
    "language_info": {
      "name": "python"
    }
  },
  "cells": [
    {
      "cell_type": "markdown",
      "metadata": {
        "id": "MG7B3Xot338_"
      },
      "source": [
        "### **Problem -1: Binomial Distribution 1**\n",
        "\n",
        "In this challenge, we learn about binomial distributions. Check out the Tutorial tab for learning materials!\n",
        "\n",
        "Task\n",
        "The ratio of boys to girls for babies born in Russia is . If there is  child born per birth, what proportion of Russian families with exactly  children will have at least  boys?\n",
        "\n",
        "Write a program to compute the answer using the above parameters. Then print your result, rounded to a scale of  decimal places (i.e.,  format).\n",
        "\n",
        "Input Format\n",
        "\n",
        "A single line containing the following values:\n",
        "\n",
        "1.09 1\n",
        "If you do not wish to read this information from stdin, you can hard-code it into your program.\n",
        "\n",
        "Output Format\n",
        "\n",
        "Print a single line denoting the answer, rounded to a scale of  decimal places (i.e.,  format)."
      ]
    },
    {
      "cell_type": "code",
      "metadata": {
        "colab": {
          "base_uri": "https://localhost:8080/"
        },
        "id": "Ag10h7eI30HX",
        "outputId": "1ce06a73-2dbb-4eb1-ce14-fd60a487113a"
      },
      "source": [
        "def factorials(num):\n",
        "    return 1 if num == 0 else num*factorials(num-1)\n",
        "\n",
        "def combinations(num, x):\n",
        "    return factorials(num) / (factorials(x) * factorials(num-x))\n",
        "\n",
        "def binomial(x, num, p):\n",
        "    return combinations(num, x) * p**x * (1-p)**(num-x)\n",
        "\n",
        "babies, rus = list(map(float, input().split(\" \")))\n",
        "odds = babies / rus\n",
        "print(round(sum([binomial(i, 6, odds / (1 + odds)) for i in range(3, 7)]), 3))"
      ],
      "execution_count": null,
      "outputs": [
        {
          "output_type": "stream",
          "text": [
            "1.09 1\n",
            "0.696\n"
          ],
          "name": "stdout"
        }
      ]
    },
    {
      "cell_type": "markdown",
      "metadata": {
        "id": "TjrFAAki6VyH"
      },
      "source": [
        "### **Problem -2: Binomail Distribution II**\n",
        "Objective\n",
        "In this challenge, we go further with binomial distributions. We recommend reviewing the previous challenge's Tutorial before attempting this problem.\n",
        "\n",
        "Task\n",
        "A manufacturer of metal pistons finds that, on average,  of the pistons they manufacture are rejected because they are incorrectly sized. What is the probability that a batch of  pistons will contain:\n",
        "\n",
        "No more than  rejects?\n",
        "At least  rejects?\n",
        "Input Format\n",
        "\n",
        "A single line containing the following values (denoting the respective percentage of defective pistons and the size of the current batch of pistons):\n",
        "\n",
        "12 10\n",
        "If you do not wish to read this information from stdin, you can hard-code it into your program.\n",
        "\n",
        "Output Format\n",
        "\n",
        "Print the answer to each question on its own line:\n",
        "\n",
        "The first line should contain the probability that a batch of  pistons will contain no more than  rejects.\n",
        "The second line should contain the probability that a batch of  pistons will contain at least  rejects.\n",
        "Round both of your answers to a scale of  decimal places (i.e.,  format).\n"
      ]
    },
    {
      "cell_type": "code",
      "metadata": {
        "colab": {
          "base_uri": "https://localhost:8080/"
        },
        "id": "HnTyXMeP6JUb",
        "outputId": "1e13585d-5f86-4577-fdea-90fd8011179e"
      },
      "source": [
        "def factorials(num):\n",
        "    return 1 if num == 0 else num*factorials(num-1)\n",
        "\n",
        "def combinations(num, x):\n",
        "    return factorials(num) / (factorials(x) * factorials(num-x))\n",
        "\n",
        "def binomial(x, num, p):\n",
        "    return combinations(num, x) * p**x * (1-p)**(num-x)\n",
        "\n",
        "prob, num = list(map(int, input().split(\" \")))\n",
        "print(round(sum([binomial(i, num, prob/100) for i in range(3)]), 3))\n",
        "print(round(sum([binomial(i, num, prob/100) for i in range(2, num+1)]), 3))"
      ],
      "execution_count": null,
      "outputs": [
        {
          "output_type": "stream",
          "text": [
            "12 10\n",
            "0.891\n",
            "0.342\n"
          ],
          "name": "stdout"
        }
      ]
    },
    {
      "cell_type": "markdown",
      "metadata": {
        "id": "bbWAY0s-8tH7"
      },
      "source": [
        "### **Problem - 3: Normal Distribution I**\n",
        "In a certain plant, the time taken to assemble a car is a random variable, , having a normal distribution with a mean of  hours and a standard deviation of  hours. What is the probability that a car can be assembled at this plant in:\n",
        "\n",
        "Less than  hours?\n",
        "Between  and  hours?\n",
        "Input Format\n",
        "\n",
        "There are  lines of input (shown below):\n",
        "\n",
        "20 2\n",
        "19.5\n",
        "20 22\n",
        "The first line contains  space-separated values denoting the respective mean and standard deviation for . The second line contains the number associated with question . The third line contains  space-separated values describing the respective lower and upper range boundaries for question .\n",
        "\n",
        "If you do not wish to read this information from stdin, you can hard-code it into your program.\n",
        "\n",
        "Output Format\n",
        "\n",
        "There are two lines of output. Your answers must be rounded to a scale of  decimal places (i.e.,  format):\n",
        "\n",
        "On the first line, print the answer to question  (i.e., the probability that a car can be assembled in less than  hours).\n",
        "On the second line, print the answer to question  (i.e., the probability that a car can be assembled in between  to  hours).\n"
      ]
    },
    {
      "cell_type": "code",
      "metadata": {
        "colab": {
          "base_uri": "https://localhost:8080/"
        },
        "id": "9y_Xlifm8XxE",
        "outputId": "d416ef8a-9d0a-4733-f1a3-f5413c37eb80"
      },
      "source": [
        "import math\n",
        "mean, standard = 20, 2\n",
        "distribution = lambda x: 0.5 * (1 + math.erf((x - mean) / (standard * (2 ** 0.5))))\n",
        "\n",
        "print('{:.3f}'.format(distribution(19.5)))\n",
        "\n",
        "print('{:.3f}'.format(distribution(22) - distribution(20)))"
      ],
      "execution_count": null,
      "outputs": [
        {
          "output_type": "stream",
          "text": [
            "0.401\n",
            "0.341\n"
          ],
          "name": "stdout"
        }
      ]
    },
    {
      "cell_type": "markdown",
      "metadata": {
        "id": "-0hi76QF-3po"
      },
      "source": [
        "### **Problem - 4:  Normal Distribution II**\n",
        "\n",
        "Objective\n",
        "In this challenge, we go further with normal distributions. We recommend reviewing the previous challenge's Tutorial before attempting this problem.\n",
        "\n",
        "Task\n",
        "The final grades for a Physics exam taken by a large group of students have a mean of  and a standard deviation of . If we can approximate the distribution of these grades by a normal distribution, what percentage of the students:\n",
        "\n",
        "Scored higher than  (i.e., have a )?\n",
        "Passed the test (i.e., have a )?\n",
        "Failed the test (i.e., have a )?\n",
        "Find and print the answer to each question on a new line, rounded to a scale of  decimal places.\n",
        "\n",
        "Input Format\n",
        "\n",
        "There are  lines of input (shown below):\n",
        "\n",
        "70 10\n",
        "80\n",
        "60\n",
        "The first line contains  space-separated values denoting the respective mean and standard deviation for the exam. The second line contains the number associated with question . The third line contains the pass/fail threshold number associated with questions  and .\n",
        "\n",
        "If you do not wish to read this information from stdin, you can hard-code it into your program.\n",
        "\n",
        "Output Format\n",
        "\n",
        "There are three lines of output. Your answers must be rounded to a scale of  decimal places (i.e.,  format):\n",
        "\n",
        "On the first line, print the answer to question  (i.e., the percentage of students having ).\n",
        "On the second line, print the answer to question  (i.e., the percentage of students having ).\n",
        "On the third line, print the answer to question  (i.e., the percentage of students having )."
      ]
    },
    {
      "cell_type": "code",
      "metadata": {
        "colab": {
          "base_uri": "https://localhost:8080/"
        },
        "id": "7aAUiZwG-lS-",
        "outputId": "6d87dc4f-1f1a-4e17-e39b-eee8dba53b8f"
      },
      "source": [
        "# Enter your code here. Read input from STDIN. Print output to STDOUT\n",
        "\n",
        "import math\n",
        "mean, standard = 70, 10\n",
        "distribution = lambda x: 0.5 * (1 + math.erf((x - mean) / (standard * (2 ** 0.5))))\n",
        "\n",
        "\n",
        "print(round((1-distribution(80))*100,2))\n",
        "print(round((1-distribution(60))*100,2))\n",
        "print(round((distribution(60))*100,2))"
      ],
      "execution_count": null,
      "outputs": [
        {
          "output_type": "stream",
          "text": [
            "15.87\n",
            "84.13\n",
            "15.87\n"
          ],
          "name": "stdout"
        }
      ]
    },
    {
      "cell_type": "markdown",
      "metadata": {
        "id": "W4WanuO1ByX3"
      },
      "source": [
        "### **Problem -5: The Central Limit Theorem I**\n",
        "\n",
        "Objective\n",
        "In this challenge, we practice solving problems based on the Central Limit Theorem. Check out the Tutorial tab for learning materials!\n",
        "\n",
        "Task\n",
        "A large elevator can transport a maximum of  pounds. Suppose a load of cargo containing  boxes must be transported via the elevator. The box weight of this type of cargo follows a distribution with a mean of  pounds and a standard deviation of  pounds. Based on this information, what is the probability that all  boxes can be safely loaded into the freight elevator and transported?\n",
        "\n",
        "Input Format\n",
        "\n",
        "There are  lines of input (shown below):\n",
        "\n",
        "9800\n",
        "49\n",
        "205\n",
        "15\n",
        "The first line contains the maximum weight the elevator can transport. The second line contains the number of boxes in the cargo. The third line contains the mean weight of a cargo box, and the fourth line contains its standard deviation.\n",
        "\n",
        "If you do not wish to read this information from stdin, you can hard-code it into your program.\n",
        "\n",
        "Output Format\n",
        "\n",
        "Print the probability that the elevator can successfully transport all  boxes, rounded to a scale of  decimal places (i.e.,  format)."
      ]
    },
    {
      "cell_type": "code",
      "metadata": {
        "colab": {
          "base_uri": "https://localhost:8080/"
        },
        "id": "X18Uz5nZBgUn",
        "outputId": "3388a6ab-8398-42c8-e3b1-3a9b78074974"
      },
      "source": [
        "import math\n",
        "\n",
        "num1 = int(input())\n",
        "num2 = int(input())\n",
        "num3 = int(input())\n",
        "sigma = int(input())\n",
        "\n",
        "num3sum = num2 * num3\n",
        "sigma_sum = math.sqrt(num2) * sigma\n",
        "\n",
        "def distribution(x, num3, sigma):\n",
        "    Z = (x - num3)/sigma\n",
        "    return 0.5*(1 + math.erf(Z/(math.sqrt(2))))\n",
        "\n",
        "print(round(distribution(num1, num3sum, sigma_sum), 4))"
      ],
      "execution_count": null,
      "outputs": [
        {
          "output_type": "stream",
          "text": [
            "9800\n",
            "49\n",
            "205\n",
            "15\n",
            "0.0098\n"
          ],
          "name": "stdout"
        }
      ]
    },
    {
      "cell_type": "markdown",
      "metadata": {
        "id": "1-IQ0_i_DXIA"
      },
      "source": [
        "### **Problem-6:The Central Limit Theorem II** \n",
        "Objective\n",
        "In this challenge, we practice solving problems based on the Central Limit Theorem. We recommend reviewing the Central Limit Theorem Tutorial before attempting this challenge.\n",
        "\n",
        "Task\n",
        "The number of tickets purchased by each student for the University X vs. University Y football game follows a distribution that has a mean of  and a standard deviation of .\n",
        "\n",
        "A few hours before the game starts,  eager students line up to purchase last-minute tickets. If there are only  tickets left, what is the probability that all  students will be able to purchase tickets?\n",
        "\n",
        "Input Format\n",
        "\n",
        "There are  lines of input (shown below):\n",
        "\n",
        "250\n",
        "100\n",
        "2.4\n",
        "2.0\n",
        "The first line contains the number of last-minute tickets available at the box office. The second line contains the number of students waiting to buy tickets. The third line contains the mean number of purchased tickets, and the fourth line contains the standard deviation.\n",
        "\n",
        "If you do not wish to read this information from stdin, you can hard-code it into your program.\n",
        "\n",
        "Output Format\n",
        "\n",
        "Print the probability that  students can successfully purchase the remaining  tickets, rounded to a scale of  decimal places (i.e.,  format).\n"
      ]
    },
    {
      "cell_type": "markdown",
      "metadata": {
        "id": "h0L0594Ma34e"
      },
      "source": [
        "### **Problem-7: The Central Limit Theorem III**\n",
        "Objective\n",
        "In this challenge, we practice solving problems based on the Central Limit Theorem. We recommend reviewing the Central Limit Theorem Tutorial before attempting this challenge.\n",
        "\n",
        "Task\n",
        "You have a sample of  values from a population with mean  and with standard deviation . Compute the interval that covers the middle  of the distribution of the sample mean; in other words, compute  and  such that . Use the value of . Note that  is the z-score.\n",
        "\n",
        "Input Format\n",
        "\n",
        "There are five lines of input (shown below):\n",
        "\n",
        "100\n",
        "500\n",
        "80\n",
        ".95\n",
        "1.96\n",
        "The first line contains the sample size. The second and third lines contain the respective mean () and standard deviation (). The fourth line contains the distribution percentage we want to cover (as a decimal), and the fifth line contains the value of .\n",
        "\n",
        "If you do not wish to read this information from stdin, you can hard-code it into your program.\n",
        "\n",
        "Output Format\n",
        "\n",
        "Print the following two lines of output, rounded to a scale of  decimal places (i.e.,  format):\n",
        "\n",
        "On the first line, print the value of .\n",
        "On the second line, print the value of .\n"
      ]
    },
    {
      "cell_type": "code",
      "metadata": {
        "id": "VFy53jAADNvP",
        "colab": {
          "base_uri": "https://localhost:8080/"
        },
        "outputId": "227745f9-f545-4b53-8bcd-b8fa7b0f454a"
      },
      "source": [
        "# Enter your code here. Read input from STDIN. Print output to STDOUT\n",
        "\n",
        "num1 = float(input())\n",
        "mean = float(input())\n",
        "standard = float(input())\n",
        "val = float(input())\n",
        "z = float (input())\n",
        "\n",
        "sample_val = standard / (num1**0.5)\n",
        "print(round(mean - sample_val*z,2))\n",
        "print(round(mean + sample_val*z,2))"
      ],
      "execution_count": 2,
      "outputs": [
        {
          "output_type": "stream",
          "text": [
            "100\n",
            "500\n",
            "80\n",
            ".95\n",
            "1.96\n",
            "484.32\n",
            "515.68\n"
          ],
          "name": "stdout"
        }
      ]
    },
    {
      "cell_type": "markdown",
      "metadata": {
        "id": "0hsC3UCscswf"
      },
      "source": [
        "### **Problem -8 : Pearson Correlation Coefficient I**\n",
        "In this challenge, we practice calculating the Pearson correlation coefficient. Check out the Tutorial tab for learning materials!\n",
        "\n",
        "Task\n",
        "Given two -element data sets,  and , calculate the value of the Pearson correlation coefficient.\n",
        "\n",
        "Input Format\n",
        "\n",
        "The first line contains an integer, , denoting the size of data sets  and .\n",
        "The second line contains  space-separated real numbers (scaled to at most one decimal place), defining data set .\n",
        "The third line contains  space-separated real numbers (scaled to at most one decimal place), defining data set .\n",
        "\n",
        "Constraints\n",
        "\n",
        ", where  is the  value of data set .\n",
        ", where  is the  value of data set .\n",
        "Data set  contains unique values.\n",
        "Data set  contains unique values.\n",
        "Output Format\n",
        "\n",
        "Print the value of the Pearson correlation coefficient, rounded to a scale of  decimal places.\n",
        "\n",
        "Sample Input\n",
        "\n",
        "10\n",
        "10 9.8 8 7.8 7.7 7 6 5 4 2 \n",
        "200 44 32 24 22 17 15 12 8 4\n",
        "Sample Output\n",
        "\n",
        "0.612\n",
        "Explanation\n",
        "\n",
        "The mean and standard deviation of data set  are:\n",
        "\n",
        "The mean and standard deviation of data set  are:\n",
        "\n",
        "We use the following formula to calculate the Pearson correlation coefficient:\n",
        "\n",
        "\n",
        "\n"
      ]
    },
    {
      "cell_type": "code",
      "metadata": {
        "colab": {
          "base_uri": "https://localhost:8080/"
        },
        "id": "S2AXsYRfbfSO",
        "outputId": "a7e7df64-ff03-4813-f223-c09ea1e4b10f"
      },
      "source": [
        "import statistics as st\n",
        "\n",
        "num1=int(input())\n",
        "num2=tuple(map(float,input().split()))\n",
        "num3=tuple(map(float,input().split()))\n",
        "\n",
        "rho=sum([a*b for a,b in zip([i-st.mean(num2) for i in num2],[i-st.mean(num3) for i in num3])])/(num1*st.pstdev(num2)*st.pstdev(num3))   \n",
        "\n",
        "print(round(rho,3))"
      ],
      "execution_count": 5,
      "outputs": [
        {
          "output_type": "stream",
          "text": [
            "10\n",
            "10 9.8 8 7.8 7.7 7 6 4 5 2\n",
            "200 44 32 24 22 17 15 12 8 4\n",
            "0.609\n"
          ],
          "name": "stdout"
        }
      ]
    },
    {
      "cell_type": "markdown",
      "metadata": {
        "id": "yTO6hlMPfdoQ"
      },
      "source": [
        "### **Problem - 9:  Least Square Regression Line**\n",
        "\n",
        "Objective\n",
        "In this challenge, we practice using linear regression techniques. Check out the Tutorial tab for learning materials!\n",
        "\n",
        "Task\n",
        "A group of five students enrolls in Statistics immediately after taking a Math aptitude test. Each student's Math aptitude test score, , and Statistics course grade, , can be expressed as the following list of  points:\n",
        "\n",
        "If a student scored an  on the Math aptitude test, what grade would we expect them to achieve in Statistics? Determine the equation of the best-fit line using the least squares method, then compute and print the value of  when .\n",
        "\n",
        "Input Format\n",
        "\n",
        "There are five lines of input; each line contains two space-separated integers describing a student's respective  and  grades:\n",
        "\n",
        "95 85\n",
        "85 95\n",
        "80 70\n",
        "70 65\n",
        "60 70\n",
        "If you do not wish to read this information from stdin, you can hard-code it into your program.\n",
        "\n",
        "Output Format\n",
        "\n",
        "Print a single line denoting the answer, rounded to a scale of  decimal places (i.e.,  format).\n"
      ]
    },
    {
      "cell_type": "code",
      "metadata": {
        "colab": {
          "base_uri": "https://localhost:8080/"
        },
        "id": "jz5GEuy_eWVK",
        "outputId": "1f057eae-53e8-42c8-b9ff-6b7774504875"
      },
      "source": [
        "num = 5\n",
        "ab = [map(int, input().split()) for _ in range(n)]\n",
        "standardx, standardy, standardx2, standardxy = map(sum, zip(*[(x, y, x**2, x * y) for x, y in ab]))\n",
        "b = (num * standardxy - standardx * standardy) / (num * standardx2 - standardx**2)\n",
        "a = (standardy / num) - b * (standardx / num)\n",
        "print('{:.3f}'.format(a + b * 80))"
      ],
      "execution_count": 8,
      "outputs": [
        {
          "output_type": "stream",
          "text": [
            "95 85\n",
            "85 95 \n",
            "80 70\n",
            "70 65\n",
            "60 70\n",
            "78.288\n"
          ],
          "name": "stdout"
        }
      ]
    },
    {
      "cell_type": "markdown",
      "metadata": {
        "id": "ZXh79sivhkUX"
      },
      "source": [
        "### **Problem - 10: Multiple Linear Regression**\n",
        "\n",
        "Objective\n",
        "In this challenge, we practice using multiple linear regression. Check out the Tutorial tab for learning materials!\n",
        "\n",
        "Task\n",
        "Andrea has a simple equation:\n",
        "\n",
        "for  real constants (, , , , ). We can say that the value of  depends on  features. Andrea studies this equation for  different feature sets  and records each respective value of . If she has  new feature sets, can you help Andrea find the value of  for each of the sets?\n",
        "Note: You are not expected to account for bias and variance trade-offs.\n",
        "\n",
        "Input Format\n",
        "\n",
        "The first line contains  space-separated integers,  (the number of observed features) and  (the number of feature sets Andrea studied), respectively.\n",
        "Each of the  subsequent lines contain  space-separated decimals; the first  elements are features , and the last element is the value of  for the line's feature set.\n",
        "The next line contains a single integer, , denoting the number of feature sets Andrea wants to query for.\n",
        "Each of the  subsequent lines contains  space-separated decimals describing the feature sets."
      ]
    },
    {
      "cell_type": "code",
      "metadata": {
        "colab": {
          "base_uri": "https://localhost:8080/"
        },
        "id": "8CHJQT38f_SX",
        "outputId": "e439a82e-6020-4d29-d117-8d10a0d89640"
      },
      "source": [
        "# Enter your code here. Read input from STDIN. Print output to STDOUT\n",
        "import numpy as np\n",
        "num1,num2=list(map(int,input().split()))\n",
        "x=np.ones((num2,num1+1))\n",
        "y=np.zeros((num2,1))\n",
        "for i in range(num2):\n",
        "    obs=np.array(list(map(float,input().split())))\n",
        "    for j in range(num1):\n",
        "        x[i,j+1]=obs[j]\n",
        "    y[i,0]=obs[num1]\n",
        "q=int(input())\n",
        "xtest=np.ones((q,num1+1))\n",
        "for i in range(q):\n",
        "    test=np.array(list(map(float,input().split())))\n",
        "    for j in range(num1):\n",
        "        xtest[i,j+1]=test[j]\n",
        "\n",
        "xtx=(x.T).dot(x)\n",
        "xtxinv=np.linalg.inv(xtx)\n",
        "xtxinvxt=xtxinv.dot(x.T)\n",
        "b=xtxinvxt.dot(y)\n",
        "\n",
        "for k in range(q):\n",
        "    print(float(xtest[k].dot(b)))"
      ],
      "execution_count": 9,
      "outputs": [
        {
          "output_type": "stream",
          "text": [
            "2 7\n",
            "0.18 0.89 109.85\n",
            "1.0 0.26 155.72\n",
            "0.92 0.11 137.66\n",
            "0.07 0.37 76.17\n",
            "0.85 0.16 139.75\n",
            "0.99 0.41 162.6\n",
            "0.87 0.47 151.77\n",
            "4\n",
            "0.49 0.18\n",
            "0.57 0.83 \n",
            "0.56 0.64\n",
            "0.76 0.18\n",
            "105.21455835106919\n",
            "142.67095130729913\n",
            "132.9360546912468\n",
            "129.70175404502427\n"
          ],
          "name": "stdout"
        }
      ]
    },
    {
      "cell_type": "code",
      "metadata": {
        "id": "Vjhyy8bMmk3B"
      },
      "source": [
        ""
      ],
      "execution_count": null,
      "outputs": []
    }
  ]
}