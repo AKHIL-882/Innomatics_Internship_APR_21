{
  "nbformat": 4,
  "nbformat_minor": 0,
  "metadata": {
    "colab": {
      "name": "Innomatics Task - 5.ipynb",
      "provenance": [],
      "collapsed_sections": [],
      "authorship_tag": "ABX9TyO2TMqVibVdUEeDf6KBRNs9",
      "include_colab_link": true
    },
    "kernelspec": {
      "name": "python3",
      "display_name": "Python 3"
    },
    "language_info": {
      "name": "python"
    },
    "accelerator": "GPU"
  },
  "cells": [
    {
      "cell_type": "markdown",
      "metadata": {
        "id": "view-in-github",
        "colab_type": "text"
      },
      "source": [
        "<a href=\"https://colab.research.google.com/github/AKHIL-882/Innomatics_Internship_APR_21/blob/main/Innomatics_Task_5.ipynb\" target=\"_parent\"><img src=\"https://colab.research.google.com/assets/colab-badge.svg\" alt=\"Open In Colab\"/></a>"
      ]
    },
    {
      "cell_type": "markdown",
      "metadata": {
        "id": "9JIWhxabYgO7"
      },
      "source": [
        "### **Problem - 1: Detect Floating Point Number**\n",
        "\n",
        "You are given a string .\n",
        "Your task is to verify that  is a floating point number.\n",
        "\n",
        "In this task, a valid float number must satisfy all of the following requirements:\n",
        "\n",
        " Number can start with +, - or . symbol.\n",
        "For example:\n",
        "✔\n",
        "+4.50\n",
        "✔\n",
        "-1.0\n",
        "✔\n",
        ".5\n",
        "✔\n",
        "-.7\n",
        "✔\n",
        "+.4\n",
        "✖\n",
        " -+4.5\n",
        "\n",
        " Number must contain at least  decimal value.\n",
        "For example:\n",
        "✖\n",
        " 12.\n",
        "✔\n",
        "12.0  \n",
        "\n",
        " Number must have exactly one . symbol.\n",
        " Number must not give any exceptions when converted using .\n",
        "\n",
        "Input Format\n",
        "\n",
        "The first line contains an integer , the number of test cases.\n",
        "The next  line(s) contains a string .\n",
        "\n",
        "Constraints\n",
        "\n",
        "Output Format\n",
        "\n",
        "Output True or False for each test case.\n",
        "\n",
        "Sample Input 0\n",
        "\n",
        "4\n",
        "4.0O0\n",
        "-1.00\n",
        "+4.54\n",
        "SomeRandomStuff\n",
        "Sample Output 0\n",
        "\n",
        "False\n",
        "True\n",
        "True\n",
        "False\n",
        "Explanation 0\n",
        "\n",
        ": O is not a digit.\n",
        ": is valid.\n",
        ": is valid.\n",
        "SomeRandomStuff: is not a number.\n"
      ]
    },
    {
      "cell_type": "code",
      "metadata": {
        "colab": {
          "base_uri": "https://localhost:8080/"
        },
        "id": "EsaK1GriYXna",
        "outputId": "739a396b-5ffd-4534-9e67-5d93f117ba1c"
      },
      "source": [
        "import re \n",
        "\n",
        "n = int(input())\n",
        "for i in range(n):\n",
        "    val = re.search(r\"^[+-]?[0-9]*\\.[0-9]+$\", input().strip())\n",
        "    print(bool(val))"
      ],
      "execution_count": null,
      "outputs": [
        {
          "output_type": "stream",
          "text": [
            "4\n",
            "4.000\n",
            "True\n",
            "-1.00\n",
            "True\n",
            "+4.54\n",
            "True\n",
            "SomeRandomStuff\n",
            "False\n"
          ],
          "name": "stdout"
        }
      ]
    },
    {
      "cell_type": "markdown",
      "metadata": {
        "id": "VLAG_DceeK0W"
      },
      "source": [
        "### **Problem -2: Re.split()**\n",
        "\n",
        "You are given a string  consisting only of digits 0-9, commas ,, and dots .\n",
        "\n",
        "Your task is to complete the regex_pattern defined below, which will be used to re.split() all of the , and . symbols in .\n",
        "\n",
        "It’s guaranteed that every comma and every dot in  is preceeded and followed by a digit.\n",
        "\n",
        "Sample Input 0\n",
        "\n",
        "100,000,000.000\n",
        "Sample Output 0\n",
        "\n",
        "100\n",
        "000\n",
        "000\n",
        "000"
      ]
    },
    {
      "cell_type": "code",
      "metadata": {
        "colab": {
          "base_uri": "https://localhost:8080/"
        },
        "id": "gv95SQzfap_S",
        "outputId": "f783331e-7b9e-473f-e684-b9f5a8456d48"
      },
      "source": [
        "regex_pattern = r\"[,.]\"\t# Do not delete 'r'.\n",
        "\n",
        "import re\n",
        "print(\"\\n\".join(re.split(regex_pattern, input())))"
      ],
      "execution_count": null,
      "outputs": [
        {
          "output_type": "stream",
          "text": [
            "100,000,000.000\n",
            "100\n",
            "000\n",
            "000\n",
            "000\n"
          ],
          "name": "stdout"
        }
      ]
    },
    {
      "cell_type": "markdown",
      "metadata": {
        "id": "SKGVJHi9fJBx"
      },
      "source": [
        "### **Problem - 3: Group(), Groups() & Groupdict()**\n",
        "\n",
        "\n",
        "Task\n",
        "\n",
        "You are given a string .\n",
        "Your task is to find the first occurrence of an alphanumeric character in  (read from left to right) that has consecutive repetitions.\n",
        "\n",
        "Input Format\n",
        "\n",
        "A single line of input containing the string .\n",
        "\n",
        "Constraints\n",
        "\n",
        "\n",
        "Output Format\n",
        "\n",
        "Print the first occurrence of the repeating character. If there are no repeating characters, print -1.\n",
        "\n",
        "Sample Input\n",
        "\n",
        "..12345678910111213141516171820212223\n",
        "Sample Output\n",
        "\n",
        "1\n",
        "Explanation\n",
        "\n",
        ".. is the first repeating character, but it is not alphanumeric.\n",
        "1 is the first (from left to right) alphanumeric repeating character of the string in the substring 111."
      ]
    },
    {
      "cell_type": "code",
      "metadata": {
        "colab": {
          "base_uri": "https://localhost:8080/"
        },
        "id": "D8QPphihik4J",
        "outputId": "dd860a3c-07d2-4af1-920a-25b13e6cf067"
      },
      "source": [
        "import re\n",
        "\n",
        "val = input()\n",
        "character = re.findall(r\"([A-Za-z0-9])\\1+\",val)\n",
        "\n",
        "if character:\n",
        "    print(character[0])\n",
        "else:\n",
        "    print(-1)\n"
      ],
      "execution_count": null,
      "outputs": [
        {
          "output_type": "stream",
          "text": [
            "..12345678910111213141516171820212223\n",
            "1\n"
          ],
          "name": "stdout"
        }
      ]
    },
    {
      "cell_type": "markdown",
      "metadata": {
        "id": "kTWh8ZaFmzvg"
      },
      "source": [
        "### **Problem - 4: Re.findall() & Re.finditer()**\n",
        "\n",
        "You are given a string . It consists of alphanumeric characters, spaces and symbols(+,-).\n",
        "Your task is to find all the substrings of  that contains  or more vowels.\n",
        "Also, these substrings must lie in between  consonants and should contain vowels only.\n",
        "\n",
        "Note :\n",
        "Vowels are defined as: AEIOU and aeiou.\n",
        "Consonants are defined as: QWRTYPSDFGHJKLZXCVBNM and qwrtypsdfghjklzxcvbnm.\n",
        "\n",
        "Input Format\n",
        "\n",
        "A single line of input containing string .\n",
        "\n",
        "Constraints\n",
        "\n",
        "\n",
        "Output Format\n",
        "\n",
        "Print the matched substrings in their order of occurrence on separate lines.\n",
        "If no match is found, print -1.\n",
        "\n",
        "Sample Input\n",
        "\n",
        "rabcdeefgyYhFjkIoomnpOeorteeeeet\n",
        "Sample Output\n",
        "\n",
        "ee\n",
        "Ioo\n",
        "Oeo\n",
        "eeeee\n",
        "Explanation\n",
        "\n",
        "ee is located between consonant  and .\n",
        "Ioo is located between consonant  and .\n",
        "Oeo is located between consonant  and .\n",
        "eeeee is located between consonant  and .\n"
      ]
    },
    {
      "cell_type": "code",
      "metadata": {
        "colab": {
          "base_uri": "https://localhost:8080/"
        },
        "id": "7J-7QQMokK3B",
        "outputId": "7e28363f-7a29-40da-bc94-8584af23e239"
      },
      "source": [
        "import re\n",
        "vowels = \"aeiou\"\n",
        "consonents = \"qwrtypsdfghjklzxcvbnm\"\n",
        "val = re.findall(r\"(?<=[%s])([%s]{2,})[%s]\" % (consonents, vowels, consonents), input(), flags = re.I)\n",
        "print('\\n'.join(val or ['-1']))"
      ],
      "execution_count": null,
      "outputs": [
        {
          "output_type": "stream",
          "text": [
            "rabcdeefgyYhFjkIoomnpOeorteeeeet\n",
            "ee\n",
            "Ioo\n",
            "Oeo\n",
            "eeeee\n"
          ],
          "name": "stdout"
        }
      ]
    },
    {
      "cell_type": "markdown",
      "metadata": {
        "id": "DACGx2Nk41ap"
      },
      "source": [
        "### **Problem - 5: Re.start() & Re.end()**\n",
        "\n",
        "Task\n",
        "You are given a string .\n",
        "Your task is to find the indices of the start and end of string  in .\n",
        "\n",
        "Input Format\n",
        "\n",
        "The first line contains the string .\n",
        "The second line contains the string .\n",
        "\n",
        "Constraints\n",
        "\n",
        "\n",
        "\n",
        "Output Format\n",
        "\n",
        "Print the tuple in this format: (start _index, end _index).\n",
        "If no match is found, print (-1, -1).\n",
        "\n",
        "Sample Input\n",
        "\n",
        "aaadaa\n",
        "aa\n",
        "Sample Output\n",
        "\n",
        "(0, 1)  \n",
        "(1, 2)\n",
        "(4, 5)"
      ]
    },
    {
      "cell_type": "code",
      "metadata": {
        "colab": {
          "base_uri": "https://localhost:8080/"
        },
        "id": "XsBZEGR1nsoK",
        "outputId": "6c83f895-1ab3-484d-d747-5bccfbb2587d"
      },
      "source": [
        "import re\n",
        "\n",
        "in_string = input()\n",
        "sub_string = input()\n",
        "\n",
        "pattern = re.compile(sub_string)\n",
        "\n",
        "pat_search = pattern.search(in_string)\n",
        "\n",
        "if not pat_search:\n",
        "   print(\"(-1, -1)\")\n",
        "\n",
        "\n",
        "while pat_search:\n",
        "  \n",
        "    print(\"({0}, {1})\".format(pat_search.start(), pat_search.end() - 1))\n",
        "    pat_search = pattern.search(in_string,pat_search.start() + 1)\n",
        "\n"
      ],
      "execution_count": null,
      "outputs": [
        {
          "output_type": "stream",
          "text": [
            "aasdfassaaasdfasassaaaaaa\n",
            "aa\n",
            "(0, 1)\n",
            "(8, 9)\n",
            "(9, 10)\n",
            "(19, 20)\n",
            "(20, 21)\n",
            "(21, 22)\n",
            "(22, 23)\n",
            "(23, 24)\n"
          ],
          "name": "stdout"
        }
      ]
    },
    {
      "cell_type": "markdown",
      "metadata": {
        "id": "VH6OTd0HA2js"
      },
      "source": [
        "### **Problem - 6: Regex Substitution**\n",
        "You are given a text of  lines. The text contains && and || symbols.\n",
        "Your task is to modify those symbols to the following:\n",
        "\n",
        "&& → and\n",
        "|| → or\n",
        "Both && and || should have a space \" \" on both sides.\n",
        "\n",
        "Input Format\n",
        "\n",
        "The first line contains the integer, .\n",
        "The next  lines each contain a line of the text.\n",
        "\n",
        "Constraints\n",
        "\n",
        "\n",
        "Neither && nor || occur in the start or end of each line.\n",
        "\n",
        "Output Format\n",
        "\n",
        "Output the modified text.\n",
        "\n",
        "Sample Input\n",
        "\n",
        "11\n",
        "a = 1;\n",
        "b = input();\n",
        "\n",
        "if a + b > 0 && a - b < 0:\n",
        "    start()\n",
        "elif a*b > 10 || a/b < 1:\n",
        "    stop()\n",
        "print set(list(a)) | set(list(b)) \n",
        "\n",
        "Sample Output\n",
        "\n",
        "a = 1;\n",
        "b = input();\n",
        "\n",
        "if a + b > 0 and a - b < 0:\n",
        "    start()\n",
        "elif a*b > 10 or a/b < 1:\n",
        "    stop()\n",
        "print set(list(a)) | set(list(b)) \n",
        "\n"
      ]
    },
    {
      "cell_type": "code",
      "metadata": {
        "colab": {
          "base_uri": "https://localhost:8080/"
        },
        "id": "iwfRfh4Q7mcx",
        "outputId": "5bc55127-2314-48fe-e80f-2d349eec4757"
      },
      "source": [
        "import re \n",
        "\n",
        "for _ in range(int(input())):\n",
        "    str_ = input()\n",
        "    str_ = re.sub(r\"(?<= )(&&)(?= )\", \"and\", str_)\n",
        "    print(re.sub(r\"(?<= )(\\|\\|)(?= )\", \"or\", str_))"
      ],
      "execution_count": null,
      "outputs": [
        {
          "output_type": "stream",
          "text": [
            "4\n",
            "11 a = 1; b = input();  if a + b > 0 && a - b < 0:     start() elif a*b > 10 || a/b < 1:     stop() print set(list(a)) | set(list(b)) \n",
            "11 a = 1; b = input();  if a + b > 0 and a - b < 0:     start() elif a*b > 10 or a/b < 1:     stop() print set(list(a)) | set(list(b)) \n",
            "11 a = 1; b = input();  if a + b > 0 && a - b < 0:     start() elif a*b > 10 || a/b < 1:     stop() print set(list(a)) | set(list(b)) \n",
            "11 a = 1; b = input();  if a + b > 0 && a - b < 0:     start() elif a*b > 10 || a/b < 1:     stop() print set(list(a)) | set(list(b)) \n",
            "11 a = 1; b = input();  if a + b > 0 and a - b < 0:     start() elif a*b > 10 or a/b < 1:     stop() print set(list(a)) | set(list(b)) \n",
            "11 a = 1; b = input();  if a + b > 0 and a - b < 0:     start() elif a*b > 10 or a/b < 1:     stop() print set(list(a)) | set(list(b)) \n",
            "11 a = 1; b = input();  if a + b > 0 && a - b < 0:     start() elif a*b > 10 || a/b < 1:     stop() print set(list(a)) | set(list(b)) \n"
          ],
          "name": "stdout"
        }
      ]
    },
    {
      "cell_type": "markdown",
      "metadata": {
        "id": "vtpyS0g9Q8zE"
      },
      "source": [
        "### **Problem: 7 - HTML Parser - Part1**\n",
        "You are given an HTML code snippet of  lines.\n",
        "Your task is to print start tags, end tags and empty tags separately.\n",
        "\n",
        "Format your results in the following way:\n",
        "\n",
        "Start : Tag1\n",
        "End   : Tag1\n",
        "Start : Tag2\n",
        "-> Attribute2[0] > Attribute_value2[0]\n",
        "-> Attribute2[1] > Attribute_value2[1]\n",
        "-> Attribute2[2] > Attribute_value2[2]\n",
        "Start : Tag3\n",
        "-> Attribute3[0] > None\n",
        "Empty : Tag4\n",
        "-> Attribute4[0] > Attribute_value4[0]\n",
        "End   : Tag3\n",
        "End   : Tag2\n",
        "Here, the -> symbol indicates that the tag contains an attribute. It is immediately followed by the name of the attribute and the attribute value.\n",
        "The > symbol acts as a separator of the attribute and the attribute value.\n",
        "\n",
        "If an HTML tag has no attribute then simply print the name of the tag.\n",
        "If an attribute has no attribute value then simply print the name of the attribute value as None.\n",
        "\n",
        "Note: Do not detect any HTML tag, attribute or attribute value inside the HTML comment tags (<!-- Comments -->).Comments can be multiline as well.\n",
        "\n",
        "Input Format\n",
        "\n",
        "The first line contains integer , the number of lines in a HTML code snippet.\n",
        "The next  lines contain HTML code.\n",
        "\n",
        "Constraints\n",
        "\n",
        "Output Format\n",
        "\n",
        "Print the HTML tags, attributes and attribute values in order of their occurrence from top to bottom in the given snippet.\n",
        "\n",
        "Use proper formatting as explained in the problem statement.\n"
      ]
    },
    {
      "cell_type": "code",
      "metadata": {
        "id": "OkOQrtiHDT0s",
        "colab": {
          "base_uri": "https://localhost:8080/"
        },
        "outputId": "a2551e96-c627-4f93-d313-979ae282bfc2"
      },
      "source": [
        "#reference from google\n",
        "\n",
        "from html.parser import HTMLParser\n",
        "class MyHTMLParser(HTMLParser):\n",
        "    def handle_starttag(self, tag, attrs):        \n",
        "        print ('Start :',tag)\n",
        "        for ele in attrs:\n",
        "            print ('->',ele[0],'>',ele[1])\n",
        "            \n",
        "    def handle_endtag(self, tag):\n",
        "        print ('End   :',tag)\n",
        "        \n",
        "    def handle_startendtag(self, tag, attrs):\n",
        "        print ('Empty :',tag)\n",
        "        for ele in attrs:\n",
        "            print ('->',ele[0],'>',ele[1])\n",
        "            \n",
        "MyParser = MyHTMLParser()\n",
        "MyParser.feed(''.join([input().strip() for _ in range(int(input()))]))"
      ],
      "execution_count": 1,
      "outputs": [
        {
          "output_type": "stream",
          "text": [
            "2\n",
            "<html><head><title>HTML Parser - I</title></head>\n",
            "<body data-modal-target class='1'><h1>HackerRank</h1><br /></body></html>\n"
          ],
          "name": "stdout"
        }
      ]
    },
    {
      "cell_type": "markdown",
      "metadata": {
        "id": "bLsPuvpWSFKZ"
      },
      "source": [
        "### **Problem - 8 :HTML Parser - Part 2**\n",
        "\n",
        "\n",
        "The first line contains integer , the number of lines in the HTML code snippet.\n",
        "The next  lines contains HTML code.\n",
        "\n",
        "Constraints\n",
        "\n",
        "\n",
        "Output Format\n",
        "\n",
        "Print the single-line comments, multi-line comments and the data in order of their occurrence from top to bottom in the snippet.\n",
        "\n",
        "Format the answers as explained in the problem statement.\n"
      ]
    },
    {
      "cell_type": "code",
      "metadata": {
        "colab": {
          "base_uri": "https://localhost:8080/"
        },
        "id": "7Tun4AhPRiFN",
        "outputId": "0d0b5083-88c5-422c-9368-eafd0c7daf75"
      },
      "source": [
        "#reference from google\n",
        "from html.parser import HTMLParser\n",
        "html = \"\"\n",
        "class MyHTMLParser(HTMLParser):\n",
        "    def handle_comment(self,data):\n",
        "        if('\\n' in data):\n",
        "            print(\">>> Multi-line Comment\")\n",
        "        else:\n",
        "            print(\">>> Single-line Comment\")\n",
        "        print(data)\n",
        "    def handle_data(self,data):\n",
        "        if(data != '\\n'):\n",
        "            print(\">>> Data\")\n",
        "            print(data)\n",
        "             \n",
        "for i in range(int(input())):\n",
        "    html += input().rstrip()\n",
        "    html += '\\n'\n",
        "#print(html)    \n",
        "parser = MyHTMLParser()\n",
        "parser.feed(html)\n",
        "parser.close()"
      ],
      "execution_count": 2,
      "outputs": [
        {
          "output_type": "stream",
          "text": [
            "4\n",
            "<!--[if IE 9]>IE9-specific content <![endif]-->\n",
            "<div> Welcome to HackerRank</div>\n",
            "<!--[if IE 9]>IE9-specific content<![endif]-->\n",
            "<!--[if IE 9]>IE9-specific content<![endif]-->\n",
            ">>> Single-line Comment\n",
            "[if IE 9]>IE9-specific content <![endif]\n",
            ">>> Data\n",
            " Welcome to HackerRank\n",
            ">>> Single-line Comment\n",
            "[if IE 9]>IE9-specific content<![endif]\n",
            ">>> Single-line Comment\n",
            "[if IE 9]>IE9-specific content<![endif]\n"
          ],
          "name": "stdout"
        }
      ]
    },
    {
      "cell_type": "markdown",
      "metadata": {
        "id": "-BSHtteYTICj"
      },
      "source": [
        "### **Problem - 9: Detect HTML Tags, Attributes and Attribute Values**\n",
        "\n",
        "Input Format\n",
        "\n",
        "The first line contains an integer , the number of lines in the HTML code snippet.\n",
        "The next  lines contain HTML code.\n",
        "\n",
        "Constraints\n",
        "\n",
        "\n",
        "Output Format\n",
        "\n",
        "Print the HTML tags, attributes and attribute values in order of their occurrence from top to bottom in the snippet.\n",
        "\n",
        "Format your answers as explained in the problem statement.\n"
      ]
    },
    {
      "cell_type": "code",
      "metadata": {
        "colab": {
          "base_uri": "https://localhost:8080/"
        },
        "id": "DxlyKJ5QSu6A",
        "outputId": "217a3c02-def5-4c9e-cfc2-f5f7551b0f96"
      },
      "source": [
        "\n",
        "#reference from google\n",
        "# Enter your code here. Read input from STDIN. Print output to STDOUT\n",
        "from html.parser import HTMLParser\n",
        "class MyHTMLParser(HTMLParser):\n",
        "    def handle_starttag(self, tag, attrs):\n",
        "        print(tag)\n",
        "        [print('-> {} > {}'.format(*attr)) for attr in attrs]\n",
        "        \n",
        "html = '\\n'.join([input() for _ in range(int(input()))])\n",
        "parser = MyHTMLParser()\n",
        "parser.feed(html)\n",
        "parser.close()"
      ],
      "execution_count": 4,
      "outputs": [
        {
          "output_type": "stream",
          "text": [
            "1\n",
            "<head> <title>HTML</title> </head> <object type=\"application/x-flash\"    data=\"your-file.swf\"    width=\"0\" height=\"0\">   <!-- <param name=\"movie\" value=\"your-file.swf\" /> -->   <param name=\"quality\" value=\"high\"/> </object>\n",
            "head\n",
            "title\n",
            "object\n",
            "-> type > application/x-flash\n",
            "-> data > your-file.swf\n",
            "-> width > 0\n",
            "-> height > 0\n",
            "param\n",
            "-> name > quality\n",
            "-> value > high\n"
          ],
          "name": "stdout"
        }
      ]
    },
    {
      "cell_type": "markdown",
      "metadata": {
        "id": "eNShlf8PT2MY"
      },
      "source": [
        "### **Problem - 10: Validating UID**\n",
        "ABCXYZ company has up to  employees.\n",
        "The company decides to create a unique identification number (UID) for each of its employees.\n",
        "The company has assigned you the task of validating all the randomly generated UIDs.\n",
        "\n",
        "A valid UID must follow the rules below:\n",
        "\n",
        "It must contain at least  uppercase English alphabet characters.\n",
        "It must contain at least  digits ( - ).\n",
        "It should only contain alphanumeric characters ( - ,  -  &  - ).\n",
        "No character should repeat.\n",
        "There must be exactly  characters in a valid UID.\n",
        "Input Format\n",
        "\n",
        "The first line contains an integer , the number of test cases.\n",
        "The next  lines contains an employee's UID.\n",
        "\n",
        "Output Format\n",
        "\n",
        "For each test case, print 'Valid' if the UID is valid. Otherwise, print 'Invalid', on separate lines. Do not print the quotation marks.\n",
        "\n",
        "Sample Input\n",
        "\n",
        "2\n",
        "B1CD102354\n",
        "B1CDEF2354\n",
        "Sample Output\n",
        "\n",
        "Invalid\n",
        "Valid\n",
        "Explanation\n",
        "\n",
        "B1CD102354:  is repeating → Invalid\n",
        "B1CDEF2354: Valid\n"
      ]
    },
    {
      "cell_type": "code",
      "metadata": {
        "colab": {
          "base_uri": "https://localhost:8080/"
        },
        "id": "xOPAw5q5TmAG",
        "outputId": "882bcb13-0f6e-4bca-bb81-60b75d0f76f5"
      },
      "source": [
        "import re\n",
        "\n",
        "val = int(input())\n",
        "for _ in range(val):\n",
        "    uid = ''.join(sorted(input()))\n",
        "    try:\n",
        "        assert re.search(r'[A-Z]{2}', uid)\n",
        "        assert re.search(r'\\d\\d\\d', uid)\n",
        "        assert not re.search(r'[^a-zA-Z0-9]', uid)\n",
        "        assert not re.search(r'(.)\\1', uid)\n",
        "        assert len(uid) == 10\n",
        "    except:\n",
        "        print('Invalid')\n",
        "    else:\n",
        "        print('Valid')"
      ],
      "execution_count": 7,
      "outputs": [
        {
          "output_type": "stream",
          "text": [
            "2\n",
            "B1CD102354\n",
            "Invalid\n",
            "B1CDEF2354\n",
            "Valid\n"
          ],
          "name": "stdout"
        }
      ]
    },
    {
      "cell_type": "markdown",
      "metadata": {
        "id": "-JASR4XhUtii"
      },
      "source": [
        "### **Problem - 11: Validating Credit Card Numbers**\n",
        "\n",
        "Input Format\n",
        "\n",
        "The first line of input contains an integer .\n",
        "The next  lines contain credit card numbers.\n",
        "\n",
        "Constraints\n",
        "\n",
        "\n",
        "Output Format\n",
        "\n",
        "Print 'Valid' if the credit card number is valid. Otherwise, print 'Invalid'. Do not print the quotes.\n",
        "\n",
        "Sample Input\n",
        "\n",
        "6\n",
        "4123456789123456\n",
        "5123-4567-8912-3456\n",
        "61234-567-8912-3456\n",
        "4123356789123456\n",
        "5133-3367-8912-3456\n",
        "5123 - 3567 - 8912 - 3456\n",
        "Sample Output\n",
        "\n",
        "Valid\n",
        "Valid\n",
        "Invalid\n",
        "Valid\n",
        "Invalid\n",
        "Invalid\n",
        "Explanation\n",
        "\n",
        "4123456789123456 : Valid\n",
        "5123-4567-8912-3456 : Valid\n",
        "61234--8912-3456 : Invalid, because the card number is not divided into equal groups of .\n",
        "4123356789123456 : Valid\n",
        "51-67-8912-3456 : Invalid, consecutive digits  is repeating  times.\n",
        "5123456789123456 : Invalid, because space '  ' and - are used as separators.\n"
      ]
    },
    {
      "cell_type": "code",
      "metadata": {
        "colab": {
          "base_uri": "https://localhost:8080/"
        },
        "id": "qrpcTRKkUPeM",
        "outputId": "3b88de5e-5fd9-41ac-ec45-968b6c7387fd"
      },
      "source": [
        "import re\n",
        "val = re.compile(\n",
        "    r\"^\"\n",
        "    r\"(?!.*(\\d)(-?\\1){3})\"\n",
        "    r\"[456]\"\n",
        "    r\"\\d{3}\"\n",
        "    r\"(?:-?\\d{4}){3}\"\n",
        "    r\"$\")\n",
        "for _ in range(int(input().strip())):\n",
        "    print(\"Valid\" if val.search(input().strip()) else \"Invalid\")"
      ],
      "execution_count": 9,
      "outputs": [
        {
          "output_type": "stream",
          "text": [
            "2\n",
            "5123 - 3567 - 8912 - 3456\n",
            "Invalid\n",
            "5123-4567-8912-3456\n",
            "Valid\n"
          ],
          "name": "stdout"
        }
      ]
    },
    {
      "cell_type": "markdown",
      "metadata": {
        "id": "8NMDYf0MVmVr"
      },
      "source": [
        "### **Problem - 12: Validating Postal Codes**\n",
        "\n",
        "Input Format\n",
        "\n",
        "Locked stub code in the editor reads a single string denoting  from stdin and uses provided expression and your regular expressions to validate if  is a valid postal code.\n",
        "\n",
        "Output Format\n",
        "\n",
        "You are not responsible for printing anything to stdout. Locked stub code in the editor does that.\n",
        "\n",
        "Sample Input 0\n",
        "\n",
        "110000\n",
        "Sample Output 0\n",
        "\n",
        "False\n",
        "Explanation 0\n",
        "\n",
        "1 1 0000 : (0, 0) and (0, 0) are two alternating digit pairs. Hence, it is an invalid postal code.\n",
        "\n",
        "Note:\n",
        "A score of  will be awarded for using 'if' conditions in your code.\n",
        "You have to pass all the testcases to get a positive score.\n"
      ]
    },
    {
      "cell_type": "code",
      "metadata": {
        "colab": {
          "base_uri": "https://localhost:8080/"
        },
        "id": "LUTuH6GiVQ2b",
        "outputId": "72e03998-f3fd-4ae6-e30e-854338e6484f"
      },
      "source": [
        "regex_integer_in_range = r\"^[1-9][0-9]{5}$\"\n",
        "regex_alternating_repetitive_digit_pair = r\"(\\d)(?=.\\1)\"\n",
        "\n",
        "import re\n",
        "P = input()\n",
        "\n",
        "print (bool(re.match(regex_integer_in_range, P)) \n",
        "and len(re.findall(regex_alternating_repetitive_digit_pair, P)) < 2)"
      ],
      "execution_count": 10,
      "outputs": [
        {
          "output_type": "stream",
          "text": [
            "110000\n",
            "False\n"
          ],
          "name": "stdout"
        }
      ]
    },
    {
      "cell_type": "markdown",
      "metadata": {
        "id": "jzjNSx1FXGj4"
      },
      "source": [
        "### **Problem - 13: Matrix Script**\n",
        "The first line contains space-separated integers  (rows) and  (columns) respectively.\n",
        "The next  lines contain the row elements of the matrix script.\n",
        "\n",
        "Constraints\n",
        "\n",
        "\n",
        "Note: A  score will be awarded for using 'if' conditions in your code.\n",
        "\n",
        "Output Format\n",
        "\n",
        "Print the decoded matrix script.\n",
        "\n",
        "Sample Input 0\n",
        "\n",
        "7 3\n",
        "Tsi\n",
        "h%x\n",
        "i #\n",
        "sM \n",
        "$a \n",
        "t%\n",
        "ir!\n",
        "Sample Output 0\n",
        "\n",
        "This is Matrix#  %!\n"
      ]
    },
    {
      "cell_type": "code",
      "metadata": {
        "colab": {
          "base_uri": "https://localhost:8080/"
        },
        "id": "qxswMv_CWsfn",
        "outputId": "09c11722-e628-4299-88f8-48854a7122ba"
      },
      "source": [
        "import math\n",
        "import os\n",
        "import random\n",
        "import re\n",
        "import sys\n",
        "\n",
        "\n",
        "first_multiple_input = input().rstrip().split()\n",
        "\n",
        "num1 = int(first_multiple_input[0])\n",
        "\n",
        "num2 = int(first_multiple_input[1])\n",
        "\n",
        "matrix = []\n",
        "\n",
        "for _ in range(num1):\n",
        "    matrix_item = input()\n",
        "    matrix.append(matrix_item)\n",
        "\n",
        "encoded_string = \"\".join([matrix[j][i] for i in range(num2) for j in range(num1)])\n",
        "pat = r'(?<=[a-zA-Z0-9])[^a-zA-Z0-9]+(?=[a-zA-Z0-9])'\n",
        "print(re.sub(pat,' ',encoded_string))"
      ],
      "execution_count": 15,
      "outputs": [
        {
          "output_type": "stream",
          "text": [
            "3 2\n",
            "7 3 Tsi h%x i # sM  $a  #t% ir!\n",
            "7 3 Tsi h%x i # sM  $a  #t% ir!\n",
            "7 3 Tsi h%x i # sM  $a  #t% ir!\n",
            "777   \n"
          ],
          "name": "stdout"
        }
      ]
    },
    {
      "cell_type": "code",
      "metadata": {
        "id": "vtAnG-UBXsUL"
      },
      "source": [
        ""
      ],
      "execution_count": null,
      "outputs": []
    }
  ]
}