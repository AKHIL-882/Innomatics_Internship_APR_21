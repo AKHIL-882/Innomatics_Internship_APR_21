{
  "nbformat": 4,
  "nbformat_minor": 0,
  "metadata": {
    "colab": {
      "name": "Innomatics Task 1.ipynb",
      "provenance": []
    },
    "kernelspec": {
      "name": "python3",
      "display_name": "Python 3"
    },
    "language_info": {
      "name": "python"
    }
  },
  "cells": [
    {
      "cell_type": "markdown",
      "metadata": {
        "id": "SDkptbCT_FRw"
      },
      "source": [
        "### **Problem - 1: Say \"Hello, World!\" With Python**"
      ]
    },
    {
      "cell_type": "code",
      "metadata": {
        "colab": {
          "base_uri": "https://localhost:8080/"
        },
        "id": "AloANHzQ-UBZ",
        "outputId": "b89f407e-3eea-4eea-f75c-8658acf93c67"
      },
      "source": [
        "\n",
        "#print statement is the function which is used to display output\n",
        "print(\"Hello, World!\")"
      ],
      "execution_count": 1,
      "outputs": [
        {
          "output_type": "stream",
          "text": [
            "Hello, World!\n"
          ],
          "name": "stdout"
        }
      ]
    },
    {
      "cell_type": "code",
      "metadata": {
        "id": "1NCA9UohEquD"
      },
      "source": [
        ""
      ],
      "execution_count": null,
      "outputs": []
    },
    {
      "cell_type": "markdown",
      "metadata": {
        "id": "PxxbD2id_xd_"
      },
      "source": [
        "### **Problem - 2 : Arithmetic Operators**\n",
        "\n",
        "Task\n",
        "The provided code stub reads two integers from STDIN,  and . Add code to print three lines where:\n",
        "\n",
        "The first line contains the sum of the two numbers.\n",
        "The second line contains the difference of the two numbers (first - second).\n",
        "The third line contains the product of the two numbers.\n",
        "Example\n",
        "\n",
        "\n",
        "Print the following:\n",
        "\n",
        "8\n",
        "-2\n",
        "15\n",
        "Input Format\n",
        "\n",
        "The first line contains the first integer, .\n",
        "The second line contains the second integer, .\n",
        "\n",
        "Constraints\n",
        "\n",
        "\n",
        "\n",
        "Output Format\n",
        "\n",
        "Print the three lines as explained above.\n",
        "\n",
        "Sample Input 0\n",
        "\n",
        "3\n",
        "2\n",
        "\n",
        "Sample Output 0\n",
        "\n",
        "5\n",
        "1\n",
        "6"
      ]
    },
    {
      "cell_type": "code",
      "metadata": {
        "colab": {
          "base_uri": "https://localhost:8080/"
        },
        "id": "eXp4Z8Tj_t3q",
        "outputId": "9b9ca6bb-65ba-4e62-c221-c9965887de68"
      },
      "source": [
        "num1 = int(input())\n",
        "num2 = int(input())\n",
        "print(num1 + num2)\n",
        "print(num1 - num2)\n",
        "print(num1 * num2)"
      ],
      "execution_count": 4,
      "outputs": [
        {
          "output_type": "stream",
          "text": [
            "3\n",
            "2\n",
            "5\n",
            "1\n",
            "6\n"
          ],
          "name": "stdout"
        }
      ]
    },
    {
      "cell_type": "markdown",
      "metadata": {
        "id": "2wyzYnTeB1Jy"
      },
      "source": [
        "### **Problem - 3: Python: Division**\n",
        "\n",
        "Task\n",
        "The provided code stub reads two integers,  and , from STDIN.\n",
        "\n",
        "Add logic to print two lines. The first line should contain the result of integer division,  // . The second line should contain the result of float division,  / .\n",
        "\n",
        "No rounding or formatting is necessary.\n",
        "\n",
        "Example\n",
        "\n",
        "\n",
        "The result of the integer division .\n",
        "The result of the float division is .\n",
        "Print:\n",
        "\n",
        "0\n",
        "0.6\n",
        "Input Format\n",
        "\n",
        "The first line contains the first integer, .\n",
        "The second line contains the second integer, .\n",
        "\n",
        "Output Format\n",
        "\n",
        "Print the two lines as described above.\n",
        "\n",
        "Sample Input 0\n",
        "\n",
        "\n",
        "4\n",
        "3\n",
        "\n",
        "Sample Output 0\n",
        "\n",
        "\n",
        "1\n",
        "1.33333333333\n",
        "\n"
      ]
    },
    {
      "cell_type": "code",
      "metadata": {
        "colab": {
          "base_uri": "https://localhost:8080/"
        },
        "id": "UhST421fAj7r",
        "outputId": "b09e03ac-c9cd-409a-a22d-72ec415dfe29"
      },
      "source": [
        "num1 = int(input())\n",
        "num2 = int(input())\n",
        "print(num1//num2)\n",
        "print(num1/num2)"
      ],
      "execution_count": 5,
      "outputs": [
        {
          "output_type": "stream",
          "text": [
            "4\n",
            "3\n",
            "1\n",
            "1.3333333333333333\n"
          ],
          "name": "stdout"
        }
      ]
    },
    {
      "cell_type": "markdown",
      "metadata": {
        "id": "8JYH89CdEv6N"
      },
      "source": [
        "### **Problem - 4 : Loops**\n",
        "\n",
        "\n",
        "Task\n",
        "The provided code stub reads and integer, , from STDIN. For all non-negative integers , print .\n",
        "\n",
        "Example\n",
        "\n",
        "The list of non-negative integers that are less than  is . Print the square of each number on a separate line.\n",
        "\n",
        "0\n",
        "1\n",
        "4\n",
        "Input Format\n",
        "\n",
        "The first and only line contains the integer, .\n",
        "\n",
        "Constraints\n",
        "\n",
        "\n",
        "Output Format\n",
        "\n",
        "Print  lines, one corresponding to each .\n",
        "\n",
        "Sample Input 0\n",
        "\n",
        "5\n",
        "\n",
        "Sample Output 0\n",
        "\n",
        "\n",
        "0\n",
        "1\n",
        "4\n",
        "9\n",
        "16"
      ]
    },
    {
      "cell_type": "code",
      "metadata": {
        "colab": {
          "base_uri": "https://localhost:8080/"
        },
        "id": "awPj1Ub0C3bI",
        "outputId": "9f202f8c-2325-4331-ea1f-38f7d136eadd"
      },
      "source": [
        "size = int(input())\n",
        "for i in range(0,size):\n",
        "  print(i*i)\n",
        "  "
      ],
      "execution_count": 6,
      "outputs": [
        {
          "output_type": "stream",
          "text": [
            "5\n",
            "0\n",
            "1\n",
            "4\n",
            "9\n",
            "16\n"
          ],
          "name": "stdout"
        }
      ]
    },
    {
      "cell_type": "markdown",
      "metadata": {
        "id": "-IX2UX2JGpak"
      },
      "source": [
        "### **Problem - 5 : Write a function** \n",
        "\n",
        "An extra day is added to the calendar almost every four years as February 29, and the day is called a leap day. It corrects the calendar for the fact that our planet takes approximately 365.25 days to orbit the sun. A leap year contains a leap day.\n",
        "\n",
        "In the Gregorian calendar, three conditions are used to identify leap years:\n",
        "\n",
        "The year can be evenly divided by 4, is a leap year, unless:\n",
        "The year can be evenly divided by 100, it is NOT a leap year, unless:\n",
        "The year is also evenly divisible by 400. Then it is a leap year.\n",
        "This means that in the Gregorian calendar, the years 2000 and 2400 are leap years, while 1800, 1900, 2100, 2200, 2300 and 2500 are NOT leap years. Source\n",
        "\n",
        "Task\n",
        "\n",
        "Given a year, determine whether it is a leap year. If it is a leap year, return the Boolean True, otherwise return False.\n",
        "\n",
        "Note that the code stub provided reads from STDIN and passes arguments to the is_leap function. It is only necessary to complete the is_leap function.\n",
        "\n",
        "Input Format\n",
        "\n",
        "Read , the year to test.\n",
        "\n",
        "Constraints\n",
        "\n",
        "\n",
        "Output Format\n",
        "\n",
        "The function must return a Boolean value (True/False). Output is handled by the provided code stub.\n",
        "\n",
        "Sample Input 0\n",
        "\n",
        "\n",
        "1990\n",
        "\n",
        "\n",
        "Sample Output 0\n",
        "\n",
        "\n",
        "False\n",
        "\n"
      ]
    },
    {
      "cell_type": "code",
      "metadata": {
        "colab": {
          "base_uri": "https://localhost:8080/"
        },
        "id": "ZjKZBL8aJLC5",
        "outputId": "a202c108-6744-45cb-a826-e56ad12db978"
      },
      "source": [
        "def is_leap(year):\n",
        "    if(year %4) == 0:\n",
        "        if(year % 100) == 0:\n",
        "            if(year % 400) == 0:\n",
        "                return(True)\n",
        "            else:\n",
        "                return(False)\n",
        "        else:\n",
        "            return(True)\n",
        "    else:\n",
        "        return(False)\n",
        "    \n",
        "year = int(input())\n",
        "print(is_leap(year))"
      ],
      "execution_count": 13,
      "outputs": [
        {
          "output_type": "stream",
          "text": [
            "2016\n",
            "True\n"
          ],
          "name": "stdout"
        }
      ]
    },
    {
      "cell_type": "markdown",
      "metadata": {
        "id": "P_0i8iqAKb_7"
      },
      "source": [
        "### **Problem - 6: Print Function**\n",
        "\n",
        "\n",
        "The included code stub will read an integer, , from STDIN.\n",
        "\n",
        "Without using any string methods, try to print the following:\n",
        "\n",
        "\n",
        "Note that \"\" represents the consecutive values in between.\n",
        "\n",
        "Example\n",
        "\n",
        "Print the string .\n",
        "\n",
        "Input Format\n",
        "\n",
        "The first line contains an integer .\n",
        "\n",
        "Constraints\n",
        "\n",
        "\n",
        "Output Format\n",
        "\n",
        "Print the list of integers from  through  as a string, without spaces.\n",
        "\n",
        "Sample Input 0\n",
        "\n",
        "3\n",
        "\n",
        "\n",
        "Sample Output 0\n",
        "\n",
        "\n",
        "\n",
        "123"
      ]
    },
    {
      "cell_type": "code",
      "metadata": {
        "colab": {
          "base_uri": "https://localhost:8080/"
        },
        "id": "RKAI-WLjKTGn",
        "outputId": "a5e8d033-af57-4cc5-c79d-b1c0e1f08238"
      },
      "source": [
        "num = int(input())\n",
        "for i in range(1,num+1):\n",
        "  print(i, end =\"\")"
      ],
      "execution_count": 18,
      "outputs": [
        {
          "output_type": "stream",
          "text": [
            "3\n",
            "123"
          ],
          "name": "stdout"
        }
      ]
    },
    {
      "cell_type": "markdown",
      "metadata": {
        "id": "fGGJRgLyMRdI"
      },
      "source": [
        "### **Problem - 7 : Python If-Else**\n",
        "Task\n",
        "Given an integer, , perform the following conditional actions:\n",
        "\n",
        "If  is odd, print Weird\n",
        "If  is even and in the inclusive range of  to , print Not Weird\n",
        "If  is even and in the inclusive range of  to , print Weird\n",
        "If  is even and greater than , print Not Weird\n",
        "Input Format\n",
        "\n",
        "A single line containing a positive integer, .\n",
        "\n",
        "Constraints\n",
        "\n",
        "Output Format\n",
        "\n",
        "Print Weird if the number is weird. Otherwise, print Not Weird.\n",
        "\n",
        "Sample Input 0\n",
        "\n",
        "3\n",
        "Sample Output 0\n",
        "\n",
        "Weird\n",
        "Explanation 0\n",
        "\n",
        "\n",
        " is odd and odd numbers are weird, so print Weird.\n",
        "\n",
        "Sample Input 1\n",
        "\n",
        "24\n",
        "\n",
        "Sample Output 1\n",
        "\n",
        "Not Weird\n",
        "\n",
        "Explanation 1\n",
        "\n",
        "\n",
        " and  is even, so it is not weird.\n"
      ]
    },
    {
      "cell_type": "code",
      "metadata": {
        "colab": {
          "base_uri": "https://localhost:8080/"
        },
        "id": "ZOjC90XiLYPo",
        "outputId": "20669a43-305d-492b-e15a-c418803594f4"
      },
      "source": [
        "num = int(input())\n",
        "if(num % 2 !=0):\n",
        "  print(\"Weird\")\n",
        "else:\n",
        "  if(num >=2 and num <=5):\n",
        "    print(\"Not Weird\")\n",
        "  elif(num >=6 and num <=20):\n",
        "    print(\"Weird\")\n",
        "  else:\n",
        "    print(\"Not Weird\")"
      ],
      "execution_count": 31,
      "outputs": [
        {
          "output_type": "stream",
          "text": [
            "5\n",
            "Weird\n"
          ],
          "name": "stdout"
        }
      ]
    },
    {
      "cell_type": "code",
      "metadata": {
        "id": "njzyv8o4N8Dv"
      },
      "source": [
        ""
      ],
      "execution_count": null,
      "outputs": []
    }
  ]
}